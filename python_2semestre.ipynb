{
  "nbformat": 4,
  "nbformat_minor": 0,
  "metadata": {
    "colab": {
      "provenance": [],
      "collapsed_sections": [
        "_BGshMO2gS7c",
        "GKgUoKGZgv6Z",
        "mJ5B2BnLqCqN",
        "VmMFYk3B-rOO",
        "8HCYL6RllQOx"
      ]
    },
    "kernelspec": {
      "name": "python3",
      "display_name": "Python 3"
    },
    "language_info": {
      "name": "python"
    }
  },
  "cells": [
    {
      "cell_type": "markdown",
      "source": [
        "> # Laboratório de Desenvolvimento de Algoritmos & Técnicas de Desenvolvimento de Algoritmos\n",
        "\n",
        "---"
      ],
      "metadata": {
        "id": "kameCIJB3jTM"
      }
    },
    {
      "cell_type": "markdown",
      "source": [
        "### Meu Notebook Google Colab das disciplinas que utilizam linguagem python\n",
        "+ ### CIÊNCIA DA COMPUTAÇÃO\n",
        "+ ### UNIFRAN - 2º Semestre (2022)\n",
        "+ ### Profº Fabiano Magrin\n",
        "+ ### Aluno: `Willian Brito de Lima`\n",
        "\n",
        "\n"
      ],
      "metadata": {
        "id": "M41tWgCY34vD"
      }
    },
    {
      "cell_type": "markdown",
      "source": [
        "---"
      ],
      "metadata": {
        "id": "hAeGmDay5f03"
      }
    },
    {
      "cell_type": "markdown",
      "metadata": {
        "id": "_BGshMO2gS7c"
      },
      "source": [
        "> # **`Laboratório e Técnicas de Desenvolvimento de Algoritmos`**\n",
        "> ### **Ciência da Computação - 2º semestre**\n",
        "---\n",
        "---"
      ]
    },
    {
      "cell_type": "markdown",
      "metadata": {
        "id": "_T3eTBmghImC"
      },
      "source": [
        "> # **Revisão:**\n",
        "---\n",
        "---\n",
        "+ ## Estrutura lógica sequencial (bloco de comandos).\n",
        "    + ### Variáveis e Comandos de Entrada e Saída de dados.\n",
        "    + ### Comando de atribuição, cálculos e funções matemáticas.\n",
        "+ ## Estrutura lógica condicional (simples e composta).\n",
        "    + ### Operadores relacionais e operadores lógicos."
      ]
    },
    {
      "cell_type": "markdown",
      "metadata": {
        "id": "ylzwPZhKiizU"
      },
      "source": [
        "> ## **Estrutura lógica sequencial (bloco de comandos)**:\n",
        "---\n",
        "+ ### Variáveis:\n",
        "    + #### Regra para nomes de variáveis: `letra ou _, seguido ou não de letras, dígitos ou _`."
      ]
    },
    {
      "cell_type": "code",
      "metadata": {
        "colab": {
          "base_uri": "https://localhost:8080/"
        },
        "id": "J-DHldHOisX3",
        "outputId": "57bbeb36-844b-4f12-c28b-804278885dfb"
      },
      "source": [
        "a = 10\n",
        "b = 20\n",
        "soma = a + b\n",
        "print('Soma =', soma)"
      ],
      "execution_count": null,
      "outputs": [
        {
          "output_type": "stream",
          "name": "stdout",
          "text": [
            "Soma = 30\n"
          ]
        }
      ]
    },
    {
      "cell_type": "markdown",
      "metadata": {
        "id": "8zje4UbeWowz"
      },
      "source": [
        "> ### **Operadores matemáticos:**\n",
        "---\n",
        "\n",
        "+ ### Adição: `+`\n",
        "+ ### Subtração: `-`\n",
        "+ ### Multiplicação: `*`\n",
        "+ ### Divisão: `/`\n",
        "+ ### Resto da divisão: `%`\n",
        "+ ### Quociente da divisão: `//`\n",
        "+ ### Potência: `**`"
      ]
    },
    {
      "cell_type": "code",
      "metadata": {
        "id": "s-iaYWwEXVOO",
        "colab": {
          "base_uri": "https://localhost:8080/"
        },
        "outputId": "67573205-545b-4239-fd02-177bdcac8d42"
      },
      "source": [
        "print(5 + 7)\n",
        "print(5 - 9)\n",
        "print(3 * 6)\n",
        "print(5 / 2)\n",
        "print(11 % 3)\n",
        "print(11 // 3)\n",
        "print(2 ** 10)"
      ],
      "execution_count": 1,
      "outputs": [
        {
          "output_type": "stream",
          "name": "stdout",
          "text": [
            "12\n",
            "-4\n",
            "18\n",
            "2.5\n",
            "2\n",
            "3\n",
            "1024\n"
          ]
        }
      ]
    },
    {
      "cell_type": "markdown",
      "metadata": {
        "id": "t9ggSmiXZCNj"
      },
      "source": [
        "> ### `Exemplo`: calcular e mostrar a área de um retângulo, onde o usuário fornece os lados.\n",
        "---"
      ]
    },
    {
      "cell_type": "code",
      "metadata": {
        "colab": {
          "base_uri": "https://localhost:8080/"
        },
        "id": "tXJC_YCbZZb1",
        "outputId": "5556bad8-1c6c-4653-f558-00d18981ac86"
      },
      "source": [
        "# área de um retângulo\n",
        "\n",
        "lado1 = float(input('Lado 1 (m): '))  # entrada\n",
        "lado2 = float(input('\\nLado 2 (m): '))  # entrada\n",
        "area = lado1 * lado2\n",
        "print(f'\\nÁrea do retângulo = {lado1:.2f} x {lado2:.2f} = {area:.2f} m²')  # saída"
      ],
      "execution_count": null,
      "outputs": [
        {
          "output_type": "stream",
          "name": "stdout",
          "text": [
            "Lado 1 (m): 10\n",
            "\n",
            "Lado 2 (m): 4.56\n",
            "\n",
            "Área do retângulo = 10.00 x 4.56 = 45.60 m²\n"
          ]
        }
      ]
    },
    {
      "cell_type": "code",
      "source": [
        "# Em python, o operador de potência tem precedência da direita para esquerda:\n",
        "print(2 ** 3 ** 2)\n",
        "print((2 ** 3) ** 2)"
      ],
      "metadata": {
        "colab": {
          "base_uri": "https://localhost:8080/"
        },
        "id": "Jr1LAH3JbwGg",
        "outputId": "2ef77ef5-7e84-48e9-90ba-ec0d7b85a211"
      },
      "execution_count": null,
      "outputs": [
        {
          "output_type": "stream",
          "name": "stdout",
          "text": [
            "512\n",
            "64\n"
          ]
        }
      ]
    },
    {
      "cell_type": "code",
      "source": [
        "# Função hypot do método math -> Calcula a hipotenusa de um triângulo retângulo dados seus catetos\n",
        "import math\n",
        "math.hypot(3, 4)"
      ],
      "metadata": {
        "colab": {
          "base_uri": "https://localhost:8080/"
        },
        "id": "u4o_2Av3addJ",
        "outputId": "61482188-1d47-4ad0-ea3b-bc08ae3fdca2"
      },
      "execution_count": null,
      "outputs": [
        {
          "output_type": "execute_result",
          "data": {
            "text/plain": [
              "5.0"
            ]
          },
          "metadata": {},
          "execution_count": 8
        }
      ]
    },
    {
      "cell_type": "markdown",
      "metadata": {
        "id": "GKgUoKGZgv6Z"
      },
      "source": [
        "> ### **Funções matemáticas:**\n",
        "---\n",
        "+ ### Módulo (biblioteca) `math` (import)."
      ]
    },
    {
      "cell_type": "markdown",
      "metadata": {
        "id": "LFTGWHiOx2l8"
      },
      "source": [
        "> ### `Exemplos`:"
      ]
    },
    {
      "cell_type": "code",
      "metadata": {
        "colab": {
          "base_uri": "https://localhost:8080/"
        },
        "id": "TP8zfuush-EF",
        "outputId": "7266db93-92b5-46c8-b6f4-f4db3f5282e6"
      },
      "source": [
        "# Exemplo de cálculo da hipotenusa de um triângulo retângulo\n",
        "\n",
        "from math import sqrt # use 'import math' para importar o módulo inteiro\n",
        "\n",
        "ca = float(input('Cateto A: '))\n",
        "cb = float(input('\\nCateto B: '))\n",
        "hi = sqrt(ca ** 2 + cb ** 2)  # Ou ainda: (ca ** 2 + cb ** 2) ** 0.5\n",
        "print(f'\\nHipotenusa = {hi:.3f}')"
      ],
      "execution_count": null,
      "outputs": [
        {
          "output_type": "stream",
          "name": "stdout",
          "text": [
            "Cateto A: 3\n",
            "\n",
            "Cateto B: 4\n",
            "\n",
            "Hipotenusa = 5.000\n"
          ]
        }
      ]
    },
    {
      "cell_type": "code",
      "source": [
        "9 - 5 + 4 / 2"
      ],
      "metadata": {
        "colab": {
          "base_uri": "https://localhost:8080/"
        },
        "id": "Jxj9FHQmaGjp",
        "outputId": "e0f83044-ac95-4ea2-d3e6-a5d593b78f8c"
      },
      "execution_count": null,
      "outputs": [
        {
          "output_type": "execute_result",
          "data": {
            "text/plain": [
              "6.0"
            ]
          },
          "metadata": {},
          "execution_count": 5
        }
      ]
    },
    {
      "cell_type": "code",
      "metadata": {
        "colab": {
          "base_uri": "https://localhost:8080/"
        },
        "id": "PnP4Gc9wl8KZ",
        "outputId": "6dd39909-a50e-4b30-da56-636815848e0e"
      },
      "source": [
        "# Exemplo de cálculo do seno de um ângulo em graus\n",
        "\n",
        "from math import sin, radians\n",
        "\n",
        "ang = float(input('Ângulo (graus): '))\n",
        "seno = sin(radians(ang))  # ou converter usando a fórmula: ang * 3.14 / 180\n",
        "print(f'\\nSeno de {ang:.1f}° = {seno:.3f}')"
      ],
      "execution_count": null,
      "outputs": [
        {
          "output_type": "stream",
          "name": "stdout",
          "text": [
            "Ângulo (graus): 45\n",
            "\n",
            "Seno de 45.0° = 0.707\n"
          ]
        }
      ]
    },
    {
      "cell_type": "markdown",
      "metadata": {
        "id": "dFu6GMsYpb_n"
      },
      "source": [
        "> ## **Estrutura lógica condicional (simples e composta):**\n",
        "---\n",
        "### Algoritmo: comando simples e composto.\n",
        "    se ? então\n",
        "    início\n",
        "        ...comandos...   (verdadeiro)\n",
        "    fim\n",
        "\n",
        "<br>\n",
        "\n",
        "    se ? então\n",
        "    início\n",
        "        ...comandos...   (verdadeiro)\n",
        "    fim\n",
        "    senão\n",
        "    início\n",
        "        ...comandos...   (falso)\n",
        "    fim"
      ]
    },
    {
      "cell_type": "markdown",
      "metadata": {
        "id": "mJ5B2BnLqCqN"
      },
      "source": [
        "> ### **Condições:**\n",
        "---\n",
        "+ ### Resultam sempre em Verdadeiro ou Falso (`True` ou `False`).\n",
        "+ ### Operadores relacionais:\n",
        " + ## `<` `<=` `>` `>=` `==` `!=`\n",
        "+ ### Operadores lógicos:\n",
        " + ## `and` (e) `or` (ou) `not` (negação)"
      ]
    },
    {
      "cell_type": "markdown",
      "metadata": {
        "id": "VmMFYk3B-rOO"
      },
      "source": [
        "> ### **Prioridade (ou precedência) de Operadores:**\n",
        "\n",
        "[https://www.inf.pucrs.br/flash/algfis/aulas/selecao/build/selecao/PrecedenceofOperators.html](https://www.inf.pucrs.br/flash/algfis/aulas/selecao/build/selecao/PrecedenceofOperators.html)"
      ]
    },
    {
      "cell_type": "markdown",
      "metadata": {
        "id": "90ZWcTa5SIDy"
      },
      "source": [
        "> ## **Exercícios:**\n",
        "---\n",
        "---"
      ]
    },
    {
      "cell_type": "markdown",
      "metadata": {
        "id": "wJ3zIZa4SaeV"
      },
      "source": [
        "> ### `1.` Programa para mostrar o maior valor entre 3 números inteiros:"
      ]
    },
    {
      "cell_type": "code",
      "metadata": {
        "colab": {
          "base_uri": "https://localhost:8080/"
        },
        "id": "LMWChkbuSHMn",
        "outputId": "848414e7-6417-412b-fe76-48ef11a75398"
      },
      "source": [
        "a = int(input('Valor de A: '))\n",
        "b = int(input('\\nValor de B: '))\n",
        "c = int(input('\\nValor de C: '))\n",
        "\n",
        "if a > b and a > c:\n",
        "    ma = a\n",
        "elif b > c:\n",
        "    ma = b\n",
        "else:\n",
        "    ma = c\n",
        "\n",
        "print(f'\\nMaior = {ma}')"
      ],
      "execution_count": null,
      "outputs": [
        {
          "output_type": "stream",
          "text": [
            "Valor de A: 3\n",
            "\n",
            "Valor de B: 3\n",
            "\n",
            "Valor de C: 2\n",
            "\n",
            "Maior = 3\n"
          ],
          "name": "stdout"
        }
      ]
    },
    {
      "cell_type": "markdown",
      "metadata": {
        "id": "emdy9NeWaWEb"
      },
      "source": [
        "> ### `Outra forma`: algoritmo diferente."
      ]
    },
    {
      "cell_type": "code",
      "metadata": {
        "colab": {
          "base_uri": "https://localhost:8080/"
        },
        "id": "vAEikZFAaiTS",
        "outputId": "5e0cbebe-79c6-4f6d-b35d-263c65cd3936"
      },
      "source": [
        "a = int(input('Valor de A: '))\n",
        "b = int(input('\\nValor de B: '))\n",
        "c = int(input('\\nValor de C: '))\n",
        "\n",
        "ma = a\n",
        "if b > ma:\n",
        "    ma = b\n",
        "if c > ma:\n",
        "    ma = c\n",
        "\n",
        "print(f'\\nMaior = {ma}')"
      ],
      "execution_count": null,
      "outputs": [
        {
          "output_type": "stream",
          "text": [
            "Valor de A: 7\n",
            "\n",
            "Valor de B: 3\n",
            "\n",
            "Valor de C: 9\n",
            "\n",
            "Maior = 9\n"
          ],
          "name": "stdout"
        }
      ]
    },
    {
      "cell_type": "markdown",
      "metadata": {
        "id": "CZgPDw6rcqHy"
      },
      "source": [
        "> ### `2.` Cálculo da idade de uma pessoa em anos.\n",
        "\n",
        "+ #### Entrada: data de nascimento (dd/mm/aaaa).\n",
        "+ #### Obs: Se o aniversario for hoje conta como se já tivesse feito aniversário"
      ]
    },
    {
      "cell_type": "code",
      "metadata": {
        "id": "8XCET3rsdL6F",
        "colab": {
          "base_uri": "https://localhost:8080/"
        },
        "outputId": "a1a08371-6344-48fb-81a7-68b2eb3ab7ca"
      },
      "source": [
        "# Testes:\n",
        "\n",
        "# 01/01/2000  ->  22 anos\n",
        "# 30/01/2000  ->  22 anos\n",
        "# 01/08/2000  ->  22 anos\n",
        "# 30/08/2000  ->  21 anos\n",
        "# 01/12/2000  ->  21 anos\n",
        "# 30/12/2000  ->  21 anos\n",
        "\n",
        "from datetime import datetime\n",
        "from os import environ  \n",
        "from time import tzset\n",
        "\n",
        "environ['TZ'] = 'America/Sao_Paulo'  # Usado para pegar o timezone - Como estamos em um ambiente de nuvem precisamos usar isso\n",
        "tzset()  # Grava a escolha do timezone (escolhemos São Paulo)\n",
        "\n",
        "data_atual = datetime.now()\n",
        "d_atual, m_atual, a_atual = data_atual.day, data_atual.month, data_atual.year  # Separa a data atual em dia, mês e ano\n",
        "print(f'Data de hoje: {d_atual}/{m_atual}/{a_atual}\\n')\n",
        "\n",
        "d_nasc, m_nasc, a_nasc = input('Data de nascimento (dd/mm/aaaa): ').split('/')  # split() - Separa uma string usando o separador passado para o split\n",
        "d_nasc, m_nasc, a_nasc = int(d_nasc), int(m_nasc), int(a_nasc)  # Convertendo para inteiro\n",
        "\n",
        "idade = a_atual - a_nasc\n",
        "\n",
        "# condição para detectar se o aniversário ainda não chegou:\n",
        "#   + se o mês em que estamos for menor que o mês em que a pessoa nasceu\n",
        "#   + OU se estivermos no mês que a pessoa nasceu, mas o dia em que estamos é menor que o dia de nascimento\n",
        "if (m_atual < m_nasc) or (m_atual == m_nasc and d_atual < d_nasc):\n",
        "    idade -= 1\n",
        "\n",
        "print(f'\\nIdade = {idade} anos')"
      ],
      "execution_count": null,
      "outputs": [
        {
          "output_type": "stream",
          "name": "stdout",
          "text": [
            "Data de hoje: 25/8/2022\n",
            "\n",
            "Data de nascimento (dd/mm/aaaa): 30/09/2000\n",
            "\n",
            "Idade = 21 anos\n"
          ]
        }
      ]
    },
    {
      "cell_type": "markdown",
      "metadata": {
        "id": "_ZBGu0JTihXA"
      },
      "source": [
        "> ### `3.` Criar um programa para ler 5 números reais (float) e, após a leitura, calcular e mostrar a qtde de valores negativos entre os 5 números.\n",
        "\n",
        "+ ### Usar um `contador`."
      ]
    },
    {
      "cell_type": "code",
      "source": [
        "n1 = float(input('Número 1: '))\n",
        "n2 = float(input('Número 2: '))\n",
        "n3 = float(input('Número 3: '))\n",
        "n4 = float(input('Número 4: '))\n",
        "n5 = float(input('Número 5: '))\n",
        "\n",
        "qn = 0  # qtde de negativos (contador)\n",
        "if n1 < 0:\n",
        "    qn += 1  # qn = qn + 1 (incrementar)\n",
        "if n2 < 0:\n",
        "    qn += 1\n",
        "if n3 < 0:\n",
        "    qn += 1\n",
        "if n4 < 0:\n",
        "    qn += 1\n",
        "if n5 < 0:\n",
        "    qn += 1\n",
        "\n",
        "print(f'\\nQtde de negativos = {qn}')"
      ],
      "metadata": {
        "id": "Iv99WCChIckw",
        "colab": {
          "base_uri": "https://localhost:8080/"
        },
        "outputId": "8277b1ff-b7a2-409f-852a-e6edb27efbfa"
      },
      "execution_count": 2,
      "outputs": [
        {
          "output_type": "stream",
          "name": "stdout",
          "text": [
            "Número 1: 5\n",
            "Número 2: -2\n",
            "Número 3: 3\n",
            "Número 4: -222\n",
            "Número 5: 0\n",
            "\n",
            "Qtde de negativos = 2\n"
          ]
        }
      ]
    },
    {
      "cell_type": "markdown",
      "metadata": {
        "id": "axzJjzgAncXZ"
      },
      "source": [
        "> # **Estrutura Lógica de Repetição:**\n",
        "---\n",
        "---\n",
        "+ ## Comandos de repetição:\n",
        "    + ## `while`\n",
        "    + ## `for`"
      ]
    },
    {
      "cell_type": "markdown",
      "metadata": {
        "id": "viCLnEXnSjXy"
      },
      "source": [
        "> ### Algoritmo (pseudocódigo) dos comandos enquanto (`while`) e para (`for`):\n",
        "\n",
        "    enquanto ? faça\n",
        "    início\n",
        "        ...comandos...\n",
        "    fim\n",
        "#  \n",
        "    para n de 1 até 10 faça\n",
        "    início\n",
        "        ...comandos...\n",
        "    fim"
      ]
    },
    {
      "cell_type": "markdown",
      "source": [
        "O `for` é usado quando já sabemos quantas vezes nosso programa irá se repetir \n",
        "antes de entrar no loop"
      ],
      "metadata": {
        "id": "l8X1HMnsSR76"
      }
    },
    {
      "cell_type": "markdown",
      "source": [
        "#### Outros comandos de repetição que o Python não possui:\n",
        "\n",
        "* Do... while... (faça enquanto)\n",
        "```\n",
        "    do\n",
        "        ...comandos...\n",
        "    while ?\n",
        "\n",
        "\n",
        "* Repeat... until... (repita até)\n",
        "``` \n",
        "    repeat\n",
        "        ...comandos...\n",
        "    until ?\n",
        "```"
      ],
      "metadata": {
        "id": "8HCYL6RllQOx"
      }
    },
    {
      "cell_type": "markdown",
      "metadata": {
        "id": "9YdhTE2hUREo"
      },
      "source": [
        "> ## **Exemplos:**\n",
        "---"
      ]
    },
    {
      "cell_type": "markdown",
      "metadata": {
        "id": "CuPCW38bUcAm"
      },
      "source": [
        "> ### `1.` Criando uma repetição infinita."
      ]
    },
    {
      "cell_type": "code",
      "metadata": {
        "id": "Wsdfzg1fUs6Q",
        "colab": {
          "base_uri": "https://localhost:8080/",
          "height": 417
        },
        "outputId": "06060fad-cf30-4c75-a93d-f14ce1adff48"
      },
      "source": [
        "while True:\n",
        "    print('$', end='')\n",
        "\n",
        "#  No Python, 0 é Falso"
      ],
      "execution_count": 4,
      "outputs": [
        {
          "output_type": "stream",
          "name": "stdout",
          "text": [
            "$$$$$$$$$$$$$$$$$$$$$$$$$$$$$$$$$$$$$$$$$$$$$$$$$$$$$$$$$$$$$$$$$$$$$$$$$$$$$$$$$$$$$$$$$$$$$$$$$$$$$$$$$$$$$$$$$$$$$$$$$$$$$$$$$$$$$$$$$$$$$$$$$$$$$$$$$$$$$$$$$$$$$$$$$$$$$$$$$$$$$$$$$$$$$$$$$$$$$$$$$$$$$$$$$$$$$$$$$$$$$$$$$$$$$$$$$$$$$$$$$$$$$$$$$$$$$$$$$$$$$$$$$$$$$$$$$$$$$$$$$$$$$$$$$$$$$$$$$$$$$$$$$$$$$$$$$$$$$$$$$$$$$$$$$$$$$$$$$$$$$$$$$$$$$$$$$$$$$$$$$$$$$$$$$$$$$$$$$$$$$$$$$$$$$$$$$$$$$$$$$$$$$$$$$$$$$$$$$$$$$$$$$$$$$$$$$$$$$$$$$$$$$$$$$$$$$$$$$$$$$$$$$$$$$$$$$$$$$$$$$$$$$$$$$$$$$$$$$$$$$$$$$$$$$$$$$$$$$$$$$$$$$$$$$$$$$$$$$$$$$$$$$$$$$$$$$$$$$$$$$$$$$$$$$$$$$$$$$$$$$$$$$$$$$$$$$$$$$$$$$$$$$$$$$$$$$$$$$$$$$$$$$$$$$$$$$$$$$$$$$$$$$$$$$$$$$$$$$$$$$$$$$$$$$$$$$$$$$$$$$$$$$$$$$$$$$$$$$$$$$$$$$$$$$$$$$$$$$$$$$$$$$$$$$$$$$$$$$$$$$$$$$$$$$$$$$$$$$$$$$$$$$$$$$$$$$$$$$$$$$$$$$$$$$$$$$$$$$$$$$$$$$$$$$$$$$$$$$$$$$$$$$$$$$$$$$$$$$$$$$$$$$$$$$$$$$$$$$$$$$$$$$$$$$$$$$$$$$$$$$$$$$$$$$$$$$$$$$$$$$$$$$$$$$$$$$$$$$$$$$$$$$$$$$$$$$$$$$$$$$$$$$$$$$$$$$$$$$$$$$$$$$$$$$$$$$$$$$$$$$$$$$$$$$$$$$$$$$$$$$$$$$$$$$$$$$$$$$$$$$$$$$$$$$$$$$$$$$$$$$$$$$$$$$$$$$$$$$$$$$$$$$$$$$$$$$$$$$$$$$$$$$$$$$$$$$$$$$$$$$$$$$$$$$$$$$$$$$$$$$$$$$$$$$$$$$$$$$$$$$$$$$$$$$$$$$$$$$$$$$$$$$$$$$$$$$$$$$$$$$$$$$$$$$$$$$$$$$$$$$$$$$$$$$$$$$$$$$$$$$$$$$$$$$$$$$$$$$$$$$$$$$$$$$$$$$$$$$$$$$$$$$$$$$$$$$$$$$$$$$$$$$$$$$$$$$$$$$$$$$$$$$$$$$$$$$$$$$$$$$$$$$$$$$$$$$$$$$$$$$$$$$$$$$$$$$$$$$$$$$$$$$$$$$$$$$$$$$$$$$$$$$$$$$$$$$$$$$$$$$$$$$$$$$$$$$$$$$$$$$$$$$$$$$$$$$$$$$$$$$$$$$$$$$$$$$$$$$$$$$$$$$$$$$$$$$$$$$$$$$$$$$$$$$$$$$$$$$$$$$$$$$$$$$$$$$$$$$$$$$$$$$$$$$$$$$$$$$$$$$$$$$$$$$$$$$$$$$$$$$$$$$$$$$$$$$$$$$$$$$$$$$$$$$$$$$$$$$$$$$$$$$$$$$$$$$$$$$$$$$$$$$$$$$$$$$$$$$$$$$$$$$$$$$$$$$$$$$$$$$$$$$$$$$$$$$$$$$$$$$$$$$$$$$$$$$$$$$$$$$$$$$$$$$$$$$$$$$$$$$$$$$$$$$$$$$$$$$$$$$$$$$$$$$$$$$$$$$$$$$$$$$$$$$$$$$$$$$$$$$$$$$$$$$$$$$$$$$$$$$$$$$$$$$$$$$$$$$$$$$$$$$$$$$$$$$$$$$$$$$$$$$$$$$$$$$$$$$$$$$$$$$$$$$$$$$$$$$$$$$$$$$$$$$$$$$$$$$$$$$$$$$$$$$$$$$$$$$$$$$$$$$$$$$$$$$$$$$$$$$$$$$$$$$$$$$$$$$$$$$$$$$$$$$$$$$$$$$$$$$$$$$$$$$$$$$$$$$$$$$$$$$$$$$$$$$$$$$$$$$$$$$$$$$$$$$$$$$$$$$$$$$$$$$$$$$$$$$$$$$$$$$$$$$$$$$$$$$$$$$$$$$$$$$$$$$$$$$$$$$$$$$$$$$$$$$$$$$$$$$$$$$$$$$$$$$$$$$$$$$$$$$$$$$$$$$$$$$$$$$$$$$$$$$$$$$$$$$$$$$$$$$$$$$$$$$$$$$$$$$$$$$$$$$$$$$$$$$$$$$$$$$$$$$$$$$$$$$$$$$$$$$$$$$$$$$$$$$$$$$$$$$$$$$$$$$$$$$$$$$$$$$$$$$$$$$$$$$$$$$$$$$$$$$$$$$$$$$$$$$$$$$$$$$$$$$$$$$$$$$$$$$$$$$$$$$$$$$$$$$$$$$$$$$$$$$$$$$$$$$$$$$$$$$$$$$$$$$$$$$$$$$$$$$$$$$$$$$$$$$$$$$$$$$$$$$$$$$$$$$$$$$$$$$$$$$$$$$$$$$$$$$$$$$$$$$$$$$$$$$$$$$$$$$$$$$$$$$$$$$$$$$$$$$$$$$$$$$$$$$$$$$$$$$$$$$$$$$$$$$$$$$$$$$$$$$$$$$$$$$$$$$$$$$$$$$$$$$$$$$$$$$$$$$$$$$$$$$$$$$$$$$$$$$$$$$$$$$$$$$$$$$$$$$$$$$$$$$$$$$$$$$$$$$$$$$$$$$$$$$$$$$$$$$$$$$$$$$$$$$$$$$$$$$$$$$$$$$$$$$$$$$$$$$$$$$$$$$$$$$$$$$$$$$$$$$$$$$$$$$$$$$$$$$$$$$$$$$$$$$$$$$$$$$$$$$$$$$$$$$$$$$$$$$$$$$$$$$$$$$$$$$$$$$$$$$$$$$$$$$$$$$$$$$$$$$$$$$$$$$$$$$$$$$$$$$$$$$$$$$$$$$$$$$$$$$$$$$$$$$$$$$$$$$$$$$$$$$$$$$$$$$$$$$$$$$$$$$$$$$$$$$$$$$$$$$$$$$$$$$$$$$$$$$$$$$$$$$$$$$$$$$$$$$$$$$$$$$$$$$$$$$$$$$$$$$$$$$$$$$$$$$$$$$$$$$$$$$$$$$$$$$$$$$$$$$$$$$$$$$$$$$$$$$$$$$$$$$$$$$$$$$$$$$$$$$$$$$$$$$$$$$$$$$$$$$$$$$$$$$$$$$$$$$$$$$$$$$$$$$$$$$$$$$$$$$$$$$$$$$$$$$$$$$$$$$$$$$$$$$$$$$$$$$$$$$$$$$$$$$$$$$$$$$$$$$$$$$$$$$$$$$$$$$$$$$$$$$$$$$$$$$$$$$$$$$$$$$$$$$$$$$$$$$$$$$$$$$$$$$$$$$$$$$$$$$$$$$$$$$$$$$$$$$$$$$$$$$$$$$$$$$$$$$$$$$$$$$$$$$$$$$$$$$$$$$$$$$$$$$$$$$$$$$$$$$$$$$$$$$$$$$$$$$$$$$$$$$$$$$$$$$$$$$$$$$$$$$$$$$$$$$$$$$$$$$$$$$$$$$$$$$$$$$$$$$$$$$$$$$$$$$$$$$$$$$$$$$$$$$$$$$$$$$$$$$$$$$$$$$$$$$$$$$$$$$$$$$$$$$$$$$$$$$$$$$$$$$$$$$$$$$$$$$$$$$$$$$$$$$$$$$$$$$$$$$$$$$$$$$$$$$$$$$$$$$$$$$$$$$$$$$$$$$$$$$$$$$$$$$$$$$$$$$$$$$$$$$$$$$$$$$$$$$$$$$$$$$$$$$$$$$$$$$$$$$$$$$$$$$$$$$$$$$$$$$$$$$$$$$$$$$$$$$$$$$$$$$$$$$$$$$$$$$$$$$$$$$$$$$$$$$$$$$$$$$$$$$$$$$$$$$$$$$$$$$$$$$$$$$$$$$$$$$$$$$$$$$$$$$$$$$$$$$$$$$$$$$$$$$$$$$$$$$$$$$$$$$$$$$$$$$$$$$$$$$$$$$$$$$$$$$$$$$$$$$$$$$$$$$$$$$$$$$$$$$$$$$$$$$$$$$$$$$$$$$$$$$$$$$$$$$$$$$$$$$$$$$$$$$$$$$$$$$$$$$$$$$$$$$$$$$$$$$$$$$$$$$$$$$$$$$$$$$$$$$$$$$$$$$$$$$$$$$$$$$$$$$$$$$$$$$$$$$$$$$$$$$$$$$$$$$$$$$$$$$$$$$$$$$$$$$$$$$$$$$$$$$$$$$$$$$$$$$$$$$$$$$$$$$$$$$$$$$$$$$$$$$$$$$$$$$$$$$$$$$$$$$$$$$$$$$$$$$$$$$$$$$$$$$$$$$$$$$$$$$$$$$$$$$$$$$$$$$$$$$$$$$$$$$$$$$$$$$$$$$$$$$$$$$$$$$$$$$$$$$$$$$$$$$$$$$$$$$$$$$$$$$$$$$$$$$$$$$$$$$$$$$$$$$$$$$$$$$$$$$$$$$$$$$$$$$$$$$$$$$$$$$$$$$$$$$$$$$$$$$$$$$$$$$$$$$$$$$$$$$$$$$$$$$$$$$$$$$$$$$$$$$$$$$$$$$$$$$$$$$$$$$$$$$$$$$$$$$$$$$$$$$$$$$$$$$$$$$$$$$$$$$$$$$$$$$$$$$$$$$$$$$$$$$$$$$$$$$$$$$$$$$$$$$$$$$$$$$$$$$$$$$$$$$$$$$$$$$$$$$$$$$$$$$$$$$$$$$$$$$$$$$$$$$$$$$$$$$$$$$$$$$$$$$$$$$$$$$$$$$$$$$$$$$$$$$$$$$$$$$$$$$$$$$$$$$$$$$$$$$$$$$$$$$$$$$$$$$$$$$$$$$$$$$$$$$$$$$$$$$$$$$$$$$$$$$$$$$$$$$$$$$$$$$$$$$$$$$$$$$$$$$$$$$$$$$$$$$$$$$$$$$$$$$$$$$$$$$$$$$$$$$$$$$$$$$$$$$$$$$$$$$$$$$$$$$$$$$$$$$$$$$$$$$$$$$$$$$$$$$$$$$$$$$$$$$$$$$$$$$$$$$$$$$$$$$$$$$$$$$$$$$$$$$$$$$$$$$$$$$$$$$$$$$$$$$$$$$$$$$$$$$$$$$$$$$$$$$$$$$$$$$$$$$$$$$$$$$$$$$$$$$$$$$$$$$$$$$$$$$$$$$$$$$$$$$$$$$$$$$$$$$$$$$$$$$$$$$$$$$$$$$$$$$$$$$$$$$$$$$$$$$$$$$$$$$$$$$$$$$$$$$$$$$$$$$$$$$$$$$$$$$$$$$$$$$$$$$$$$$$$$$$$$$$$$$$$$$$$$$$$$$$$$$$$$$$$$$$$$$$$$$$$$$$$$$$$$$$$$$$$$$$$$$$$$$$$$$$$$$$$$$$$$$$$$$$$$$$$$$$$$$$$$$$$$$$$$$$$$$$$$$$$$$$$$$$$$$$$$$$$$$$$$$$$$$$$$$$$$$$$$$$$$$$$$$$$$$$$$$$$$$$$$$$$$$$$$$$$$$$$$$$$$$$$$$$$$$$$$$$$$$$$$$$$$$$$$$$$$$$$$$$$$$$$$$$$$$$$$$$$$$$$$$$$$$$$$$$$$$$$$$$$$$$$$$$$$$$$$$$$$$$$$$$$$$$$$$$$$$$$$$$$$$$$$$$$$$$$$$$$$$$$$$$$$$$$$$$$$$$$$$$$$$$$$$$$$$$$$$$$$$$$$$$$$$$$$$$$$$$$$$$$$$$$$$$$$$$$$$$$$$$$$$$$$$$$$$$$$$$$$$$$$$$$$$$$$$$$$$$$$$$$$$$$$$$$$$$$$$$$$$$$$$$$$$$$$$$$$$$$$$$$$$$$$$$$$$$$$$$$$$$$$$$$$$$$$$$$$$$$$$$$$$$$$$$$$$$$$$$$$$$$$$$$$$$$$$$$$$$$$$$$$$$$$$$$$$$$$$$$$$$$$$$$$$$$$$$$$$$$$$$$$$$$$$$$$$$$$$$$$$$$$$$$$$$$$$$$$$$$$$$$$$$$$$$$$$$$$$$$$$$$$$$$$$$$$$$$$$$$$$$$$$$$$$$$$$$$$$$$$$$$$$$$$$$$$$$$$$$$$$$$$$$$$$$$$$$$$$$$$$$$$$$$$$$$$$$$$$$$$$$$$$$$$$$$$$$$$$$$$$$$$$$$$$$$$$$$$$$$$$$$$$$$$$$$$$$$$$$$$$$$$$$$$$$$$$$$$$$$$$$$$$$$$$$$$$$$$$$$$$$$$$$$$$$$$$$$$$$$$$$$$$$$$$$$$$$$$$$$$$$$$$$$$$$$$$$$$$$$$$$$$$$$$$$$$$$$$$$$$$$$$$$$$$$$$$$$$$$$$$$$$$$$$$$$$$$$$$$$$$$$$$$$$$$$$$$$$$$$$$$$$$$$$$$$$$$$$$$$$$$$$$$$$$$$$$$$$$$$$$$$$$$$$$$$$$$$$$$$$$$$$$$$$$$$$$$$$$$$$$$$$$$$$$$$$$$$$$$$$$$$$$$$$$$$$$$$$$$$$$$$$$$$$$$$$$$$$$$$$$$$$$$$$$$$$$$$$$$$$$$$$$$$$$$$$$$$$$$$$$$$$$$$$$$$$$$$$$$$$$$$$$$$$$$$$$$$$$$$$$$$$$$$$$$$$$$$$$$$$$$$$$$$$$$$$$$$$$$$$$$$$$$$$$$$$$$$$$$$$$$$$$$$$$$$$$$$$$$$$$$$$$$$$$$$$$$$$$$$$$$$$$$$$$$$$$$$$$$$$$$$$$$$$$$$$$$$$$$$$$$$$$$$$$$$$$$$$$$$$$$$$$$$$$$$$$$$$$$$$$$$$$$$$$$$$$$$$$$$$$$$$$$$$$$$$$$$$$$$$$$$$$$$$$$$$$$$$$$$$$$$$$$$$$$$$$$$$$$$$$$$$$$$$$$$$$$$$$$$$$$$$$$$$$$$$$$$$$$$$$$$$$$$$$$$$$$$$$$$$$$$$$$$$$$$$$$$$$$$$$$$$$$$$$$$$$$$$$$$$$$$$$$$$$$$$$$$$$$$$$$$$$$$$$$$$$$$$$$$$$$$$$$$$$$$$$$$$$$$$$$$$$$$$$$$$$$$$$$$$$$$$$$$$$$$$$$$$$$$$$$$$$$$$$$$$$$$$$$$$$$$$$$$$$$$$$$$$$$$$$$$$$$$$$$$$$$$$$$$$$$$$$$$$$$$$$$$$$$$$$$$$$$$$$$$$$$$$$$$$$$$$$$$$$$$$$$$$$$$$$$$$$$$$$$$$$$$$$$$$$$$$$$$$$$$$$$$$$$$$$$$$$$$$$$$$$$$$$$$$$$$$$$$$$$$$$$$$$$$$$$$$$$$$$$$$$$$$$$$$$$$$$$$$$$$$$$$$$$$$$$$$$$"
          ]
        },
        {
          "output_type": "error",
          "ename": "KeyboardInterrupt",
          "evalue": "ignored",
          "traceback": [
            "\u001b[0;31m---------------------------------------------------------------------------\u001b[0m",
            "\u001b[0;31mKeyboardInterrupt\u001b[0m                         Traceback (most recent call last)",
            "\u001b[0;32m<ipython-input-4-486d77a4ac87>\u001b[0m in \u001b[0;36m<module>\u001b[0;34m\u001b[0m\n\u001b[1;32m      1\u001b[0m \u001b[0;32mwhile\u001b[0m \u001b[0;32mTrue\u001b[0m\u001b[0;34m:\u001b[0m\u001b[0;34m\u001b[0m\u001b[0;34m\u001b[0m\u001b[0m\n\u001b[0;32m----> 2\u001b[0;31m     \u001b[0mprint\u001b[0m\u001b[0;34m(\u001b[0m\u001b[0;34m'$'\u001b[0m\u001b[0;34m,\u001b[0m \u001b[0mend\u001b[0m\u001b[0;34m=\u001b[0m\u001b[0;34m''\u001b[0m\u001b[0;34m)\u001b[0m\u001b[0;34m\u001b[0m\u001b[0;34m\u001b[0m\u001b[0m\n\u001b[0m\u001b[1;32m      3\u001b[0m \u001b[0;34m\u001b[0m\u001b[0m\n\u001b[1;32m      4\u001b[0m \u001b[0;31m#  No Python, 0 é Falso\u001b[0m\u001b[0;34m\u001b[0m\u001b[0;34m\u001b[0m\u001b[0;34m\u001b[0m\u001b[0m\n",
            "\u001b[0;32m/usr/local/lib/python3.8/dist-packages/ipykernel/iostream.py\u001b[0m in \u001b[0;36mwrite\u001b[0;34m(self, string)\u001b[0m\n\u001b[1;32m    402\u001b[0m             \u001b[0mis_child\u001b[0m \u001b[0;34m=\u001b[0m \u001b[0;34m(\u001b[0m\u001b[0;32mnot\u001b[0m \u001b[0mself\u001b[0m\u001b[0;34m.\u001b[0m\u001b[0m_is_master_process\u001b[0m\u001b[0;34m(\u001b[0m\u001b[0;34m)\u001b[0m\u001b[0;34m)\u001b[0m\u001b[0;34m\u001b[0m\u001b[0;34m\u001b[0m\u001b[0m\n\u001b[1;32m    403\u001b[0m             \u001b[0;31m# only touch the buffer in the IO thread to avoid races\u001b[0m\u001b[0;34m\u001b[0m\u001b[0;34m\u001b[0m\u001b[0;34m\u001b[0m\u001b[0m\n\u001b[0;32m--> 404\u001b[0;31m             \u001b[0mself\u001b[0m\u001b[0;34m.\u001b[0m\u001b[0mpub_thread\u001b[0m\u001b[0;34m.\u001b[0m\u001b[0mschedule\u001b[0m\u001b[0;34m(\u001b[0m\u001b[0;32mlambda\u001b[0m \u001b[0;34m:\u001b[0m \u001b[0mself\u001b[0m\u001b[0;34m.\u001b[0m\u001b[0m_buffer\u001b[0m\u001b[0;34m.\u001b[0m\u001b[0mwrite\u001b[0m\u001b[0;34m(\u001b[0m\u001b[0mstring\u001b[0m\u001b[0;34m)\u001b[0m\u001b[0;34m)\u001b[0m\u001b[0;34m\u001b[0m\u001b[0;34m\u001b[0m\u001b[0m\n\u001b[0m\u001b[1;32m    405\u001b[0m             \u001b[0;32mif\u001b[0m \u001b[0mis_child\u001b[0m\u001b[0;34m:\u001b[0m\u001b[0;34m\u001b[0m\u001b[0;34m\u001b[0m\u001b[0m\n\u001b[1;32m    406\u001b[0m                 \u001b[0;31m# mp.Pool cannot be trusted to flush promptly (or ever),\u001b[0m\u001b[0;34m\u001b[0m\u001b[0;34m\u001b[0m\u001b[0;34m\u001b[0m\u001b[0m\n",
            "\u001b[0;32m/usr/local/lib/python3.8/dist-packages/ipykernel/iostream.py\u001b[0m in \u001b[0;36mschedule\u001b[0;34m(self, f)\u001b[0m\n\u001b[1;32m    203\u001b[0m             \u001b[0mself\u001b[0m\u001b[0;34m.\u001b[0m\u001b[0m_events\u001b[0m\u001b[0;34m.\u001b[0m\u001b[0mappend\u001b[0m\u001b[0;34m(\u001b[0m\u001b[0mf\u001b[0m\u001b[0;34m)\u001b[0m\u001b[0;34m\u001b[0m\u001b[0;34m\u001b[0m\u001b[0m\n\u001b[1;32m    204\u001b[0m             \u001b[0;31m# wake event thread (message content is ignored)\u001b[0m\u001b[0;34m\u001b[0m\u001b[0;34m\u001b[0m\u001b[0;34m\u001b[0m\u001b[0m\n\u001b[0;32m--> 205\u001b[0;31m             \u001b[0mself\u001b[0m\u001b[0;34m.\u001b[0m\u001b[0m_event_pipe\u001b[0m\u001b[0;34m.\u001b[0m\u001b[0msend\u001b[0m\u001b[0;34m(\u001b[0m\u001b[0;34mb''\u001b[0m\u001b[0;34m)\u001b[0m\u001b[0;34m\u001b[0m\u001b[0;34m\u001b[0m\u001b[0m\n\u001b[0m\u001b[1;32m    206\u001b[0m         \u001b[0;32melse\u001b[0m\u001b[0;34m:\u001b[0m\u001b[0;34m\u001b[0m\u001b[0;34m\u001b[0m\u001b[0m\n\u001b[1;32m    207\u001b[0m             \u001b[0mf\u001b[0m\u001b[0;34m(\u001b[0m\u001b[0;34m)\u001b[0m\u001b[0;34m\u001b[0m\u001b[0;34m\u001b[0m\u001b[0m\n",
            "\u001b[0;32m/usr/local/lib/python3.8/dist-packages/zmq/sugar/socket.py\u001b[0m in \u001b[0;36msend\u001b[0;34m(self, data, flags, copy, track, routing_id, group)\u001b[0m\n\u001b[1;32m    616\u001b[0m                 )\n\u001b[1;32m    617\u001b[0m             \u001b[0mdata\u001b[0m\u001b[0;34m.\u001b[0m\u001b[0mgroup\u001b[0m \u001b[0;34m=\u001b[0m \u001b[0mgroup\u001b[0m\u001b[0;34m\u001b[0m\u001b[0;34m\u001b[0m\u001b[0m\n\u001b[0;32m--> 618\u001b[0;31m         \u001b[0;32mreturn\u001b[0m \u001b[0msuper\u001b[0m\u001b[0;34m(\u001b[0m\u001b[0;34m)\u001b[0m\u001b[0;34m.\u001b[0m\u001b[0msend\u001b[0m\u001b[0;34m(\u001b[0m\u001b[0mdata\u001b[0m\u001b[0;34m,\u001b[0m \u001b[0mflags\u001b[0m\u001b[0;34m=\u001b[0m\u001b[0mflags\u001b[0m\u001b[0;34m,\u001b[0m \u001b[0mcopy\u001b[0m\u001b[0;34m=\u001b[0m\u001b[0mcopy\u001b[0m\u001b[0;34m,\u001b[0m \u001b[0mtrack\u001b[0m\u001b[0;34m=\u001b[0m\u001b[0mtrack\u001b[0m\u001b[0;34m)\u001b[0m\u001b[0;34m\u001b[0m\u001b[0;34m\u001b[0m\u001b[0m\n\u001b[0m\u001b[1;32m    619\u001b[0m \u001b[0;34m\u001b[0m\u001b[0m\n\u001b[1;32m    620\u001b[0m     def send_multipart(\n",
            "\u001b[0;32mzmq/backend/cython/socket.pyx\u001b[0m in \u001b[0;36mzmq.backend.cython.socket.Socket.send\u001b[0;34m()\u001b[0m\n",
            "\u001b[0;32mzmq/backend/cython/socket.pyx\u001b[0m in \u001b[0;36mzmq.backend.cython.socket.Socket.send\u001b[0;34m()\u001b[0m\n",
            "\u001b[0;32mzmq/backend/cython/socket.pyx\u001b[0m in \u001b[0;36mzmq.backend.cython.socket._send_copy\u001b[0;34m()\u001b[0m\n",
            "\u001b[0;32m/usr/local/lib/python3.8/dist-packages/zmq/backend/cython/checkrc.pxd\u001b[0m in \u001b[0;36mzmq.backend.cython.checkrc._check_rc\u001b[0;34m()\u001b[0m\n",
            "\u001b[0;31mKeyboardInterrupt\u001b[0m: "
          ]
        }
      ]
    },
    {
      "cell_type": "markdown",
      "metadata": {
        "id": "cGb5ZFQWV8xX"
      },
      "source": [
        "> ### `2.` Criando uma repetição finita (contador)."
      ]
    },
    {
      "cell_type": "code",
      "metadata": {
        "colab": {
          "base_uri": "https://localhost:8080/"
        },
        "id": "b-OOE3_0WJiA",
        "outputId": "aefb8f2a-4d31-42c8-86a4-622d365fafa1"
      },
      "source": [
        "cont = 0\n",
        "while cont < 20:\n",
        "    print(cont, end=' ')  # end=' ' -> Faz com que o print não pule de linha\n",
        "    cont += 1  # cont = cont + 1"
      ],
      "execution_count": null,
      "outputs": [
        {
          "output_type": "stream",
          "name": "stdout",
          "text": [
            "0 1 2 3 4 5 6 7 8 9 10 11 12 13 14 15 16 17 18 19 "
          ]
        }
      ]
    },
    {
      "cell_type": "code",
      "source": [
        "# Contador regressivo - passo negativo\n",
        "cont = 19\n",
        "while cont >= 0:\n",
        "    print(cont, end=' ')  # end=' ' -> Faz com que o print não pule de linha\n",
        "    cont -= 1  # cont = cont + 1"
      ],
      "metadata": {
        "colab": {
          "base_uri": "https://localhost:8080/"
        },
        "id": "i1UaM01hWNcN",
        "outputId": "b6b786f5-f237-47e4-b458-3fbb79ee8d2c"
      },
      "execution_count": null,
      "outputs": [
        {
          "output_type": "stream",
          "name": "stdout",
          "text": [
            "19 18 17 16 15 14 13 12 11 10 9 8 7 6 5 4 3 2 1 0 "
          ]
        }
      ]
    },
    {
      "cell_type": "markdown",
      "metadata": {
        "id": "C605KJZfYMhr"
      },
      "source": [
        "> ### `Outra forma`: usando o comando `break`.\n",
        "(Simulando repeat... until...)"
      ]
    },
    {
      "cell_type": "code",
      "metadata": {
        "colab": {
          "base_uri": "https://localhost:8080/"
        },
        "id": "srKApXLoYTYs",
        "outputId": "3ac914f8-9000-4624-a726-d9867d6c47ff"
      },
      "source": [
        "cont = 0\n",
        "while True:\n",
        "    print(cont, end=' ')\n",
        "    cont += 1\n",
        "    if cont > 19:\n",
        "        break  # termina a execução do while e desvia para o comando após o while"
      ],
      "execution_count": null,
      "outputs": [
        {
          "output_type": "stream",
          "name": "stdout",
          "text": [
            "0 1 2 3 4 5 6 7 8 9 10 11 12 13 14 15 16 17 18 19 "
          ]
        }
      ]
    },
    {
      "cell_type": "markdown",
      "metadata": {
        "id": "dFuCvN4kZhbI"
      },
      "source": [
        "> ### `3.` Usando o `for` para criar uma repetição finita (mesmo resultado do anterior)."
      ]
    },
    {
      "cell_type": "code",
      "metadata": {
        "colab": {
          "base_uri": "https://localhost:8080/"
        },
        "id": "R0rGJxLcZyJA",
        "outputId": "8af1234e-9e52-4e7f-91b8-ec1d46685379"
      },
      "source": [
        "# O for precisa, obrigatoriamente, de uma variável para controlar as suas repetições\n",
        "for cont in range(20):\n",
        "    print(cont, end=' ')"
      ],
      "execution_count": null,
      "outputs": [
        {
          "output_type": "stream",
          "name": "stdout",
          "text": [
            "0 1 2 3 4 5 6 7 8 9 10 11 12 13 14 15 16 17 18 19 "
          ]
        }
      ]
    },
    {
      "cell_type": "markdown",
      "source": [
        "## Dicas:\n",
        "\n",
        "\n",
        "\n",
        "*   Evitar contadores negativos pois é mais fácil de errar;\n",
        "\n"
      ],
      "metadata": {
        "id": "Tz2n9OM6oUMQ"
      }
    },
    {
      "cell_type": "markdown",
      "source": [
        "### Uso do `range()` :\n",
        "\n",
        "`range(inicio, fim, passo)`\n",
        "\n",
        "* O `início` padrão é `0`;\n",
        "* A contagem é feita sempre 1 unidade a menos do número passado para o `fim`;\n",
        "* O `passo` indica de quanto em quanto será a contagem. Caso ele seja negativo, a contagem será regressiva. O padrão do passo é `1`;\n",
        "* Se passarmos um parâmetro só para a função, ele será o `fim`;"
      ],
      "metadata": {
        "id": "zoBDfxpJpHUp"
      }
    },
    {
      "cell_type": "code",
      "source": [
        "# Exemplos:\n",
        "\n",
        "# 1) Fazer uma lista com os números ímpares de 1 a 100:\n",
        "lista1 = list(range(1, 101, 2))\n",
        "\n",
        "# 2) Lista regressiva (passo negativo, inicio maior que o fim):\n",
        "lista2 = list(range(20, -1, -1))\n",
        "\n",
        "print(f'1) {lista1} \\n2) {lista2}')"
      ],
      "metadata": {
        "id": "TRUUHIDQh9NM",
        "colab": {
          "base_uri": "https://localhost:8080/"
        },
        "outputId": "1af0940c-694f-4c77-cb65-9e86be8a736f"
      },
      "execution_count": null,
      "outputs": [
        {
          "output_type": "stream",
          "name": "stdout",
          "text": [
            "1) [1, 3, 5, 7, 9, 11, 13, 15, 17, 19, 21, 23, 25, 27, 29, 31, 33, 35, 37, 39, 41, 43, 45, 47, 49, 51, 53, 55, 57, 59, 61, 63, 65, 67, 69, 71, 73, 75, 77, 79, 81, 83, 85, 87, 89, 91, 93, 95, 97, 99] \n",
            "2) [20, 19, 18, 17, 16, 15, 14, 13, 12, 11, 10, 9, 8, 7, 6, 5, 4, 3, 2, 1, 0]\n"
          ]
        }
      ]
    },
    {
      "cell_type": "markdown",
      "metadata": {
        "id": "1TOlZySEbbER"
      },
      "source": [
        "> ## **Exercícios:**\n",
        "---\n",
        "---"
      ]
    },
    {
      "cell_type": "markdown",
      "metadata": {
        "id": "S7G3M1jq3jh9"
      },
      "source": [
        "> ### `1.` Criar um programa para somar os números inteiros entre **i** e **f** (inclusive i e f), com **i** e **f** fornecidos pelo usuário.\n",
        "+ ### Contador e Acumulador\n",
        "+ ### Através do while"
      ]
    },
    {
      "cell_type": "code",
      "source": [
        "i = int(input('Início: '))  # Usei o próprio i como contador, sendo o início do intervalo\n",
        "f = int(input('Fim: '))\n",
        "\n",
        "if i > f:  # Trocar i com f se i for maior\n",
        "    i, f = f, i\n",
        "\n",
        "soma = 0  # Acumulador: começa usando 0, porque é o elemento neutro da soma\n",
        "while i <= f:\n",
        "    soma += i\n",
        "    i += 1  # Usei o próprio i como contador\n",
        "\n",
        "print(soma)\n",
        "\n",
        "# usando o while\n",
        "\n",
        "\n",
        "'''Resposta do professor'''\n",
        "# i = int(input('Início: '))\n",
        "# f = int(input('\\nFim: '))\n",
        "\n",
        "# ci, cf = i, f  # cópia para ser mostrado no final\n",
        "# if i > f:  # trocar i com f se i for maior\n",
        "#     i, f = f, i\n",
        "\n",
        "# c = i  # c é o contador e i é o início do intervalo\n",
        "# s = 0  # s é o acumulador (0 é o elemento neutro da soma)\n",
        "# while c <= f:  # f é o fim do intervalo\n",
        "#     s += c  # s = s + c (s é o acumulador)\n",
        "#     c += 1  # incrementa o contador\n",
        "\n",
        "# print(f'\\nA soma entre {ci} e {cf} é igual a {s}')"
      ],
      "metadata": {
        "id": "Mv14jl7LjUOt",
        "colab": {
          "base_uri": "https://localhost:8080/"
        },
        "outputId": "1330c362-e677-4b68-82fd-e800faec5728"
      },
      "execution_count": 8,
      "outputs": [
        {
          "output_type": "stream",
          "name": "stdout",
          "text": [
            "Início: 5\n",
            "Fim: 1\n",
            "15\n"
          ]
        }
      ]
    },
    {
      "cell_type": "markdown",
      "metadata": {
        "id": "_ocmt1iynlBV"
      },
      "source": [
        "> ### `Outra forma`: usando o for."
      ]
    },
    {
      "cell_type": "code",
      "source": [
        "i = int(input('i: '))\n",
        "f = int(input('f: '))\n",
        "\n",
        "soma = 0\n",
        "for x in range(i, f+1):\n",
        "    soma += x\n",
        "\n",
        "print(soma)"
      ],
      "metadata": {
        "id": "sH1kRZ8hjVe0",
        "colab": {
          "base_uri": "https://localhost:8080/"
        },
        "outputId": "01ee7dbc-88e5-4b6e-a8a0-00f221c2c1ac"
      },
      "execution_count": null,
      "outputs": [
        {
          "output_type": "stream",
          "name": "stdout",
          "text": [
            "i: 5\n",
            "f: 8\n",
            "26\n"
          ]
        }
      ]
    },
    {
      "cell_type": "markdown",
      "source": [
        "Exemplo de comando `for` na linguagem `C`:\n",
        "    \n",
        "    for (c = i; c <= f; c++)\n",
        "        {\n",
        "            soma += c;\n",
        "        }"
      ],
      "metadata": {
        "id": "5To_JY4x7to4"
      }
    },
    {
      "cell_type": "markdown",
      "metadata": {
        "id": "zJA7SCK7s1e6"
      },
      "source": [
        "> ### `2.` Criar uma programa para ler uma certa qtde de valores reais (`float`) e, após as leituras, mostrar a média aritmética dos números digitados. A qtde de valores é escolhida pelo usuário no início do programa.\n",
        "### Ex.:\n",
        "    Qtde de valores: 5\n",
        "    Valor 1: 6\n",
        "    Valor 2: 2\n",
        "    Valor 3: 7\n",
        "    Valor 4: 5\n",
        "    Valor 5: 1\n",
        "    Média aritmética = 4.20"
      ]
    },
    {
      "cell_type": "code",
      "metadata": {
        "id": "Fkcm785ks_2Q",
        "colab": {
          "base_uri": "https://localhost:8080/"
        },
        "outputId": "cef94668-5948-4214-f73d-20d3b8befb03"
      },
      "source": [
        "n = int(input('Quantidade de valores: '))\n",
        "print()  # printa uma linha em branco para separar a linha anterior da seguinte\n",
        "# Não dá para usar o \\n no input porque senão ele vai pular a linha antes de abrir a caixa do input do Google Colab\n",
        "\n",
        "soma = 0  # Soma dos valores (acumulador)\n",
        "for i in range(n):  # Repete n vezes\n",
        "    valor = float(input(f'Valor {i + 1}: '))\n",
        "    soma += valor\n",
        "\n",
        "media = soma / n  # Cálculo da média - Fora do while para não repetir\n",
        "\n",
        "print(f'\\nMédia aritmética: {media:.2f}')"
      ],
      "execution_count": null,
      "outputs": [
        {
          "output_type": "stream",
          "name": "stdout",
          "text": [
            "Quantidade de valores: 5\n",
            "\n",
            "Valor 1: 5\n",
            "Valor 2: 3\n",
            "Valor 3: 7\n",
            "Valor 4: 6\n",
            "Valor 5: 2\n",
            "\n",
            "Média aritmética: 4.60\n"
          ]
        }
      ]
    },
    {
      "cell_type": "markdown",
      "metadata": {
        "id": "jZlDvgrmtHNs"
      },
      "source": [
        "\n",
        "> ### `3.` Criar um programa para ler 8 valores inteiros (`int`) e, após as leituras, mostrar o produto (multiplicação) dos números negativos. Se não tiver números negativos, deve ser mostrada uma msg ao usuário."
      ]
    },
    {
      "cell_type": "code",
      "source": [
        "mult = 1  # Valor inicial do produto é 1 (Uso 1 porque este é o elemento neutro da multiplicação)\n",
        "tem_negativos = False  # Valor usado para saber se o usuário digitou valores negativos ou não. \n",
        "# Não posso usar tem_negativos == 1 porque (-1)*(-1) == 1 também. Ou seja, ele falaria que que não teve negativos, sendo que teve\n",
        "# Esse problema sempre vai acontecer quando o usuário digita uma quantidade par de valores negativos \n",
        "\n",
        "for i in range(8):\n",
        "    x = int(input('Valor: '))\n",
        "\n",
        "    if x < 0:\n",
        "        tem_negativos = True  # Se entrar no if, teve pelo menos um negativo!\n",
        "        mult *= x  # mult = mult * val\n",
        "\n",
        "if tem_negativos:\n",
        "    print(mult)\n",
        "else:\n",
        "    print('O usuário não digitou nenhum valor negativo!')"
      ],
      "metadata": {
        "colab": {
          "base_uri": "https://localhost:8080/"
        },
        "id": "vNHRd8n_K0ZL",
        "outputId": "45459910-3832-4615-8eaf-011fe554f1c8"
      },
      "execution_count": null,
      "outputs": [
        {
          "output_type": "stream",
          "name": "stdout",
          "text": [
            "Valor: 5\n",
            "Valor: 5\n",
            "Valor: 2\n",
            "Valor: 0\n",
            "Valor: 6\n",
            "Valor: 9\n",
            "Valor: 7\n",
            "Valor: 8\n",
            "O usuário não digitou nenhum valor negativo!\n"
          ]
        }
      ]
    },
    {
      "cell_type": "markdown",
      "metadata": {
        "id": "OUBl1ucBu4_t"
      },
      "source": [
        "> ### `Outra forma`: calculando apenas um deles (par, por exemplo)."
      ]
    },
    {
      "cell_type": "code",
      "metadata": {
        "colab": {
          "base_uri": "https://localhost:8080/"
        },
        "id": "Ou9He2T-vDdZ",
        "outputId": "5d4813b3-fc45-4197-d8f3-6528e4dd8a95"
      },
      "source": [
        "qp = 0\n",
        "for i in range(7):\n",
        "    val = int(input(f'Valor {i + 1}: '))\n",
        "    if val % 2 == 0:  # verifica se val é par (resto zero -> múltiplo de 2)\n",
        "        qp += 1\n",
        "\n",
        "qi = 7 - qp  # qtde de ímpares é o complemento em relação ao total (7)\n",
        "print(f'\\nQtde de pares = {qp}\\n\\nQtde de ímpares = {qi}')"
      ],
      "execution_count": null,
      "outputs": [
        {
          "output_type": "stream",
          "name": "stdout",
          "text": [
            "Valor 1: 2\n",
            "Valor 2: 5\n",
            "Valor 3: 1\n",
            "Valor 4: 9\n",
            "Valor 5: 8\n",
            "Valor 6: 6\n",
            "Valor 7: 3\n",
            "\n",
            "Qtde de pares = 3\n",
            "\n",
            "Qtde de ímpares = 4\n"
          ]
        }
      ]
    },
    {
      "cell_type": "markdown",
      "metadata": {
        "id": "l6OtqQhqqwXw"
      },
      "source": [
        "> ### `4.` Criar um programa para ler 7 números inteiros e, após as leituras, mostrar a qtde de valores pares e a qtde de valores ímpares entre os 7 números."
      ]
    },
    {
      "cell_type": "code",
      "source": [
        "pares = 0\n",
        "impares = 0 \n",
        "\n",
        "for i in range(7):\n",
        "    n = int(input(f'Valor {i + 1}: '))\n",
        "\n",
        "    if n % 2 == 0:\n",
        "        pares += 1\n",
        "    else:\n",
        "        impares += 1\n",
        "\n",
        "print(f'\\nA quantidade de números pares é {pares} \\nA quantidade de números ímpares é {impares}')"
      ],
      "metadata": {
        "id": "RQMdrR44WgPm",
        "colab": {
          "base_uri": "https://localhost:8080/"
        },
        "outputId": "03614448-76cc-4de1-ffe0-f62ce3658267"
      },
      "execution_count": null,
      "outputs": [
        {
          "output_type": "stream",
          "name": "stdout",
          "text": [
            "Valor 1: 0\n",
            "Valor 2: 6\n",
            "Valor 3: 8\n",
            "Valor 4: 9\n",
            "Valor 5: 2\n",
            "Valor 6: 3\n",
            "Valor 7: 6\n",
            "\n",
            "A quantidade de números pares é 5 \n",
            "A quantidade de números ímpares é 2\n"
          ]
        }
      ]
    },
    {
      "cell_type": "markdown",
      "metadata": {
        "id": "VEqi0ClSr7PO"
      },
      "source": [
        "> ### `5.` Criar um programa para mostrar a tabuada de um número inteiro fornecido pelo usuário.\n",
        "### Exemplo de execução do programa:\n",
        "    Valor inteiro: 5\n",
        "\n",
        "    Tabuada do 5:\n",
        "\n",
        "    5 x 1 = 5\n",
        "    5 x 2 = 10\n",
        "    5 x 3 = 15\n",
        "    5 x 4 = 20\n",
        "    5 x 5 = 25\n",
        "    5 x 6 = 30\n",
        "    5 x 7 = 35\n",
        "    5 x 8 = 40\n",
        "    5 x 9 = 45\n",
        "    5 x 10 = 50"
      ]
    },
    {
      "cell_type": "code",
      "source": [
        "n = int(input('Valor inteiro: '))\n",
        "print(f'\\nTabuada do {n}:\\n')\n",
        "\n",
        "for fator in range(1, 11):\n",
        "    print(f'{n} x {fator} = {n * fator}')"
      ],
      "metadata": {
        "colab": {
          "base_uri": "https://localhost:8080/"
        },
        "id": "3C0tyBAtMRZN",
        "outputId": "d7509e7c-02cd-41a1-d16a-17d214c9a870"
      },
      "execution_count": null,
      "outputs": [
        {
          "output_type": "stream",
          "name": "stdout",
          "text": [
            "Valor inteiro: 7\n",
            "\n",
            "Tabuada do 7:\n",
            "\n",
            "7 x 1 = 7\n",
            "7 x 2 = 14\n",
            "7 x 3 = 21\n",
            "7 x 4 = 28\n",
            "7 x 5 = 35\n",
            "7 x 6 = 42\n",
            "7 x 7 = 49\n",
            "7 x 8 = 56\n",
            "7 x 9 = 63\n",
            "7 x 10 = 70\n"
          ]
        }
      ]
    },
    {
      "cell_type": "markdown",
      "metadata": {
        "id": "37z93DBTsj_e"
      },
      "source": [
        "> ### `6.` Criar um programa para ler 8 valores reais (`float`) e, após as leituras, mostrar a média aritmética dos valores positivos (maiores que zero). Mostrar uma mensagem se não tiver valores positivos."
      ]
    },
    {
      "cell_type": "code",
      "source": [
        "qp = soma = 0\n",
        "\n",
        "for i in range(8):\n",
        "    n = float(input(f'Valor {i + 1}: '))\n",
        "\n",
        "    if n > 0:\n",
        "        qp += 1\n",
        "        soma += n\n",
        "\n",
        "if qp == 0:\n",
        "    print('\\nNão foi digitado nenhum valor positivo')\n",
        "else:\n",
        "    print(f'\\nO valor da média aritmética é {(soma / qp):.3f}')"
      ],
      "metadata": {
        "colab": {
          "base_uri": "https://localhost:8080/"
        },
        "id": "KWTp_SMBLpBy",
        "outputId": "7f1a71bf-d008-4355-e02d-f3cd58c1bf9a"
      },
      "execution_count": null,
      "outputs": [
        {
          "output_type": "stream",
          "name": "stdout",
          "text": [
            "Valor 1: -1\n",
            "Valor 2: 3\n",
            "Valor 3: 0\n",
            "Valor 4: -10\n",
            "Valor 5: -5\n",
            "Valor 6: 6\n",
            "Valor 7: -7\n",
            "Valor 8: 9\n",
            "\n",
            "O valor da média aritmética é 6.000\n"
          ]
        }
      ]
    },
    {
      "cell_type": "markdown",
      "metadata": {
        "id": "yorp8qoLs-bi"
      },
      "source": [
        "> ### `7.` Criar um programa para ler 8 valores reais (`float`) e, após as leituras, mostrar o **menor** e o **maior** valor digitado pelo usuário."
      ]
    },
    {
      "cell_type": "code",
      "source": [
        "maior = menor = float(input('Valor 1: '))\n",
        "for i in range(2, 9):\n",
        "    n = float(input(f'Valor {i}: '))\n",
        "\n",
        "    if n < menor:\n",
        "        menor = n\n",
        "\n",
        "    if n > maior:\n",
        "        maior = n\n",
        "\n",
        "print(f'\\nO menor valor é {menor} \\nO maior valor é {maior}') "
      ],
      "metadata": {
        "id": "52wAsIEwSXOa",
        "colab": {
          "base_uri": "https://localhost:8080/"
        },
        "outputId": "68cf8c10-b14d-4915-97ae-e30078c47a46"
      },
      "execution_count": null,
      "outputs": [
        {
          "output_type": "stream",
          "name": "stdout",
          "text": [
            "Valor 1: -8\n",
            "Valor 2: -10\n",
            "Valor 3: -66\n",
            "Valor 4: -1\n",
            "Valor 5: -3.65891\n",
            "Valor 6: -3.69748\n",
            "Valor 7: 0\n",
            "Valor 8: -2\n",
            "\n",
            "O menor valor é -66.0 \n",
            "O maior valor é 0.0\n"
          ]
        }
      ]
    },
    {
      "cell_type": "code",
      "source": [
        "# Outra forma:\n",
        "# Usamos o i para saber se i é igual a zero, o programa está rodando pela primeira vez\n",
        "# Não é legal porque ele vai testar todas as vezes e só vai entrar uma\n",
        "for i in range(8):\n",
        "    n = float(input(f'Valor {i}: '))\n",
        "\n",
        "    if i == 0:\n",
        "        menor = maior = n\n",
        "        \n",
        "    if n < menor:\n",
        "        menor = n\n",
        "\n",
        "    if n > maior:\n",
        "        maior = n\n",
        "\n",
        "print(f'\\nO menor valor é {menor} \\nO maior valor é {maior}') "
      ],
      "metadata": {
        "id": "CYxdwzqFZMJQ",
        "colab": {
          "base_uri": "https://localhost:8080/"
        },
        "outputId": "bed3ec0b-0c4a-43b1-d9b1-9a3d801460fd"
      },
      "execution_count": 9,
      "outputs": [
        {
          "output_type": "stream",
          "name": "stdout",
          "text": [
            "Valor 0: 4\n",
            "Valor 1: 6\n",
            "Valor 2: 9\n",
            "Valor 3: 200\n",
            "Valor 4: -50\n",
            "Valor 5: 3\n",
            "Valor 6: 500\n",
            "Valor 7: -20\n",
            "\n",
            "O menor valor é -50.0 \n",
            "O maior valor é 500.0\n"
          ]
        }
      ]
    },
    {
      "cell_type": "code",
      "source": [
        "# Usando infinito que temos em Python\n",
        "\n",
        "me = float('inf')  # \"infinito\" para valor inicial do menor\n",
        "ma = float('-inf')  # \"infinito\" negativo para valor inicial do maior\n",
        "for i in range(8):\n",
        "    val = float(input(f'Valor {i + 1}: '))\n",
        "    if val < me:\n",
        "        me = val\n",
        "    if val > ma:\n",
        "        ma = val\n",
        "\n",
        "print(f'\\nMenor = {me}\\n\\nMaior = {ma}')"
      ],
      "metadata": {
        "id": "VX_dzU64igCn",
        "colab": {
          "base_uri": "https://localhost:8080/"
        },
        "outputId": "8d170cd7-aeac-4d1d-d7db-96a44fe41ce5"
      },
      "execution_count": 10,
      "outputs": [
        {
          "output_type": "stream",
          "name": "stdout",
          "text": [
            "Valor 1: 50\n",
            "Valor 2: 2\n",
            "Valor 3: 100\n",
            "Valor 4: -1\n",
            "Valor 5: 200\n",
            "Valor 6: -5\n",
            "Valor 7: 8\n",
            "Valor 8: 7\n",
            "\n",
            "Menor = -5.0\n",
            "\n",
            "Maior = 200.0\n"
          ]
        }
      ]
    },
    {
      "cell_type": "markdown",
      "metadata": {
        "id": "ZhrKJk1ywiod"
      },
      "source": [
        "> ### `8.` Fulano tem 1 m de altura e Ciclano tem 1,4 m de altura. Fulano cresce 3 cm por ano e Ciclano cresce 2 cm por ano. Quantos anos serão necessários para que Fulano fique mais alto que Ciclano?\n",
        "> ### Crie um programa para realizar o cálculo."
      ]
    },
    {
      "cell_type": "code",
      "source": [
        "# Como não sabemos quantas vezes temos que aumentar as duas idades, usamos o while:\n",
        "h1 = 1  # Altura de Fulano\n",
        "h2 = 1.4  # Altura do Ciclano\n",
        "cres1 = 0.03  # Crescimento do Fulano (em metros)\n",
        "cres2 = 0.02  # Crescimento do Ciclano (em metros)\n",
        "\n",
        "anos = 0  # Quantidade de anos que passaram\n",
        "while h2 >= h1:  # Passar dos anos\n",
        "    h1 += cres1\n",
        "    h2 += cres2\n",
        "    anos += 1\n",
        "\n",
        "    # if h1 > h2:\n",
        "    #     break\n",
        "\n",
        "print(f'Vai demorar {anos} anos')"
      ],
      "metadata": {
        "colab": {
          "base_uri": "https://localhost:8080/"
        },
        "id": "a4DNgjMHkZ-6",
        "outputId": "22286abf-f087-4228-e8e1-649187fff21a"
      },
      "execution_count": null,
      "outputs": [
        {
          "output_type": "stream",
          "name": "stdout",
          "text": [
            "Vai demorar 41 anos\n"
          ]
        }
      ]
    },
    {
      "cell_type": "markdown",
      "metadata": {
        "id": "IjtPxyy_o4LU"
      },
      "source": [
        "> ### `9.` Criar um programa para calcular e mostrar o fatorial de um número N qualquer (N!), com N fornecido pelo usuário.\n",
        "> ### N! = N . (N - 1) . (N - 2) ... 1\n",
        "### Exemplo:\n",
        "    Valor de N: 5\n",
        "\n",
        "    5! = 120\n"
      ]
    },
    {
      "cell_type": "code",
      "source": [
        "n = int(input('N: '))\n",
        "\n",
        "mult = 1\n",
        "for i in range(1, n+1):  # Poderia começar no 2, porque multiplicar por 1 não muda \n",
        "    mult *= i\n",
        "\n",
        "print(f'\\n{n}! = {mult}')\n",
        "\n",
        "# Solução do professor\n",
        "\n",
        "n = int(input('Valor de N: '))\n",
        "f = 1\n",
        "\n",
        "print(f'\\n{n}! = ', end='')\n",
        "for x in range(n, )"
      ],
      "metadata": {
        "id": "RWLBUW42qUCw",
        "colab": {
          "base_uri": "https://localhost:8080/"
        },
        "outputId": "084b711f-ca86-4a45-bcd4-265643849804"
      },
      "execution_count": null,
      "outputs": [
        {
          "output_type": "stream",
          "name": "stdout",
          "text": [
            "N: 0\n",
            "\n",
            "0! = 1\n"
          ]
        }
      ]
    },
    {
      "cell_type": "markdown",
      "metadata": {
        "id": "nycHoX4H2rHi"
      },
      "source": [
        "> ### `10.` Criar um programa para ler a idade (em anos) de 7 pessoas e, após as leituras, mostrar a idade da pessoa mais nova (menor idade)."
      ]
    },
    {
      "cell_type": "code",
      "source": [
        "menor_idade = 150\n",
        "\n",
        "for c in range(7):\n",
        "    idade = int(input(f'Idade da pessoa {c + 1} (em anos): '))\n",
        "\n",
        "    if idade < menor_idade:\n",
        "        menor_idade = idade\n",
        "\n",
        "print(f'\\nA pessoa que tem a menor idade possui {menor_idade} anos')"
      ],
      "metadata": {
        "id": "BRZoNpbyo5tr",
        "colab": {
          "base_uri": "https://localhost:8080/"
        },
        "outputId": "5c15241c-0a16-4975-bbb2-b3687fe4b0f4"
      },
      "execution_count": null,
      "outputs": [
        {
          "output_type": "stream",
          "name": "stdout",
          "text": [
            "Idade da pessoa 1 (em anos): 19\n",
            "Idade da pessoa 2 (em anos): 80\n",
            "Idade da pessoa 3 (em anos): 99\n",
            "Idade da pessoa 4 (em anos): 31\n",
            "Idade da pessoa 5 (em anos): 15\n",
            "Idade da pessoa 6 (em anos): 7\n",
            "Idade da pessoa 7 (em anos): 25\n",
            "\n",
            "A pessoa que tem a menor idade possui 7 anos\n"
          ]
        }
      ]
    },
    {
      "cell_type": "code",
      "source": [
        "meid = 1000  # valor inicial alto (bem acima dos valores permitidos para a entrada)\n",
        "for i in range(7):\n",
        "    id = int(input(f'Idade da {i + 1}ª pessoa: '))\n",
        "    if id < meid:\n",
        "        meid = id\n",
        "\n",
        "print(f'\\nIdade da pessoa mais nova = {meid} anos')"
      ],
      "metadata": {
        "colab": {
          "base_uri": "https://localhost:8080/"
        },
        "outputId": "b9160950-8615-48bf-ff9c-c09984b06134",
        "id": "N8kgq2OTQNkM"
      },
      "execution_count": null,
      "outputs": [
        {
          "output_type": "stream",
          "name": "stdout",
          "text": [
            "Idade da 1ª pessoa: 60\n",
            "Idade da 2ª pessoa: 45\n",
            "Idade da 3ª pessoa: 78\n",
            "Idade da 4ª pessoa: 12\n",
            "Idade da 5ª pessoa: 43\n",
            "Idade da 6ª pessoa: 67\n",
            "Idade da 7ª pessoa: 25\n",
            "\n",
            "Idade da pessoa mais nova = 12 anos\n"
          ]
        }
      ]
    },
    {
      "cell_type": "markdown",
      "metadata": {
        "id": "6vpjfRJf28XT"
      },
      "source": [
        "> ### `11.` Criar um programa para ler a idade e o peso de 5 pessoas e resolver:\n",
        "+ ### Calcular e mostrar a qtde de pessoas com idade entre 10 e 50 anos (inclusive).\n",
        "+ ### Calcular e mostrar o menor peso das pessoas idosas (60 anos ou mais). Se não tiver idosos, mostrar uma msg."
      ]
    },
    {
      "cell_type": "code",
      "source": [
        "R = 5  # Repetições\n",
        "\n",
        "interv_id1 = 0  # Quantidade de pessoas que tem a idade dentro do intervalo de 10 a 50 anos\n",
        "menor_peso = float('inf')  # O valor inicial do menor peso - +Infinito\n",
        "tem_idosos = False  # Flag para saber se tem pessoas com mais de 60 anos, será usado no segundo print\n",
        "\n",
        "for i in range(R):\n",
        "    idade = int(input(f'\\nIdade {i + 1} (em anos): ')) \n",
        "    peso = float(input(f'Peso {i + 1} (em Kg): '))\n",
        "\n",
        "    if idade >= 10 and idade <= 50:  # Primeiro tópico - Qtd de pessoas com idade entre 10 e 50 anos\n",
        "        interv_id1 += 1\n",
        "    \n",
        "    if idade >= 60:  # Segundo tópico - Encontrando o menor peso entre os idosos\n",
        "        if peso < menor_peso:\n",
        "            menor_peso = peso\n",
        "            tem_idosos = True\n",
        "\n",
        "print(f'\\n> A quantidade de pessoas com idade entre 10 e 50 anos é {interv_id1}.')  # Print do tópico 1\n",
        "\n",
        "if tem_idosos:  # Print do tópico 2\n",
        "    print(f'> O menor peso entre as pessoas idosas é {menor_peso:.3f} Kg.')\n",
        "else:\n",
        "    print('> Não tem nenhuma pessoa idosa dentro do que foi digitado.')\n"
      ],
      "metadata": {
        "colab": {
          "base_uri": "https://localhost:8080/"
        },
        "id": "LXnXccy1Qdi-",
        "outputId": "0d9492d3-5b54-4f40-9381-139757830161"
      },
      "execution_count": null,
      "outputs": [
        {
          "output_type": "stream",
          "name": "stdout",
          "text": [
            "\n",
            "Idade 1 (em anos): 60\n",
            "Peso 1 (em Kg): 80\n",
            "\n",
            "Idade 2 (em anos): 10\n",
            "Peso 2 (em Kg): 40\n",
            "\n",
            "Idade 3 (em anos): 80\n",
            "Peso 3 (em Kg): 77\n",
            "\n",
            "Idade 4 (em anos): 35\n",
            "Peso 4 (em Kg): 67\n",
            "\n",
            "Idade 5 (em anos): 26\n",
            "Peso 5 (em Kg): 60\n",
            "\n",
            "> A quantidade de pessoas com idade entre 10 e 50 anos é 3.\n",
            "> O menor peso entre as pessoas idosas é 77.000 Kg.\n"
          ]
        }
      ]
    },
    {
      "cell_type": "code",
      "source": [
        "# Resolução do professor\n",
        "\n",
        "q1050 = 0\n",
        "mepid = float('inf')  # valor alto no início\n",
        "for i in range(5):\n",
        "    print(f'{i + 1}ª Pessoa:')\n",
        "    idade = int(input('Idade (anos): '))\n",
        "    peso = float(input('Peso (Kg): '))\n",
        "    print('-' * 20)\n",
        "\n",
        "    if idade >= 10 and idade <= 50:\n",
        "        q1050 += 1\n",
        "\n",
        "    if idade >= 60 and peso < mepid:\n",
        "        mepid = peso\n",
        "\n",
        "print(f'\\nQtde de pessoas com idade entre 10 e 50 anos = {q1050}')\n",
        "if mepid != float('inf'):\n",
        "    print(f'\\nMenor peso dos idosos = {mepid:.1f} Kg')\n",
        "else:\n",
        "    print('\\nNão há idosos!')"
      ],
      "metadata": {
        "colab": {
          "base_uri": "https://localhost:8080/"
        },
        "id": "-BYxyCG2QFlg",
        "outputId": "5d28f5f4-d55f-4205-d0e6-4d2c95b95b61"
      },
      "execution_count": null,
      "outputs": [
        {
          "output_type": "stream",
          "name": "stdout",
          "text": [
            "1ª Pessoa:\n",
            "Idade (anos): 60\n",
            "Peso (Kg): 80\n",
            "--------------------\n",
            "2ª Pessoa:\n",
            "Idade (anos): 10\n",
            "Peso (Kg): 40\n",
            "--------------------\n",
            "3ª Pessoa:\n",
            "Idade (anos): 80\n",
            "Peso (Kg): 77\n",
            "--------------------\n",
            "4ª Pessoa:\n",
            "Idade (anos): 35\n",
            "Peso (Kg): 67\n",
            "--------------------\n",
            "5ª Pessoa:\n",
            "Idade (anos): 26\n",
            "Peso (Kg): 60\n",
            "--------------------\n",
            "\n",
            "Qtde de pessoas com idade entre 10 e 50 anos = 3\n",
            "\n",
            "Menor peso dos idosos = 77.0 Kg\n"
          ]
        }
      ]
    },
    {
      "cell_type": "markdown",
      "metadata": {
        "id": "Hyf14wCY3fNG"
      },
      "source": [
        "> ### `12.` Criar um programa para mostrar os N primeiros termos da sequência de Fibonacci, com N fornecido pelo usuário.\n",
        "\n",
        "### Sequência de Fibonacci: 1 1 2 3 5 8 13 21 ...\n",
        "+ ### O próximo valor é a soma dos dois anteriores."
      ]
    },
    {
      "cell_type": "code",
      "source": [
        "N = int(input('N: '))\n",
        "\n",
        "v0 = 0\n",
        "v1 = 1\n",
        "\n",
        "for i in range(N):\n",
        "    if i % 2 == 0:\n",
        "        print(v1, end=' ')\n",
        "        v0 = v0 + v1\n",
        "        \n",
        "    else:\n",
        "        print(v0, end=' ')\n",
        "        v1 = v0 + v1"
      ],
      "metadata": {
        "id": "yRXDZX3lcZJl",
        "colab": {
          "base_uri": "https://localhost:8080/"
        },
        "outputId": "2fdf9e0f-59c9-43d9-ee63-d55c192c13b0"
      },
      "execution_count": null,
      "outputs": [
        {
          "output_type": "stream",
          "name": "stdout",
          "text": [
            "N: 8\n",
            "1 1 2 3 5 8 13 21 "
          ]
        }
      ]
    },
    {
      "cell_type": "code",
      "source": [
        "# Resolução do professor:\n",
        "\n",
        "n = int(input('Qtde de termos da sequência de Fibonacci: '))\n",
        "print('\\nSequência de Fibonacci: ', end='')\n",
        "a = 0  # 0 é um valor imaginário, que vem antes do primeiro. Usamos ele para auxiliar no cálculo\n",
        "b = 1\n",
        "\n",
        "for i in range(n):\n",
        "    print(b, end=' ')\n",
        "    p = a + b  # Próximo\n",
        "    a = b\n",
        "    b = p"
      ],
      "metadata": {
        "colab": {
          "base_uri": "https://localhost:8080/"
        },
        "id": "xltYEtjshdT3",
        "outputId": "a32fdb0c-9037-446f-89f3-521dbb510863"
      },
      "execution_count": null,
      "outputs": [
        {
          "output_type": "stream",
          "name": "stdout",
          "text": [
            "Qtde de termos da sequência de Fibonacci: 5\n",
            "\n",
            "Sequência de Fibonacci: 1 1 2 3 5 "
          ]
        }
      ]
    },
    {
      "cell_type": "code",
      "metadata": {
        "colab": {
          "base_uri": "https://localhost:8080/"
        },
        "id": "UMhQvIq4psrf",
        "outputId": "11da6f78-962f-4c05-decf-b1444b8069fa"
      },
      "source": [
        "# Forma Pythônica: usando atribuição múltipla\n",
        "n = int(input('Qtde de termos da sequência de Fibonacci: '))\n",
        "print('\\nSequência de Fibonacci: ', end='')\n",
        "a, b = 0, 1\n",
        "for i in range(n):\n",
        "    print(b, end=' ')\n",
        "    a, b = b, a + b"
      ],
      "execution_count": null,
      "outputs": [
        {
          "output_type": "stream",
          "name": "stdout",
          "text": [
            "Qtde de termos da sequência de Fibonacci: 5\n",
            "\n",
            "Sequência de Fibonacci: 1 1 2 3 5 "
          ]
        }
      ]
    },
    {
      "cell_type": "markdown",
      "metadata": {
        "id": "1hfCT7DarX-N"
      },
      "source": [
        "> ### `13.` Em uma eleição existem três candidatos e voto em branco. Crie um programa para ler o número total de eleitores, mostrar as opções de voto e ler o voto de cada eleitor. Após a votação, mostrar o número de votos de cada candidato e os votos em branco.\n",
        "### `Desafio`: calcular a % de votos de cada candidato e também dos votos em branco.\n",
        "### Exemplo de interface do programa:\n",
        "    Opções:\n",
        "    1 - Candidato 1\n",
        "    2 - Candidato 2\n",
        "    3 - Candidato 3\n",
        "    4 - Branco\n",
        "    Voto do 1º eleitor: "
      ]
    },
    {
      "cell_type": "code",
      "source": [
        "from IPython.display import clear_output\n",
        "\n",
        "N = int(input('Qtde eleitores: '))\n",
        "c1 = c2 = c3 = brancos = 0\n",
        "\n",
        "for i in range(N):\n",
        "    clear_output(True)\n",
        "\n",
        "    print('Opções: \\n' \n",
        "          '1 - Candidato 1 \\n'\n",
        "          '2 - Candidato 2 \\n'\n",
        "          '3 - Candidato 3 \\n'\n",
        "          '4 - Branco \\n')  \n",
        "    \n",
        "    voto = int(input(f'Voto do {i+1}º Eleitor: '))\n",
        "\n",
        "    if voto == 1:\n",
        "        c1 += 1\n",
        "    elif voto == 2:\n",
        "        c2 += 1\n",
        "    elif voto == 3:\n",
        "        c3 += 1\n",
        "    elif voto == 4:\n",
        "        brancos += 1\n",
        "    else:\n",
        "        print('Você digitou uma opção inválida!')\n",
        "\n",
        "clear_output(True)\n",
        "print('Resultado da votação: ')\n",
        "print(f'Candidato 1: {c1} votos - {(c1/N)*100:.2f}%\\n'\n",
        "      f'Candidato 2: {c2} votos - {(c2/N)*100:.2f}%\\n'\n",
        "      f'Candidato 3: {c3} votos - {(c3/N)*100:.2f}%\\n'\n",
        "      f'Votos Brancos: {brancos} votos - {(brancos/N)*100:.2f}%\\n')\n"
      ],
      "metadata": {
        "id": "zMFIDInirbsD",
        "colab": {
          "base_uri": "https://localhost:8080/"
        },
        "outputId": "2828e8c9-5c19-46a6-bef1-9ad1e02bedc7"
      },
      "execution_count": null,
      "outputs": [
        {
          "output_type": "stream",
          "name": "stdout",
          "text": [
            "Resultado da votação: \n",
            "Candidato 1: 2 votos - 40.00%\n",
            "Candidato 2: 1 votos - 20.00%\n",
            "Candidato 3: 1 votos - 20.00%\n",
            "Votos Brancos: 1 votos - 20.00%\n",
            "\n"
          ]
        }
      ]
    },
    {
      "cell_type": "markdown",
      "metadata": {
        "id": "eet1wPvysMlg"
      },
      "source": [
        "> ### **`14.`** Crie um programa para ler um número inteiro e, após a leitura, mostrar se o número é PRIMO ou não.\n",
        "### `Regra matemática`: número primo é divisível por 1 e por ele mesmo, APENAS. ** Exceção: número 1.\n",
        "### `Regra na programação`: todos são primos e devemos verificar se há divisores entre 2 e a metade inteira (quociente da divisão por 2) do número escolhido pelo usuário. Se houver, NÃO é primo."
      ]
    },
    {
      "cell_type": "code",
      "source": [
        "eh_primo = True\n",
        "\n",
        "x = int(input('Número: '))\n",
        "\n",
        "for i in range(2, x//2 +1):\n",
        "    if x % i == 0:\n",
        "        eh_primo = False\n",
        "        break\n",
        "\n",
        "if eh_primo is True and x != 1:\n",
        "    print(f'O número {x} É primo!')\n",
        "else:\n",
        "    print(f'O número {x} NÃO é primo!')"
      ],
      "metadata": {
        "colab": {
          "base_uri": "https://localhost:8080/"
        },
        "id": "Dvzp67rQhrW6",
        "outputId": "808cb19c-e737-4873-cf94-f7c7cb1932ae"
      },
      "execution_count": null,
      "outputs": [
        {
          "output_type": "stream",
          "name": "stdout",
          "text": [
            "Número: 1\n",
            "O número 1 É primo!\n"
          ]
        }
      ]
    },
    {
      "cell_type": "markdown",
      "metadata": {
        "id": "ubgwkqY1xNHr"
      },
      "source": [
        "> ### `Extra`: mostrar todos os números primos em um intervalo, com início e fim fornecidos pelo usuário."
      ]
    },
    {
      "cell_type": "code",
      "source": [
        "inicio = int(input('Início: '))\n",
        "fim = int(input('Fim: '))\n",
        "print(f'Números primos entre {inicio} e {fim}: ', end='')\n",
        "\n",
        "for x in range(inicio, fim+1):\n",
        "    eh_primo = True\n",
        "\n",
        "    for i in range(2, x//2 +1):\n",
        "        if x % i == 0:\n",
        "            eh_primo = False\n",
        "            break\n",
        "\n",
        "    if eh_primo is True and x != 1:\n",
        "        print(x, end=' ')"
      ],
      "metadata": {
        "id": "bMENKHoFvpmK",
        "colab": {
          "base_uri": "https://localhost:8080/"
        },
        "outputId": "415c51f4-a343-4c63-cc14-f3f83f28e941"
      },
      "execution_count": null,
      "outputs": [
        {
          "output_type": "stream",
          "name": "stdout",
          "text": [
            "Início: 10\n",
            "Fim: 50\n",
            "\n",
            "11 13 17 19 23 29 31 37 41 43 47 "
          ]
        }
      ]
    },
    {
      "cell_type": "markdown",
      "metadata": {
        "id": "XtFXDXZkoS0p"
      },
      "source": [
        "> ### **`15.`** Crie um programa para gerar e mostrar 10 números aleatórios entre 1 e 1000."
      ]
    },
    {
      "cell_type": "code",
      "metadata": {
        "colab": {
          "base_uri": "https://localhost:8080/"
        },
        "id": "f-sSdVLuoh1a",
        "outputId": "63511ea8-a1af-43c6-9e42-1b2678f05134"
      },
      "source": [
        "from random import randint\n",
        "\n",
        "for i in range(10):\n",
        "    print(randint(1, 1000), end=' ')"
      ],
      "execution_count": null,
      "outputs": [
        {
          "output_type": "stream",
          "name": "stdout",
          "text": [
            "530 87 114 71 147 966 806 556 502 4 "
          ]
        }
      ]
    },
    {
      "cell_type": "markdown",
      "metadata": {
        "id": "NqEJyngKrIPp"
      },
      "source": [
        "> ## **Jogo**: acerte o número.\n",
        "---\n",
        "### Regras:\n",
        "### `CPU`: gerar um número aleatório entre 1 e 100.\n",
        "### `Jogador`: o objetivo é acertar o número gerado no menor número de tentativas possível.\n",
        "### Detalhes:\n",
        "+ #### A cada tentativa com erro, o jogo deve informar se o valor \"pensado\" pela CPU é **menor** ou **maior** que o valor digitado pelo jogador.\n",
        "+ #### Após o acerto, mostrar a qtde de tentativas que o jogador realizou e, durante o jogo, mostrar qual a tentativa o jogador está realizando no momento."
      ]
    },
    {
      "cell_type": "code",
      "source": [
        "from random import randint\n",
        "\n",
        "cpu = randint(1, 100)\n",
        "tentativa = 1\n",
        "\n",
        "print('--------- Acerte o número de 1 a 100 \"pensado\" pela CPU! ---------\\n')\n",
        "while True:\n",
        "    chute = int(input(f'{tentativa}ª tentativa: '))\n",
        "\n",
        "    if chute == cpu:\n",
        "        print(f'\\nParabéns, você acertou em {tentativa} tentativas!')\n",
        "        break\n",
        "    elif chute > cpu:\n",
        "        print('Menor\\n')\n",
        "    else:\n",
        "        print('Maior\\n')\n",
        "    \n",
        "    tentativa += 1"
      ],
      "metadata": {
        "id": "COA_sa-2w68b",
        "colab": {
          "base_uri": "https://localhost:8080/"
        },
        "outputId": "0b7bf072-955b-46da-eb3d-403c116f41f4"
      },
      "execution_count": null,
      "outputs": [
        {
          "output_type": "stream",
          "name": "stdout",
          "text": [
            "--------- Acerte o número de 1 a 100 \"pensado\" pela CPU! ---------\n",
            "\n",
            "1ª tentativa: 50\n",
            "Menor\n",
            "\n",
            "2ª tentativa: 25\n",
            "Menor\n",
            "\n",
            "3ª tentativa: 12\n",
            "Maior\n",
            "\n",
            "4ª tentativa: 18\n",
            "\n",
            "Parabéns, você acertou em 4 tentativas!\n"
          ]
        }
      ]
    },
    {
      "cell_type": "markdown",
      "source": [
        "### Programa do professor:"
      ],
      "metadata": {
        "id": "UIzis8HXT0m-"
      }
    },
    {
      "cell_type": "code",
      "source": [
        "from IPython.display import clear_output\n",
        "from random import randint\n",
        "from time import sleep\n",
        "\n",
        "while True:  # repete o jogo\n",
        "    clear_output(True)\n",
        "    cpu = randint(1, 100)  # gerar número aleatório entre 1 e 100\n",
        "    tent = 1\n",
        "    while True:  # repete as tentativas\n",
        "        print('A CPU gerou um número entre 1 e 100.\\nTente acertar o número...\\n\\n')\n",
        "        jog = int(input(f'Tentativa {tent}: '))\n",
        "        if cpu < jog:\n",
        "            print('\\nO valor é MENOR...\\n')\n",
        "        elif cpu > jog:\n",
        "            print('\\nO valor é MAIOR...\\n')\n",
        "        else:  # ganhou o jogo\n",
        "            print(f'\\nACERTOU o número em {tent} tentativas!!!')\n",
        "            break\n",
        "        tent += 1  # avança para próxima tentativa\n",
        "        sleep(1.5)  # espera 1 segundo e meio antes de continuar o programa\n",
        "        clear_output(True)\n",
        "\n",
        "    op = input('\\n\\nJogar novamente (sim ou não)?')\n",
        "    if op == 'não':\n",
        "        break"
      ],
      "metadata": {
        "colab": {
          "base_uri": "https://localhost:8080/"
        },
        "id": "TDbxKilgPREK",
        "outputId": "90a46e22-3d5f-495f-bf2b-ff726c45a93d"
      },
      "execution_count": null,
      "outputs": [
        {
          "name": "stdout",
          "output_type": "stream",
          "text": [
            "A CPU gerou um número entre 1 e 100.\n",
            "Tente acertar o número...\n",
            "\n",
            "\n",
            "Tentativa 7: 57\n",
            "\n",
            "ACERTOU o número em 7 tentativas!!!\n",
            "\n",
            "\n",
            "Jogar novamente (sim ou não)?não\n"
          ]
        }
      ]
    },
    {
      "cell_type": "markdown",
      "source": [
        "### Correção da prova"
      ],
      "metadata": {
        "id": "KjQ_M6OlbWoE"
      }
    },
    {
      "cell_type": "code",
      "source": [
        "s = cont = 0\n",
        "mneg = float('-inf')\n",
        "val = None\n",
        "\n",
        "for i in range(5):\n",
        "    ant = val\n",
        "    val = float(input(f'Valor {i + 1}: '))\n",
        "    \n",
        "    if i == 0 or i == 2:\n",
        "        s += val\n",
        "    \n",
        "    if val < 0 and val > mneg:\n",
        "        mneg = val\n",
        "    \n",
        "    if val == ant:\n",
        "        cont += 1\n",
        "\n",
        "ma = s/2\n",
        "print(f'\\na) Média = {ma}')\n",
        "\n",
        "if mneg != float('-inf'):\n",
        "    print(f'\\nb) Maior negativo: {mneg}')\n",
        "else:\n",
        "    print('\\nb) Não há negativos!')\n",
        "\n",
        "print(f'\\nc) Qtd: {cont}')"
      ],
      "metadata": {
        "id": "gLDgYIVLbVW1",
        "colab": {
          "base_uri": "https://localhost:8080/"
        },
        "outputId": "06f0ff30-7146-4a74-9b65-32267624ced1"
      },
      "execution_count": 12,
      "outputs": [
        {
          "output_type": "stream",
          "name": "stdout",
          "text": [
            "Valor 1: 10\n",
            "Valor 2: 20\n",
            "Valor 3: 20\n",
            "Valor 4: 35\n",
            "Valor 5: 2\n",
            "\n",
            "a) Média = 15.0\n",
            "\n",
            "b) Não há negativos!\n",
            "\n",
            "c) Qtd: 1\n"
          ]
        }
      ]
    },
    {
      "cell_type": "markdown",
      "metadata": {
        "id": "LXwjvPGim6kf"
      },
      "source": [
        "> # **Strings** (textos): \"listas\" de caracteres. \n",
        "---\n",
        "---"
      ]
    },
    {
      "cell_type": "code",
      "source": [
        "id()  # Mostra o endereço de onde a variável está armazenada"
      ],
      "metadata": {
        "id": "_k2xW7V2luAz"
      },
      "execution_count": null,
      "outputs": []
    },
    {
      "cell_type": "markdown",
      "metadata": {
        "id": "_TMTrMbMnVZx"
      },
      "source": [
        "> ## Principais operações com strings:\n",
        "---"
      ]
    },
    {
      "cell_type": "code",
      "metadata": {
        "id": "QrKXnKJXnY1j",
        "colab": {
          "base_uri": "https://localhost:8080/"
        },
        "outputId": "2a008f91-e157-4fea-b047-2651987b29af"
      },
      "source": [
        "curso = 'Ciência da Computação'  # atribuição de uma string (texto) a uma variável - Python aceita aspas simples ou duplas para strings\n",
        "print(curso, type(curso))\n",
        "\n",
        "curso = ''  # limpar uma string\n",
        "print(curso)  # nada é mostrado\n",
        "\n",
        "cidade = 'Franca' + '-' + 'SP'  # concatenar strings constantes\n",
        "print(cidade)\n",
        "\n",
        "cid = 'Franca'\n",
        "est = 'SP'\n",
        "cidade = cid + '-' * 5 + est  # concatenar variáveis do tipo string e multiplicar strings\n",
        "print(cidade)\n",
        "\n",
        "curso = 'Ciência da Computação'\n",
        "for i in range(len(curso)):  # len calcula a qtde de elementos na string\n",
        "    print(curso[i], end = ' ')\n",
        "\n",
        "print()\n",
        "for c in curso:  # percorre a string e atribui a c cada caractere\n",
        "    print(c, end=' ')\n",
        "\n",
        "print()\n",
        "texto = 'texto'\n",
        "for i, c in enumerate(texto):  # Permite verificar o índice e o conteúdo de uma lista - gera uma lista de tuplas no formato: [(i[0], c[0]), (i[1], c[1]), ...] \n",
        "    print(i, c)\n",
        "\n",
        "# Em Python, NÃO É POSSÍVEL modificar uma posição da string através do seu índice\n",
        "\n",
        "# curso = 'Ciência da Computação'\n",
        "# curso[6] = '@'  # proibido modificar um posição através do índice\n",
        "# print(curso)\n",
        "\n",
        "# Outra maneira maneira de alterar:\n",
        "curso = 'Ciência da Computação'\n",
        "curso = list(curso)  # list converte a string em uma lista de caracteres\n",
        "curso[6] = '@'\n",
        "curso = ''.join(curso)  # join agrupa o elementos da lista em uma string (é um método de string)\n",
        "print(curso)\n",
        "\n",
        "# Recortes em strings (recurso muito usado em Python)\n",
        "# Lemos : como \"Todos\"\n",
        "curso = 'Ciência da Computação'\n",
        "print(curso[:])  # O operador : indica TODOS os caracteres (o mesmo que curso)\n",
        "print(curso[:5])  # os 5 primeiros\n",
        "print(curso[8:])  # do 9º ao último\n",
        "print(curso[4:7])  # do 5º ao 7º valor\n",
        "print(curso[len(curso) - 1])  # último caractere\n",
        "print(curso[-1])  # último caractere\n",
        "print(curso[0:10:2])  # Caracteres do 0 ao 10, com passo 2\n",
        "print(curso[-3:])  # Três últimos caracteres)"
      ],
      "execution_count": null,
      "outputs": [
        {
          "output_type": "stream",
          "name": "stdout",
          "text": [
            "Ciência da Computação <class 'str'>\n",
            "\n",
            "Franca-SP\n",
            "Franca-----SP\n",
            "C i ê n c i a   d a   C o m p u t a ç ã o \n",
            "C i ê n c i a   d a   C o m p u t a ç ã o \n",
            "0 t\n",
            "1 e\n",
            "2 x\n",
            "3 t\n",
            "4 o\n",
            "Ciênci@ da Computação\n",
            "Ciência da Computação\n",
            "Ciênc\n",
            "da Computação\n",
            "cia\n",
            "o\n",
            "o\n",
            "Cêcad\n",
            "ção\n"
          ]
        }
      ]
    },
    {
      "cell_type": "markdown",
      "metadata": {
        "id": "lVASIKPG0DHo"
      },
      "source": [
        "> ## Leitura de strings:\n",
        "---"
      ]
    },
    {
      "cell_type": "code",
      "metadata": {
        "id": "dRPXonQ_0QFI",
        "colab": {
          "base_uri": "https://localhost:8080/"
        },
        "outputId": "a3821f31-4726-40cd-eb9e-006b8e12be40"
      },
      "source": [
        "from time import sleep\n",
        "\n",
        "frase = input('Frase: ')\n",
        "for c in frase:\n",
        "    print(c, end='')\n",
        "    sleep(0.5)"
      ],
      "execution_count": 13,
      "outputs": [
        {
          "output_type": "stream",
          "name": "stdout",
          "text": [
            "Frase: Ciência da Computação\n",
            "Ciência da Computação"
          ]
        }
      ]
    },
    {
      "cell_type": "markdown",
      "metadata": {
        "id": "PHx0zyt305sS"
      },
      "source": [
        "> ## **Exercícios:**\n",
        "---\n",
        "---"
      ]
    },
    {
      "cell_type": "markdown",
      "metadata": {
        "id": "nUV3L5r41Abs"
      },
      "source": [
        "> ### `1.` Ler uma frase e contar a qtde de vogais contidas nessa frase.\n",
        "\n",
        "Obs: Não precisa considerar acento, mas precisa considerar minúsculas e maiúsculas"
      ]
    },
    {
      "cell_type": "code",
      "source": [
        "frase = input('Digite uma frase: ')\n",
        "vogais = 0\n",
        "\n",
        "for letra in frase:\n",
        "    if letra == 'a' or letra == 'b' or letra == 'c' or letra == 'd' or letra == 'e' or letra == 'A' or letra == 'B' or letra == 'C' or letra == 'D' or letra == 'E': \n",
        "        vogais += 1\n",
        "\n",
        "print(f'A quantidade de vogais nessa frase é de {vogais}')"
      ],
      "metadata": {
        "id": "k_1dUAcTqIeI",
        "colab": {
          "base_uri": "https://localhost:8080/"
        },
        "outputId": "eeeaeab8-901c-4a4d-b9d5-608686e2f1ef"
      },
      "execution_count": null,
      "outputs": [
        {
          "output_type": "stream",
          "name": "stdout",
          "text": [
            "Digite uma frase: ciencia da computacao\n",
            "A quantidade de vogais nessa frase é de 10\n"
          ]
        }
      ]
    },
    {
      "cell_type": "code",
      "source": [
        "# Resolução do professor\n",
        "\n",
        "frase = input('Frase: ')\n",
        "qv = 0\n",
        "for c in frase:\n",
        "    if c.lower() in 'aeiou':  # lower() converte uma string em minúsculas (upper o contrário)\n",
        "        qv += 1\n",
        "\n",
        "print(f'\\nQtde de vogais = {qv}')"
      ],
      "metadata": {
        "colab": {
          "base_uri": "https://localhost:8080/"
        },
        "id": "VJcyY30Tr_kr",
        "outputId": "7c1612bf-c6cb-457a-a380-9c72a3e72b26"
      },
      "execution_count": null,
      "outputs": [
        {
          "output_type": "stream",
          "name": "stdout",
          "text": [
            "Frase: ciencia da computacao\n",
            "\n",
            "Qtde de vogais = 10\n"
          ]
        }
      ]
    },
    {
      "cell_type": "markdown",
      "metadata": {
        "id": "aFEFO1iv1SCQ"
      },
      "source": [
        "> ### `2.` Ler uma frase e contar a qtde de consoantes dessa frase."
      ]
    },
    {
      "cell_type": "code",
      "source": [],
      "metadata": {
        "id": "2BzwOcBOviR6"
      },
      "execution_count": null,
      "outputs": []
    },
    {
      "cell_type": "markdown",
      "metadata": {
        "id": "JdoKzg2jufaz"
      },
      "source": [
        "> ### `3.` Ler uma frase e converter para maiúscula a primeira letra de cada palavra."
      ]
    },
    {
      "cell_type": "code",
      "source": [
        "frase = input('Frase: ')\n",
        "nova_frase = frase\n",
        "\n",
        "# Como precisamos acessar a letra anterior, é melhor usar o índice do que \n",
        "for i in range(len(frase)):\n",
        "    if i == 0 or frase[i-1] == ' ':  # Testando se é a primeira letra ou se a letra anterior é um espaço\n",
        "        lista_frase = list(nova_frase)\n",
        "        lista_frase[i] = lista_frase[i].upper()\n",
        "        nova_frase = ''.join(lista_frase)\n",
        "\n",
        "print(nova_frase)"
      ],
      "metadata": {
        "id": "tpGAdMpEvi_Y",
        "colab": {
          "base_uri": "https://localhost:8080/"
        },
        "outputId": "d280024d-1c1e-4973-e898-dc199cb49527"
      },
      "execution_count": null,
      "outputs": [
        {
          "output_type": "stream",
          "name": "stdout",
          "text": [
            "Frase: testando o que eu fiz\n",
            "Testando O Que Eu Fiz\n"
          ]
        }
      ]
    },
    {
      "cell_type": "code",
      "source": [
        "nome = input('Digite seu nome: ')\n",
        "print(f'Seu nome é {nome}')"
      ],
      "metadata": {
        "colab": {
          "base_uri": "https://localhost:8080/"
        },
        "id": "e4kkH27-iK2S",
        "outputId": "860de108-3732-4112-d826-315fdc818ee0"
      },
      "execution_count": null,
      "outputs": [
        {
          "output_type": "stream",
          "name": "stdout",
          "text": [
            "Digite seu nome: Willian\n",
            "Seu nome é Willian\n"
          ]
        }
      ]
    },
    {
      "cell_type": "markdown",
      "metadata": {
        "id": "aqH5pHM9ixHO"
      },
      "source": [
        "> # **Listas numéricas** (vetores).\n",
        "---\n",
        "---"
      ]
    },
    {
      "cell_type": "markdown",
      "metadata": {
        "id": "eWReNtzeoTjJ"
      },
      "source": [
        "> ## Criação, alteração e seleção de valores em listas.\n",
        "---"
      ]
    },
    {
      "cell_type": "markdown",
      "metadata": {
        "id": "rQwyV4k-oidO"
      },
      "source": [
        "> ## **Criação:**"
      ]
    },
    {
      "cell_type": "code",
      "metadata": {
        "colab": {
          "base_uri": "https://localhost:8080/"
        },
        "id": "5Cl1DqBEoP9U",
        "outputId": "4ad77e0c-fed5-4061-c016-c39336753781"
      },
      "source": [
        "lista = []  # criar uma lista vazia\n",
        "print(lista, type(lista))"
      ],
      "execution_count": null,
      "outputs": [
        {
          "output_type": "stream",
          "name": "stdout",
          "text": [
            "[] <class 'list'>\n"
          ]
        }
      ]
    },
    {
      "cell_type": "code",
      "metadata": {
        "colab": {
          "base_uri": "https://localhost:8080/"
        },
        "id": "RTxnT-NBpV2q",
        "outputId": "1853de61-b7e1-4039-88c2-b0b7c77af2e4"
      },
      "source": [
        "lista = [1, 2, 3, 4, 5]\n",
        "print(lista)"
      ],
      "execution_count": null,
      "outputs": [
        {
          "output_type": "stream",
          "name": "stdout",
          "text": [
            "[1, 2, 3, 4, 5]\n"
          ]
        }
      ]
    },
    {
      "cell_type": "code",
      "metadata": {
        "colab": {
          "base_uri": "https://localhost:8080/"
        },
        "id": "7ctgfB0ppjaE",
        "outputId": "248175f9-725f-4750-c333-c43e68a9d8a7"
      },
      "source": [
        "lista = [0] * 30  # criar uma lista com 30 zeros\n",
        "print(lista)"
      ],
      "execution_count": null,
      "outputs": [
        {
          "output_type": "stream",
          "name": "stdout",
          "text": [
            "[0, 0, 0, 0, 0, 0, 0, 0, 0, 0, 0, 0, 0, 0, 0, 0, 0, 0, 0, 0, 0, 0, 0, 0, 0, 0, 0, 0, 0, 0]\n"
          ]
        }
      ]
    },
    {
      "cell_type": "code",
      "metadata": {
        "colab": {
          "base_uri": "https://localhost:8080/"
        },
        "id": "-0OpeFINqQGz",
        "outputId": "63f45d25-d01b-4191-bb31-da3b423ee7d8"
      },
      "source": [
        "lista = []\n",
        "for v in range(30):\n",
        "    lista.append(v + 1)  # append acrescenta um valor no final da lista\n",
        "print(lista)"
      ],
      "execution_count": null,
      "outputs": [
        {
          "output_type": "stream",
          "name": "stdout",
          "text": [
            "[1, 2, 3, 4, 5, 6, 7, 8, 9, 10, 11, 12, 13, 14, 15, 16, 17, 18, 19, 20, 21, 22, 23, 24, 25, 26, 27, 28, 29, 30]\n"
          ]
        }
      ]
    },
    {
      "cell_type": "code",
      "metadata": {
        "colab": {
          "base_uri": "https://localhost:8080/"
        },
        "id": "Y_IfntrOrNL5",
        "outputId": "ca0594f3-9228-4543-cedc-c8a89da27195"
      },
      "source": [
        "lista = [v + 1 for v in range(30)]  # o for fornece os valores da lista\n",
        "# Podemos usar o for dentro da lista: O for fornece os valores para a variável da esquerda\n",
        "print(lista)"
      ],
      "execution_count": null,
      "outputs": [
        {
          "output_type": "stream",
          "name": "stdout",
          "text": [
            "[1, 2, 3, 4, 5, 6, 7, 8, 9, 10, 11, 12, 13, 14, 15, 16, 17, 18, 19, 20, 21, 22, 23, 24, 25, 26, 27, 28, 29, 30]\n"
          ]
        }
      ]
    },
    {
      "cell_type": "code",
      "source": [
        "lista = [v + 1 for v in range(30) if v % 2 == 0]  # Usando o if \n",
        "print(lista)"
      ],
      "metadata": {
        "colab": {
          "base_uri": "https://localhost:8080/"
        },
        "id": "3k-0HxV4qGZR",
        "outputId": "9c56d2c3-ce1d-42c7-a041-f1b77e17012f"
      },
      "execution_count": null,
      "outputs": [
        {
          "output_type": "stream",
          "name": "stdout",
          "text": [
            "[1, 3, 5, 7, 9, 11, 13, 15, 17, 19, 21, 23, 25, 27, 29]\n"
          ]
        }
      ]
    },
    {
      "cell_type": "markdown",
      "metadata": {
        "id": "A9FOOW7psVPi"
      },
      "source": [
        "> ## **Alteração:**"
      ]
    },
    {
      "cell_type": "code",
      "metadata": {
        "colab": {
          "base_uri": "https://localhost:8080/"
        },
        "id": "mteegh5BsYMS",
        "outputId": "21f84e3c-1152-4949-8e35-edd363fc6e2b"
      },
      "source": [
        "lista = [0] * 10\n",
        "print(f'Antes: {lista}')\n",
        "lista[0] = 111  # altera o primeiro\n",
        "lista[-1] = 999  # altera o último\n",
        "print(f'\\nDepois: {lista}')"
      ],
      "execution_count": null,
      "outputs": [
        {
          "output_type": "stream",
          "name": "stdout",
          "text": [
            "Antes: [0, 0, 0, 0, 0, 0, 0, 0, 0, 0]\n",
            "\n",
            "Depois: [111, 0, 0, 0, 0, 0, 0, 0, 0, 999]\n"
          ]
        }
      ]
    },
    {
      "cell_type": "code",
      "metadata": {
        "colab": {
          "base_uri": "https://localhost:8080/"
        },
        "id": "l3tb21tGt16m",
        "outputId": "5a93c97b-8931-4d89-91d0-412f6a437485"
      },
      "source": [
        "lista = [10] * 5\n",
        "print(f'Lista: {lista}')\n",
        "copia = lista[:]  # ou lista.copy()  (: representa todos os valores)\n",
        "copia[0] = 111\n",
        "print(f'\\nLista: {lista}')\n",
        "print(f'\\nCópia: {copia}')\n",
        "\n",
        "# Quando atribuimos uma lista a uma variável estamos apenas copiando seu endereço\n",
        "# Para fazer uma cópia verdadeira, temos que usar lista.copy() ou copia = lista[:] "
      ],
      "execution_count": null,
      "outputs": [
        {
          "output_type": "stream",
          "name": "stdout",
          "text": [
            "Lista: [10, 10, 10, 10, 10]\n",
            "\n",
            "Lista: [10, 10, 10, 10, 10]\n",
            "\n",
            "Cópia: [111, 10, 10, 10, 10]\n"
          ]
        }
      ]
    },
    {
      "cell_type": "code",
      "source": [
        "from random import randint\n",
        "\n",
        "lista = [randint(1, 100) for i in range(0, 1000)]\n",
        "print(lista)"
      ],
      "metadata": {
        "id": "Wfqwbykz1vOh",
        "colab": {
          "base_uri": "https://localhost:8080/"
        },
        "outputId": "d8d593da-7186-4f3b-9575-a24c8ddec30d"
      },
      "execution_count": 17,
      "outputs": [
        {
          "output_type": "stream",
          "name": "stdout",
          "text": [
            "[23, 90, 50, 49, 92, 29, 4, 95, 42, 20, 1, 7, 82, 1, 96, 84, 16, 38, 45, 38, 29, 72, 79, 77, 51, 17, 34, 39, 52, 75, 3, 11, 39, 83, 44, 86, 23, 66, 19, 74, 11, 99, 36, 91, 15, 78, 11, 97, 42, 2, 18, 97, 59, 64, 19, 16, 96, 28, 9, 88, 33, 44, 34, 55, 45, 10, 71, 7, 28, 26, 66, 61, 12, 63, 8, 46, 84, 19, 53, 36, 70, 62, 23, 100, 11, 94, 70, 74, 39, 40, 2, 87, 2, 4, 75, 40, 89, 69, 19, 50, 13, 97, 44, 69, 47, 87, 56, 11, 96, 24, 19, 8, 95, 85, 20, 82, 66, 29, 84, 93, 19, 43, 10, 81, 77, 70, 38, 36, 46, 42, 43, 36, 49, 30, 87, 28, 18, 65, 3, 85, 63, 13, 60, 15, 65, 47, 89, 61, 48, 26, 59, 4, 29, 44, 77, 66, 91, 98, 55, 52, 74, 29, 20, 63, 90, 10, 71, 39, 70, 56, 76, 73, 76, 46, 47, 36, 63, 93, 13, 85, 28, 72, 94, 8, 89, 8, 41, 3, 33, 76, 4, 74, 4, 42, 64, 39, 76, 78, 16, 61, 10, 41, 63, 69, 27, 90, 53, 8, 88, 5, 33, 89, 98, 20, 88, 42, 99, 6, 54, 84, 34, 52, 25, 10, 84, 39, 26, 28, 19, 53, 10, 28, 27, 7, 22, 33, 99, 81, 39, 82, 16, 89, 63, 16, 28, 92, 25, 65, 51, 13, 8, 62, 42, 73, 49, 41, 38, 34, 51, 85, 4, 72, 75, 63, 12, 96, 94, 21, 16, 98, 17, 19, 9, 43, 4, 87, 33, 11, 73, 64, 63, 15, 79, 96, 77, 86, 10, 67, 10, 85, 19, 99, 56, 92, 3, 54, 73, 7, 76, 30, 70, 93, 42, 77, 68, 30, 92, 18, 46, 4, 58, 28, 40, 12, 90, 76, 56, 84, 32, 94, 10, 73, 17, 64, 97, 33, 87, 34, 59, 10, 71, 73, 98, 86, 90, 20, 88, 30, 5, 56, 11, 56, 77, 16, 10, 40, 33, 35, 6, 22, 88, 42, 97, 98, 32, 90, 55, 35, 55, 76, 80, 13, 62, 49, 93, 7, 26, 48, 61, 49, 5, 7, 23, 64, 91, 21, 100, 55, 82, 9, 33, 5, 67, 22, 84, 62, 76, 64, 62, 5, 95, 86, 76, 5, 69, 95, 36, 76, 84, 14, 7, 34, 65, 70, 73, 62, 40, 7, 86, 59, 7, 54, 64, 20, 92, 21, 88, 56, 4, 25, 72, 97, 6, 47, 34, 91, 97, 30, 21, 79, 73, 40, 44, 51, 22, 6, 59, 75, 87, 65, 84, 55, 60, 26, 22, 86, 89, 71, 69, 75, 80, 42, 24, 12, 99, 32, 69, 96, 37, 42, 19, 52, 91, 97, 44, 1, 35, 6, 36, 41, 8, 6, 61, 3, 64, 20, 31, 50, 21, 33, 63, 11, 52, 15, 48, 16, 82, 34, 14, 36, 7, 6, 16, 50, 83, 86, 89, 79, 25, 52, 74, 12, 39, 40, 80, 94, 29, 8, 57, 52, 40, 97, 22, 39, 40, 90, 74, 20, 29, 22, 85, 21, 81, 98, 11, 11, 77, 84, 95, 81, 90, 80, 53, 28, 30, 23, 28, 54, 55, 11, 19, 11, 81, 99, 49, 87, 52, 28, 55, 87, 66, 81, 57, 12, 65, 72, 67, 23, 44, 75, 28, 60, 10, 1, 44, 60, 98, 29, 39, 38, 59, 53, 75, 55, 19, 67, 97, 51, 54, 25, 54, 70, 60, 91, 85, 39, 20, 82, 37, 26, 45, 30, 36, 61, 59, 22, 31, 32, 60, 69, 74, 83, 65, 79, 63, 23, 65, 41, 83, 30, 47, 52, 63, 89, 100, 72, 69, 16, 45, 7, 10, 80, 29, 51, 36, 48, 61, 46, 17, 38, 20, 30, 34, 22, 61, 80, 73, 36, 13, 59, 3, 100, 27, 47, 18, 45, 22, 65, 90, 55, 36, 19, 50, 55, 57, 9, 31, 50, 65, 4, 64, 70, 42, 94, 80, 71, 28, 60, 35, 39, 52, 66, 61, 99, 41, 90, 51, 47, 28, 70, 86, 38, 48, 85, 50, 57, 15, 1, 48, 58, 91, 44, 81, 3, 54, 18, 60, 16, 88, 5, 39, 74, 59, 81, 26, 46, 17, 80, 64, 71, 53, 100, 43, 34, 2, 92, 10, 16, 47, 90, 16, 27, 55, 38, 4, 40, 45, 8, 38, 39, 97, 7, 26, 33, 69, 34, 38, 71, 96, 40, 99, 94, 81, 62, 3, 3, 78, 15, 75, 20, 98, 81, 53, 21, 53, 70, 50, 25, 84, 57, 83, 48, 59, 5, 5, 22, 30, 8, 27, 16, 63, 16, 31, 49, 13, 2, 88, 7, 56, 60, 17, 100, 5, 51, 32, 26, 70, 2, 34, 71, 73, 31, 98, 17, 62, 24, 11, 6, 96, 17, 3, 72, 46, 71, 73, 80, 31, 35, 45, 94, 66, 9, 99, 44, 72, 81, 3, 62, 68, 72, 93, 74, 46, 33, 95, 18, 56, 36, 73, 42, 4, 52, 82, 69, 20, 72, 47, 61, 23, 61, 87, 27, 91, 88, 15, 44, 16, 56, 53, 34, 47, 54, 49, 73, 86, 77, 88, 42, 60, 12, 50, 79, 61, 36, 68, 20, 54, 60, 41, 57, 26, 51, 7, 41, 77, 63, 32, 66, 24, 21, 38, 64, 22, 91, 24, 10, 42, 81, 40, 73, 82, 72, 53, 51, 70, 28, 50, 87, 50, 39, 93, 67, 26, 60, 69, 43, 2, 78, 75, 89, 80, 12, 34, 77, 15, 47, 27, 36, 15, 18, 4, 49, 89, 59, 85, 100, 85, 76, 37, 70, 73, 18, 49, 91, 20, 19, 20, 94, 72, 53, 6, 38, 16, 28, 43, 57, 97, 8, 12, 40, 71, 35, 2, 84, 50, 56, 28, 49, 73, 8, 86, 99, 8, 32, 82, 76, 22, 7, 97, 7, 83, 61, 19, 13, 46, 94, 3, 44, 31, 12, 14, 66, 44, 100, 10, 12, 36, 6, 12, 12, 4, 34, 8, 80, 34, 38, 35, 48, 56, 80]\n"
          ]
        }
      ]
    },
    {
      "cell_type": "code",
      "source": [
        "copia = lista.copy()\n",
        "print(copia)"
      ],
      "metadata": {
        "id": "q8Gm2vRv21aT",
        "colab": {
          "base_uri": "https://localhost:8080/"
        },
        "outputId": "e707a111-2072-428f-d7f7-082cb2bbaaf1"
      },
      "execution_count": 18,
      "outputs": [
        {
          "output_type": "stream",
          "name": "stdout",
          "text": [
            "[23, 90, 50, 49, 92, 29, 4, 95, 42, 20, 1, 7, 82, 1, 96, 84, 16, 38, 45, 38, 29, 72, 79, 77, 51, 17, 34, 39, 52, 75, 3, 11, 39, 83, 44, 86, 23, 66, 19, 74, 11, 99, 36, 91, 15, 78, 11, 97, 42, 2, 18, 97, 59, 64, 19, 16, 96, 28, 9, 88, 33, 44, 34, 55, 45, 10, 71, 7, 28, 26, 66, 61, 12, 63, 8, 46, 84, 19, 53, 36, 70, 62, 23, 100, 11, 94, 70, 74, 39, 40, 2, 87, 2, 4, 75, 40, 89, 69, 19, 50, 13, 97, 44, 69, 47, 87, 56, 11, 96, 24, 19, 8, 95, 85, 20, 82, 66, 29, 84, 93, 19, 43, 10, 81, 77, 70, 38, 36, 46, 42, 43, 36, 49, 30, 87, 28, 18, 65, 3, 85, 63, 13, 60, 15, 65, 47, 89, 61, 48, 26, 59, 4, 29, 44, 77, 66, 91, 98, 55, 52, 74, 29, 20, 63, 90, 10, 71, 39, 70, 56, 76, 73, 76, 46, 47, 36, 63, 93, 13, 85, 28, 72, 94, 8, 89, 8, 41, 3, 33, 76, 4, 74, 4, 42, 64, 39, 76, 78, 16, 61, 10, 41, 63, 69, 27, 90, 53, 8, 88, 5, 33, 89, 98, 20, 88, 42, 99, 6, 54, 84, 34, 52, 25, 10, 84, 39, 26, 28, 19, 53, 10, 28, 27, 7, 22, 33, 99, 81, 39, 82, 16, 89, 63, 16, 28, 92, 25, 65, 51, 13, 8, 62, 42, 73, 49, 41, 38, 34, 51, 85, 4, 72, 75, 63, 12, 96, 94, 21, 16, 98, 17, 19, 9, 43, 4, 87, 33, 11, 73, 64, 63, 15, 79, 96, 77, 86, 10, 67, 10, 85, 19, 99, 56, 92, 3, 54, 73, 7, 76, 30, 70, 93, 42, 77, 68, 30, 92, 18, 46, 4, 58, 28, 40, 12, 90, 76, 56, 84, 32, 94, 10, 73, 17, 64, 97, 33, 87, 34, 59, 10, 71, 73, 98, 86, 90, 20, 88, 30, 5, 56, 11, 56, 77, 16, 10, 40, 33, 35, 6, 22, 88, 42, 97, 98, 32, 90, 55, 35, 55, 76, 80, 13, 62, 49, 93, 7, 26, 48, 61, 49, 5, 7, 23, 64, 91, 21, 100, 55, 82, 9, 33, 5, 67, 22, 84, 62, 76, 64, 62, 5, 95, 86, 76, 5, 69, 95, 36, 76, 84, 14, 7, 34, 65, 70, 73, 62, 40, 7, 86, 59, 7, 54, 64, 20, 92, 21, 88, 56, 4, 25, 72, 97, 6, 47, 34, 91, 97, 30, 21, 79, 73, 40, 44, 51, 22, 6, 59, 75, 87, 65, 84, 55, 60, 26, 22, 86, 89, 71, 69, 75, 80, 42, 24, 12, 99, 32, 69, 96, 37, 42, 19, 52, 91, 97, 44, 1, 35, 6, 36, 41, 8, 6, 61, 3, 64, 20, 31, 50, 21, 33, 63, 11, 52, 15, 48, 16, 82, 34, 14, 36, 7, 6, 16, 50, 83, 86, 89, 79, 25, 52, 74, 12, 39, 40, 80, 94, 29, 8, 57, 52, 40, 97, 22, 39, 40, 90, 74, 20, 29, 22, 85, 21, 81, 98, 11, 11, 77, 84, 95, 81, 90, 80, 53, 28, 30, 23, 28, 54, 55, 11, 19, 11, 81, 99, 49, 87, 52, 28, 55, 87, 66, 81, 57, 12, 65, 72, 67, 23, 44, 75, 28, 60, 10, 1, 44, 60, 98, 29, 39, 38, 59, 53, 75, 55, 19, 67, 97, 51, 54, 25, 54, 70, 60, 91, 85, 39, 20, 82, 37, 26, 45, 30, 36, 61, 59, 22, 31, 32, 60, 69, 74, 83, 65, 79, 63, 23, 65, 41, 83, 30, 47, 52, 63, 89, 100, 72, 69, 16, 45, 7, 10, 80, 29, 51, 36, 48, 61, 46, 17, 38, 20, 30, 34, 22, 61, 80, 73, 36, 13, 59, 3, 100, 27, 47, 18, 45, 22, 65, 90, 55, 36, 19, 50, 55, 57, 9, 31, 50, 65, 4, 64, 70, 42, 94, 80, 71, 28, 60, 35, 39, 52, 66, 61, 99, 41, 90, 51, 47, 28, 70, 86, 38, 48, 85, 50, 57, 15, 1, 48, 58, 91, 44, 81, 3, 54, 18, 60, 16, 88, 5, 39, 74, 59, 81, 26, 46, 17, 80, 64, 71, 53, 100, 43, 34, 2, 92, 10, 16, 47, 90, 16, 27, 55, 38, 4, 40, 45, 8, 38, 39, 97, 7, 26, 33, 69, 34, 38, 71, 96, 40, 99, 94, 81, 62, 3, 3, 78, 15, 75, 20, 98, 81, 53, 21, 53, 70, 50, 25, 84, 57, 83, 48, 59, 5, 5, 22, 30, 8, 27, 16, 63, 16, 31, 49, 13, 2, 88, 7, 56, 60, 17, 100, 5, 51, 32, 26, 70, 2, 34, 71, 73, 31, 98, 17, 62, 24, 11, 6, 96, 17, 3, 72, 46, 71, 73, 80, 31, 35, 45, 94, 66, 9, 99, 44, 72, 81, 3, 62, 68, 72, 93, 74, 46, 33, 95, 18, 56, 36, 73, 42, 4, 52, 82, 69, 20, 72, 47, 61, 23, 61, 87, 27, 91, 88, 15, 44, 16, 56, 53, 34, 47, 54, 49, 73, 86, 77, 88, 42, 60, 12, 50, 79, 61, 36, 68, 20, 54, 60, 41, 57, 26, 51, 7, 41, 77, 63, 32, 66, 24, 21, 38, 64, 22, 91, 24, 10, 42, 81, 40, 73, 82, 72, 53, 51, 70, 28, 50, 87, 50, 39, 93, 67, 26, 60, 69, 43, 2, 78, 75, 89, 80, 12, 34, 77, 15, 47, 27, 36, 15, 18, 4, 49, 89, 59, 85, 100, 85, 76, 37, 70, 73, 18, 49, 91, 20, 19, 20, 94, 72, 53, 6, 38, 16, 28, 43, 57, 97, 8, 12, 40, 71, 35, 2, 84, 50, 56, 28, 49, 73, 8, 86, 99, 8, 32, 82, 76, 22, 7, 97, 7, 83, 61, 19, 13, 46, 94, 3, 44, 31, 12, 14, 66, 44, 100, 10, 12, 36, 6, 12, 12, 4, 34, 8, 80, 34, 38, 35, 48, 56, 80]\n"
          ]
        }
      ]
    },
    {
      "cell_type": "markdown",
      "metadata": {
        "id": "__7s0NFowp8f"
      },
      "source": [
        "> ## **Seleção de valores (recortes):**"
      ]
    },
    {
      "cell_type": "code",
      "metadata": {
        "colab": {
          "base_uri": "https://localhost:8080/"
        },
        "id": "GuW3B-Ybw0k3",
        "outputId": "22f1261a-d1e6-4a05-a0f9-57a49998e245"
      },
      "source": [
        "lista = [v for v in range(10)]\n",
        "print(lista)  # lista inteira\n",
        "print(lista[5:])  # do 6º até o fim\n",
        "print(lista[:5])  # do 1º ao 5º\n",
        "print(lista[2:5])  # do 3º ao 5º\n",
        "print(lista[-3:])  # os 3 últimos"
      ],
      "execution_count": null,
      "outputs": [
        {
          "output_type": "stream",
          "name": "stdout",
          "text": [
            "[0, 1, 2, 3, 4, 5, 6, 7, 8, 9]\n",
            "[5, 6, 7, 8, 9]\n",
            "[0, 1, 2, 3, 4]\n",
            "[2, 3, 4]\n",
            "[7, 8, 9]\n"
          ]
        }
      ]
    },
    {
      "cell_type": "markdown",
      "metadata": {
        "id": "HPF8-A5Byrq_"
      },
      "source": [
        "> ## **Exercícios:**\n",
        "---\n",
        "---"
      ]
    },
    {
      "cell_type": "markdown",
      "metadata": {
        "id": "d-BXJO5Ty-sx"
      },
      "source": [
        "> ### `1.` Ler 7 valores inteiros, armazená-los em uma lista e, em seguida, calcular e mostrar: o menor valor, o maior valor e a média aritmética de todos os números."
      ]
    },
    {
      "cell_type": "code",
      "source": [
        "valores = []\n",
        "for i in range(7):\n",
        "    x = int(input(f'Digite o {i+1}º valor: '))\n",
        "    valores.append(x)\n",
        "\n",
        "valores_ordenados = sorted(valores)  # Função sorted() -> ordena uma lista, mas não faz isso na variável original. Método .sort() -> Ordena na lista original\n",
        "\n",
        "print(f'\\nMenor valor digitado: {valores_ordenados[0]}')\n",
        "print(f'Maior valor digitado: {valores_ordenados[-1]}')\n",
        "\n",
        "soma = 0\n",
        "for valor in valores:\n",
        "    soma += valor\n",
        "\n",
        "media = soma / len(valores)\n",
        "\n",
        "print(f'Média aritmética dos valores digitados: {media}')"
      ],
      "metadata": {
        "id": "En3u3ZqB7Rt4",
        "colab": {
          "base_uri": "https://localhost:8080/"
        },
        "outputId": "d6192091-1f47-40c4-8457-49608178e488"
      },
      "execution_count": null,
      "outputs": [
        {
          "output_type": "stream",
          "name": "stdout",
          "text": [
            "Digite o 1º valor: 5\n",
            "Digite o 2º valor: 1\n",
            "Digite o 3º valor: 3\n",
            "Digite o 4º valor: 2\n",
            "Digite o 5º valor: 4\n",
            "Digite o 6º valor: 7\n",
            "Digite o 7º valor: 6\n",
            "Menor valor: 1\n",
            "Maior valor: 7\n",
            "Média aritmética dos valores: 4.0\n"
          ]
        }
      ]
    },
    {
      "cell_type": "code",
      "source": [
        "# Usando indexação\n",
        "me = ma = lista[0]\n",
        "for i in range(1,7):\n",
        "    if lista[i] < me:\n",
        "        me = lista[i]\n",
        "    elif lista[i] > ma:\n",
        "        ma = lista[i]"
      ],
      "metadata": {
        "id": "CtoNiEJNftnU"
      },
      "execution_count": null,
      "outputs": []
    },
    {
      "cell_type": "code",
      "source": [
        "'''\n",
        "lis = [0] * 7       # leitura com uma lista já criada\n",
        "for i in range(7):\n",
        "    lis[i] = int(input(f'Lista[{i}]: '))\n",
        "'''\n",
        "\n",
        "lis = []\n",
        "for i in range(7):\n",
        "    lis.append(int(input(f'{i + 1}º valor: ')))\n",
        "\n",
        "# ou ainda: lis = [int(input(f'{i + 1}º valor: ')) for i in range(7)]\n",
        "\n",
        "'''\n",
        "me = ma = lis[0]  # menor recebe primeiro\n",
        "for i in range(1, 7):\n",
        "    if lis[i] < me:  # troca se for menor\n",
        "        me = lis[i]\n",
        "    elif lis[i] > ma:  # troca se for maior\n",
        "        ma = lis[i]\n",
        "'''\n",
        "'''\n",
        "me = ma = lis[0]  # menor recebe primeiro\n",
        "for v in lis[1:]:\n",
        "    if v < me:  # troca se for menor\n",
        "        me = v\n",
        "    elif v > ma:  # troca se for maior\n",
        "        ma = v\n",
        "'''\n",
        "\n",
        "me = min(lis)  # calcula o menor da lista\n",
        "ma = max(lis)  # calcula o maior da lista\n",
        "\n",
        "print(f'\\nMenor = {me}')\n",
        "print(f'\\nMaior = {ma}')\n",
        "\n",
        "'''\n",
        "s = 0\n",
        "for i in range(7):\n",
        "    s += lis[i]\n",
        "'''\n",
        "'''\n",
        "s = 0\n",
        "for v in lis:\n",
        "    s += v\n",
        "'''\n",
        "\n",
        "ma = sum(lis) / len(lis)  # sum soma todos da lista e len a qtde de elementos\n",
        "\n",
        "print(f'\\nMédia aritmética = {ma:.3f}')"
      ],
      "metadata": {
        "colab": {
          "base_uri": "https://localhost:8080/"
        },
        "outputId": "3c1b4b0d-6ddd-4826-ba7b-195e6f434240",
        "id": "25vzFdG9i6i9"
      },
      "execution_count": null,
      "outputs": [
        {
          "output_type": "stream",
          "name": "stdout",
          "text": [
            "1º valor: 6\n",
            "2º valor: 2\n",
            "3º valor: 9\n",
            "4º valor: 5\n",
            "5º valor: 2\n",
            "6º valor: 6\n",
            "7º valor: 9\n",
            "\n",
            "Menor = 2\n",
            "\n",
            "Maior = 9\n",
            "\n",
            "Média aritmética = 5.571\n"
          ]
        }
      ]
    },
    {
      "cell_type": "markdown",
      "metadata": {
        "id": "dQ7mWkFD7VtZ"
      },
      "source": [
        "> ### `2.` Ler uma lista com 6 valores inteiros e, em seguida, mostrar os valores separados por vírgula, sem sobrar vírgulas no início ou no final.\n",
        "### Ex.:\n",
        "### Lista = 1, 3, 6, 0, 2, 6"
      ]
    },
    {
      "cell_type": "code",
      "source": [
        "lista = [int(input(f'Digite o {i + 1} valor: ')) for i in range(6)]\n",
        "\n",
        "print('\\nLista = ', end='')\n",
        "for i in range(len(lista)):\n",
        "    if i != len(lista) - 1:\n",
        "        print(f'{lista[i]}, ', end='')\n",
        "    else:\n",
        "        print(lista[i])\n",
        "\n",
        "# print('\\n\\nLista= ', end='')\n",
        "# for i in range(len(lista))"
      ],
      "metadata": {
        "id": "TP9w-P877SOo",
        "colab": {
          "base_uri": "https://localhost:8080/"
        },
        "outputId": "aa6883c9-bc9e-4f6b-a0f2-42ac484dd732"
      },
      "execution_count": null,
      "outputs": [
        {
          "output_type": "stream",
          "name": "stdout",
          "text": [
            "Digite o 1 valor: 1\n",
            "Digite o 2 valor: 3\n",
            "Digite o 3 valor: 6\n",
            "Digite o 4 valor: 0\n",
            "Digite o 5 valor: 2\n",
            "Digite o 6 valor: 6\n",
            "\n",
            "Lista = 1, 3, 6, 0, 2, 6\n"
          ]
        }
      ]
    },
    {
      "cell_type": "markdown",
      "metadata": {
        "id": "4V-ar2GH8IzP"
      },
      "source": [
        "> ### `3.` Ler uma lista com 7 valores inteiros e, após as leituras, ler um inteiro qualquer (X), buscar pelo primeiro valor igual a X na lista e mostrar sua posição (índice). Caso não encontre X, o programa deve mostrar -1 como posição.\n",
        "### `Ex. 1`: encontrou o valor.\n",
        "    Vet = 1  2  3  4  5  6  7\n",
        "    X = 5\n",
        "    Posicao (índice) = 4\n",
        "\n",
        "### `Ex. 2`: não encontrou o valor.\n",
        "    Vet = 6  2  8  4  2  6  9\n",
        "    X = 10\n",
        "    Posicao (índice) = -1"
      ]
    },
    {
      "cell_type": "code",
      "source": [
        "from IPython.display import clear_output\n",
        "\n",
        "TAMANHO_DA_LISTA = 7\n",
        "lista = [int(input(f'Digite o {i + 1}º valor: ')) for i in range(TAMANHO_DA_LISTA)]\n",
        "clear_output(True)\n",
        "\n",
        "print(f'Vet = {lista}')\n",
        "x = int(input('\\nDigite um valor para buscar na lista: '))\n",
        "\n",
        "indice = -1\n",
        "for i in range(TAMANHO_DA_LISTA):\n",
        "    if x == lista[i]:\n",
        "        indice = i  \n",
        "        break\n",
        "\n",
        "# indice = -1\n",
        "# for i, v in enumerate(lista):  # Usando o enumerate\n",
        "#     if x == v:\n",
        "#         indice = i\n",
        "#         break\n",
        "\n",
        "print('\\nPosição (Índice) = ', indice)"
      ],
      "metadata": {
        "colab": {
          "base_uri": "https://localhost:8080/"
        },
        "id": "4JuMxNDTQreg",
        "outputId": "8240924a-a977-4d47-feb2-6c745c6caaa5"
      },
      "execution_count": null,
      "outputs": [
        {
          "output_type": "stream",
          "name": "stdout",
          "text": [
            "Vet = [99, 66, 77, 15, 84, 77, 77]\n",
            "\n",
            "Digite um valor para buscar na lista: 77\n",
            "\n",
            "Posição (Índice) =  2\n"
          ]
        }
      ]
    },
    {
      "cell_type": "code",
      "source": [
        "# .index() -> Método que encontra o índice da primeira ocorrência de uma lista:\n",
        "lista = [1, 2, 4, 5, 8, 2, 5]\n",
        "print(lista.index(2))\n",
        "print(lista.index(5))\n",
        "print(lista.index(3))"
      ],
      "metadata": {
        "colab": {
          "base_uri": "https://localhost:8080/",
          "height": 235
        },
        "id": "SxjcuvvvAakk",
        "outputId": "c4195f81-0723-41c4-92be-a5cad6d16bbc"
      },
      "execution_count": 19,
      "outputs": [
        {
          "output_type": "stream",
          "name": "stdout",
          "text": [
            "1\n",
            "3\n"
          ]
        },
        {
          "output_type": "error",
          "ename": "ValueError",
          "evalue": "ignored",
          "traceback": [
            "\u001b[0;31m---------------------------------------------------------------------------\u001b[0m",
            "\u001b[0;31mValueError\u001b[0m                                Traceback (most recent call last)",
            "\u001b[0;32m<ipython-input-19-dae3b3a22416>\u001b[0m in \u001b[0;36m<module>\u001b[0;34m\u001b[0m\n\u001b[1;32m      3\u001b[0m \u001b[0mprint\u001b[0m\u001b[0;34m(\u001b[0m\u001b[0mlista\u001b[0m\u001b[0;34m.\u001b[0m\u001b[0mindex\u001b[0m\u001b[0;34m(\u001b[0m\u001b[0;36m2\u001b[0m\u001b[0;34m)\u001b[0m\u001b[0;34m)\u001b[0m\u001b[0;34m\u001b[0m\u001b[0;34m\u001b[0m\u001b[0m\n\u001b[1;32m      4\u001b[0m \u001b[0mprint\u001b[0m\u001b[0;34m(\u001b[0m\u001b[0mlista\u001b[0m\u001b[0;34m.\u001b[0m\u001b[0mindex\u001b[0m\u001b[0;34m(\u001b[0m\u001b[0;36m5\u001b[0m\u001b[0;34m)\u001b[0m\u001b[0;34m)\u001b[0m\u001b[0;34m\u001b[0m\u001b[0;34m\u001b[0m\u001b[0m\n\u001b[0;32m----> 5\u001b[0;31m \u001b[0mprint\u001b[0m\u001b[0;34m(\u001b[0m\u001b[0mlista\u001b[0m\u001b[0;34m.\u001b[0m\u001b[0mindex\u001b[0m\u001b[0;34m(\u001b[0m\u001b[0;36m3\u001b[0m\u001b[0;34m)\u001b[0m\u001b[0;34m)\u001b[0m\u001b[0;34m\u001b[0m\u001b[0;34m\u001b[0m\u001b[0m\n\u001b[0m",
            "\u001b[0;31mValueError\u001b[0m: 3 is not in list"
          ]
        }
      ]
    },
    {
      "cell_type": "markdown",
      "metadata": {
        "id": "ODIBmNt21_Dl"
      },
      "source": [
        "> ### `Extra:` modificar o programa para armazenar em uma lista as posições (índices) de todas as ocorrências e mostrá-la no final."
      ]
    },
    {
      "cell_type": "code",
      "source": [
        "# Faz uma lista com todos os índices correspondentes\n",
        "from IPython.display import clear_output\n",
        "\n",
        "TAMANHO_DA_LISTA = 7\n",
        "lista = [int(input(f'Digite o {i + 1}º valor: ')) for i in range(TAMANHO_DA_LISTA)]\n",
        "clear_output(True)\n",
        "\n",
        "print(f'Vet = {lista}')\n",
        "x = int(input('\\nDigite um valor para buscar na lista: '))\n",
        "\n",
        "indices = []\n",
        "for i in range(TAMANHO_DA_LISTA):\n",
        "    if x == lista[i]:\n",
        "        indices.append(i)\n",
        "\n",
        "print('\\nPosição (Índices) = ', indices)"
      ],
      "metadata": {
        "colab": {
          "base_uri": "https://localhost:8080/"
        },
        "id": "QrbFPvxSmNOu",
        "outputId": "93ae7256-530e-4488-f6bb-09c706e0ccf8"
      },
      "execution_count": null,
      "outputs": [
        {
          "output_type": "stream",
          "name": "stdout",
          "text": [
            "Vet = [5, 2, 5, 0, 5, 5, 3]\n",
            "\n",
            "Digite um valor para buscar na lista: 5\n",
            "\n",
            "Posição (Índice) =  [0, 2, 4, 5]\n"
          ]
        }
      ]
    },
    {
      "cell_type": "markdown",
      "metadata": {
        "id": "92KhXYHV2wFN"
      },
      "source": [
        "> ### `4.` Ler uma lista com 5 valores inteiros e não permitir a entrada de valores repetidos. Sempre que isso ocorrer, não avançar para o próximo valor (índice) e mostrar uma msg.\n",
        "\n",
        "### Exemplo:\n",
        "\n",
        "    1º Valor: 10\n",
        "    2º Valor: 10\n",
        "    Valor já inserido. Digite novamente...\n",
        "    2º Valor: "
      ]
    },
    {
      "cell_type": "code",
      "source": [
        "n = 5\n",
        "\n",
        "i = 0\n",
        "lista = []\n",
        "while i < n:\n",
        "    x = int(input(f'{i + 1}º Valor: '))\n",
        "    \n",
        "    repetido = False\n",
        "    for j in lista:\n",
        "        if x == j:\n",
        "            repetido = True\n",
        "            break\n",
        "    \n",
        "    if repetido:\n",
        "        print('Valor já inserido. Digite novamente...')\n",
        "    else:\n",
        "        lista.append(x)\n",
        "        i += 1\n",
        "\n",
        "print(f'\\n{lista}')\n",
        "\n",
        "# Utilizando o \"in\":\n",
        "n = 5\n",
        "\n",
        "i = 0\n",
        "lista = []\n",
        "while i < n:\n",
        "    x = int(input(f'{i + 1}º Valor: '))\n",
        "    \n",
        "    if x in lista:  # Retorna True se o valor x está na lista\n",
        "        print('Valor já inserido. Digite novamente...')\n",
        "    else:\n",
        "        lista.append(x)\n",
        "        i += 1\n",
        "    \n",
        "print(f'\\n{lista}')"
      ],
      "metadata": {
        "id": "6JhG3Y2hx249",
        "colab": {
          "base_uri": "https://localhost:8080/"
        },
        "outputId": "19d2bc80-47e1-4259-c914-748ec4f4faaf"
      },
      "execution_count": null,
      "outputs": [
        {
          "output_type": "stream",
          "name": "stdout",
          "text": [
            "1º Valor: 10\n",
            "2º Valor: 10\n",
            "Valor já inserido. Digite novamente...\n",
            "2º Valor: 5\n",
            "3º Valor: 6\n",
            "4º Valor: 7\n",
            "5º Valor: 5\n",
            "Valor já inserido. Digite novamente...\n",
            "5º Valor: 8\n",
            "\n",
            "[10, 5, 6, 7, 8]\n"
          ]
        }
      ]
    },
    {
      "cell_type": "markdown",
      "metadata": {
        "id": "nOS_Jn6P4A3h"
      },
      "source": [
        "> ### `5.` Gerar uma lista com 10 números inteiros aleatórios entre 1 e 100 e, em seguida, separar os valores pares e ímpares em duas listas. Mostrar as 3 listas no final."
      ]
    },
    {
      "cell_type": "code",
      "source": [
        "n = 10\n",
        "from random import randint\n",
        "\n",
        "lista = []\n",
        "for i in range(10):\n",
        "    x = randint(1, 100)\n",
        "    lista.append(x)\n",
        "\n",
        "# ------------------------ Primeira forma -----------------------\n",
        "# pares = []\n",
        "# impares = []\n",
        "# for valor in lista:\n",
        "#     if valor % 2 == 0:\n",
        "#         pares.append(valor)\n",
        "#     else:\n",
        "#         impares.append(valor)\n",
        "\n",
        "# ----------------------- Segunda forma -----------------------\n",
        "pares = [valor for valor in lista if valor % 2 == 0]\n",
        "impares = [valor for valor in lista if valor % 2 == 1]\n",
        "\n",
        "# ----------------------- Terceira forma -----------------------\n",
        "# pares, impares = [], []   \n",
        "# for valor in lista:\n",
        "#     pares.append(valor) if valor % 2 == 0 else impares.append(valor)\n",
        "\n",
        "# Obs:\n",
        "# Não podemos usar: pares = impares = [], porque como listas são estruturas que usam endereços, as duas\n",
        "# variáveis apontarão para o mesmo objeto, ou seja, teremos apenas uma lista e tudo o que fizermos em pares será feito em ímpares\n",
        "\n",
        "print(f'Lista = {lista} \\n\\nPares = {pares} \\nÍmpares = {impares}')"
      ],
      "metadata": {
        "colab": {
          "base_uri": "https://localhost:8080/"
        },
        "id": "n0j2KtKflb1i",
        "outputId": "df72596f-bb33-4c17-8783-b6dd72052719"
      },
      "execution_count": null,
      "outputs": [
        {
          "output_type": "stream",
          "name": "stdout",
          "text": [
            "Lista = [7, 45, 84, 18, 87, 1, 13, 84, 1, 87] \n",
            "\n",
            "Pares = [84, 18, 84] \n",
            "Ímpares = [7, 45, 87, 1, 13, 1, 87]\n"
          ]
        }
      ]
    },
    {
      "cell_type": "markdown",
      "metadata": {
        "id": "0AxVqZr8489V"
      },
      "source": [
        "> ### `6.` Gerar uma lista com 20 valores aleatórios entre 10 e 20 e, em seguida, ordenar a lista, calcular e mostrar (em ordem crescente) a qtde de ocorrências de cada valor dentro da lista (não repetir valores já mostrados)."
      ]
    },
    {
      "cell_type": "code",
      "source": [
        "n = 20\n",
        "from random import randint\n",
        "\n",
        "lista = [randint(10,20) for i in range(n)]\n",
        "lista.sort()\n",
        "\n",
        "print(lista, '\\n')\n",
        "\n",
        "# Método tradicional\n",
        "print('Valores e quantidades: ')\n",
        "mostrados = []\n",
        "for i in lista:\n",
        "    if i not in mostrados:\n",
        "        \n",
        "        cont = 0\n",
        "        for j in lista:\n",
        "            if i == j:\n",
        "                cont += 1\n",
        "        \n",
        "        print(f'{i}: {cont}x')\n",
        "        mostrados.append(i)\n",
        "\n",
        "# Com count()\n",
        "print('\\nValores e quantidades: ')\n",
        "mostrados = []\n",
        "for i in lista:\n",
        "    if i not in mostrados:\n",
        "        \n",
        "        cont = lista.count(i)  # Função count -> Conta quantas vezes um valor apareceu em uma lista\n",
        "        \n",
        "        print(f'{i}: {cont}x')\n",
        "        mostrados.append(i)\n",
        "    \n",
        "# Usando set (conjuntos)\n",
        "print('\\nValores e quantidades: ')\n",
        "conjunto_val = set(lista)  # Transformando a lista em set (elimina elementos repetidos)\n",
        "for i in conjunto_val:\n",
        "    cont = lista.count(i)\n",
        "    print(f'{i}: {cont}x')"
      ],
      "metadata": {
        "colab": {
          "base_uri": "https://localhost:8080/"
        },
        "id": "Mqv8Z7O3yzOV",
        "outputId": "058d6a88-bd19-4f4d-cdd0-76a7e525dd9f"
      },
      "execution_count": null,
      "outputs": [
        {
          "output_type": "stream",
          "name": "stdout",
          "text": [
            "[10, 10, 11, 11, 11, 11, 12, 13, 13, 13, 14, 15, 15, 16, 16, 17, 18, 19, 20, 20] \n",
            "\n",
            "Valores e quantidades: \n",
            "10: 2x\n",
            "11: 4x\n",
            "12: 1x\n",
            "13: 3x\n",
            "14: 1x\n",
            "15: 2x\n",
            "16: 2x\n",
            "17: 1x\n",
            "18: 1x\n",
            "19: 1x\n",
            "20: 2x\n",
            "\n",
            "Valores e quantidades: \n",
            "10: 2x\n",
            "11: 4x\n",
            "12: 1x\n",
            "13: 3x\n",
            "14: 1x\n",
            "15: 2x\n",
            "16: 2x\n",
            "17: 1x\n",
            "18: 1x\n",
            "19: 1x\n",
            "20: 2x\n",
            "\n",
            "Valores e quantidades: \n",
            "10: 2x\n",
            "11: 4x\n",
            "12: 1x\n",
            "13: 3x\n",
            "14: 1x\n",
            "15: 2x\n",
            "16: 2x\n",
            "17: 1x\n",
            "18: 1x\n",
            "19: 1x\n",
            "20: 2x\n"
          ]
        }
      ]
    },
    {
      "cell_type": "markdown",
      "source": [
        "### SET: Conjuntos"
      ],
      "metadata": {
        "id": "2SHyNhaz4FMx"
      }
    },
    {
      "cell_type": "code",
      "source": [
        "# set - conjunto \n",
        "# Estrutura de dados não ordenados sem repetição\n",
        "\n",
        "# set não repete valores, mesmo que valores iguais já tenham sido passados\n",
        "lista = [0, 5, 8, 8, 2, 5, 0, 1]\n",
        "print(set(lista))\n",
        "\n",
        "# criando um conjunto vazio\n",
        "print()\n",
        "conjunto = set()\n",
        "print(conjunto)\n",
        "print(type(conjunto))\n",
        "\n",
        "# adicionando itens em um conjunto -> usar método add\n",
        "print()\n",
        "conjunto.add(5)\n",
        "conjunto.add(9)\n",
        "conjunto.add(5)\n",
        "conjunto.add(7)\n",
        "print(conjunto)\n",
        "\n",
        "#criando conjunto com itens\n",
        "print()\n",
        "conjunto2 = {5, 2, 3, 3}\n",
        "print(conjunto2)\n",
        "\n",
        "# Um conjunto é uma estutura não ordenada, ou seja, os dados NÃO possuem uma posição específica (index)\n",
        "# (mesmo que na hora de printar, os dados seja mostrados em ordem crescente)\n",
        "print(conjunto[1])  "
      ],
      "metadata": {
        "colab": {
          "base_uri": "https://localhost:8080/",
          "height": 339
        },
        "id": "ewCBrmnj5gXc",
        "outputId": "f7e3fefa-d0a2-4d33-e9e3-68abf7c21cd3"
      },
      "execution_count": null,
      "outputs": [
        {
          "output_type": "stream",
          "name": "stdout",
          "text": [
            "{0, 1, 2, 5, 8}\n",
            "\n",
            "set()\n",
            "<class 'set'>\n",
            "\n",
            "{9, 5, 7}\n",
            "\n",
            "{2, 3, 5}\n"
          ]
        },
        {
          "output_type": "error",
          "ename": "TypeError",
          "evalue": "ignored",
          "traceback": [
            "\u001b[0;31m---------------------------------------------------------------------------\u001b[0m",
            "\u001b[0;31mTypeError\u001b[0m                                 Traceback (most recent call last)",
            "\u001b[0;32m<ipython-input-99-92336c074320>\u001b[0m in \u001b[0;36m<module>\u001b[0;34m\u001b[0m\n\u001b[1;32m     27\u001b[0m \u001b[0;31m# Um conjunto é uma estutura não ordenada, ou seja, os dados NÃO possuem uma posição específica (index)\u001b[0m\u001b[0;34m\u001b[0m\u001b[0;34m\u001b[0m\u001b[0;34m\u001b[0m\u001b[0m\n\u001b[1;32m     28\u001b[0m \u001b[0;31m# (mesmo que na hora de printar, os dados seja mostrados em ordem crescente)\u001b[0m\u001b[0;34m\u001b[0m\u001b[0;34m\u001b[0m\u001b[0;34m\u001b[0m\u001b[0m\n\u001b[0;32m---> 29\u001b[0;31m \u001b[0mprint\u001b[0m\u001b[0;34m(\u001b[0m\u001b[0mconjunto\u001b[0m\u001b[0;34m[\u001b[0m\u001b[0;36m1\u001b[0m\u001b[0;34m]\u001b[0m\u001b[0;34m)\u001b[0m\u001b[0;34m\u001b[0m\u001b[0;34m\u001b[0m\u001b[0m\n\u001b[0m",
            "\u001b[0;31mTypeError\u001b[0m: 'set' object is not subscriptable"
          ]
        }
      ]
    },
    {
      "cell_type": "markdown",
      "source": [
        "### Extra (feito por mim): Encontra valores que não se repetem em uma lista"
      ],
      "metadata": {
        "id": "jLBhDQMJ4OvU"
      }
    },
    {
      "cell_type": "code",
      "source": [
        "n = 20\n",
        "from random import randint\n",
        "\n",
        "lista = [randint(10,20) for i in range(n)]\n",
        "\n",
        "# sorted() -> Função que ordena uma lista. Não ordena a lista original\n",
        "# print(sorted(lista)) \n",
        "# print(lista)\n",
        "# lista = sorted(lista)\n",
        "\n",
        "lista.sort()  # Método das listas. Ordena a lista original\n",
        "\n",
        "tamanho_lista = len(lista)\n",
        "val_unicos = []\n",
        "for x in range(tamanho_lista):\n",
        "    \n",
        "    repetido = False\n",
        "    for y in range(tamanho_lista):\n",
        "        if x != y and lista[x] == lista[y]:\n",
        "            repetido = True\n",
        "            break\n",
        "    \n",
        "    if not repetido:\n",
        "        val_unicos.append(lista[x])\n",
        "\n",
        "print(lista)\n",
        "print(val_unicos)"
      ],
      "metadata": {
        "colab": {
          "base_uri": "https://localhost:8080/"
        },
        "id": "sNFAIrVAnrGO",
        "outputId": "3a2288bd-2005-4476-96b9-a99be5e29896"
      },
      "execution_count": null,
      "outputs": [
        {
          "output_type": "stream",
          "name": "stdout",
          "text": [
            "[11, 12, 13, 13, 13, 13, 14, 14, 15, 15, 16, 16, 16, 18, 19, 19, 19, 19, 20, 20]\n",
            "[11, 12, 18]\n"
          ]
        }
      ]
    },
    {
      "cell_type": "markdown",
      "metadata": {
        "id": "YdZ9NuR6DBTC"
      },
      "source": [
        "> ### `7.` Criar um programa para gerar uma lista com `10 valores` inteiros **distintos** e aleatórios entre 1 e 100. Depois, gerar outra lista com `20 valores` aleatórios entre 1 e 100, também **distintos**. Após a criação das listas, ordená-las em ordem crescente e criar uma terceira lista com os valores presentes em ambas as listas (1ª e 2ª), ou seja, presente tanto na primeira como na segunda lista. Mostrar as 3 listas no final do programa."
      ]
    },
    {
      "cell_type": "code",
      "source": [
        "from random import randint\n",
        "\n",
        "tam_lista1 = 10\n",
        "tam_lista2 = 20\n",
        "\n",
        "lista1, lista2 = [], []\n",
        "\n",
        "while len(lista1) <  10:  # Criando lista 1\n",
        "    x = randint(1, 100)\n",
        "    if x not in lista1:\n",
        "        lista1.append(x)\n",
        "lista1.sort()\n",
        "\n",
        "while len(lista2) < tam_lista2:  # Criando lista 2\n",
        "    x = randint(1, 100)\n",
        "    if x not in lista2:\n",
        "        lista2.append(x)\n",
        "lista2.sort()\n",
        "\n",
        "lista_repetidos = [] # Criando a terceira lista\n",
        "for i in lista1:\n",
        "    for j in lista2:\n",
        "        if i == j:\n",
        "            lista_repetidos.append(i)\n",
        "            break\n",
        "\n",
        "# for i in lista1:\n",
        "#     if i in lista2:\n",
        "#         lista_repetidos.append(i)\n",
        "\n",
        "print(f'Lista 1: {lista1}')\n",
        "print(f'Lista 2: {lista2}')\n",
        "print(f'\\nLista 3: {lista_repetidos}')"
      ],
      "metadata": {
        "colab": {
          "base_uri": "https://localhost:8080/"
        },
        "id": "6ngE6h4i9JHl",
        "outputId": "787e9d71-1b4b-4f8a-8dde-de2d9d5055c2"
      },
      "execution_count": null,
      "outputs": [
        {
          "output_type": "stream",
          "name": "stdout",
          "text": [
            "Lista 1: [14, 16, 24, 47, 60, 61, 64, 73, 76, 88]\n",
            "Lista 2: [2, 9, 10, 11, 13, 15, 19, 21, 22, 24, 28, 43, 44, 45, 58, 68, 80, 90, 91, 97]\n",
            "\n",
            "Lista 3: [24]\n"
          ]
        }
      ]
    },
    {
      "cell_type": "code",
      "source": [
        "from random import sample\n",
        "\n",
        "'''\n",
        "lis1 = []\n",
        "for _ in range(10):\n",
        "    v = randint(1, 100)\n",
        "    while v in lis1:\n",
        "        v = randint(1, 100)\n",
        "    lis1.append(v)\n",
        "'''\n",
        "\n",
        "lis1 = sample(range(1, 101), 10)  # gera uma lista com 10 números distintos entre 1 e 100\n",
        "lis1.sort()\n",
        "lis2 = sample(range(1, 101), 20)  # gera com 20 números\n",
        "lis2.sort()\n",
        "\n",
        "lis3 = []\n",
        "for v in lis1:\n",
        "    if v in lis2:\n",
        "        lis3.append(v)\n",
        "\n",
        "print(f'Lista 1: {lis1}')\n",
        "print(f'\\nLista 2: {lis2}')\n",
        "print(f'\\nLista 3: {lis3}')"
      ],
      "metadata": {
        "id": "QDerhw_F972G",
        "colab": {
          "base_uri": "https://localhost:8080/"
        },
        "outputId": "d4898bcc-064a-4ab7-990a-41727c1b01aa"
      },
      "execution_count": null,
      "outputs": [
        {
          "output_type": "stream",
          "name": "stdout",
          "text": [
            "Lista 1: [8, 18, 21, 28, 31, 48, 53, 70, 74, 88]\n",
            "\n",
            "Lista 2: [1, 3, 12, 14, 32, 40, 41, 48, 59, 64, 65, 66, 69, 76, 79, 81, 82, 88, 89, 99]\n",
            "\n",
            "Lista 3: [48, 88]\n"
          ]
        }
      ]
    },
    {
      "cell_type": "code",
      "source": [
        "from random import sample\n",
        "\n",
        "sample()  # Amostra -> Sorteia e gera uma lista com amostas de valores\n",
        "sample(range(1, 101), 10)  # De uma lista com números de 1 a 100, escolhe 10 deles. Não terá valores repetidos, pois o range gera uma sequencia de  "
      ],
      "metadata": {
        "id": "t55naepS98Ej",
        "colab": {
          "base_uri": "https://localhost:8080/"
        },
        "outputId": "cb06fa93-eabf-497c-f620-e067fa526062"
      },
      "execution_count": null,
      "outputs": [
        {
          "output_type": "execute_result",
          "data": {
            "text/plain": [
              "[30, 51, 85, 17, 46, 10, 66, 4, 32, 53]"
            ]
          },
          "metadata": {},
          "execution_count": 2
        }
      ]
    },
    {
      "cell_type": "markdown",
      "metadata": {
        "id": "ykADcUBIGsYg"
      },
      "source": [
        "> ## `Resumo das operações com listas` (métodos e funções):"
      ]
    },
    {
      "cell_type": "code",
      "metadata": {
        "colab": {
          "base_uri": "https://localhost:8080/"
        },
        "id": "7_X4NubeGvyC",
        "outputId": "34ee57e7-be29-4adf-de66-dbd06142071e"
      },
      "source": [
        "lis = []  # criar uma lista vazia\n",
        "lis = [1, 2, 3, 4, 5]  # criar uma lista com valores pré-inseridos\n",
        "lis = [0] * 10  # criar uma lista com 10 zeros\n",
        "lis = [x for x in range(10)]  # criar a lista: [0, 1, 2, 3, 4, 5, 6, 7, 8, 9]\n",
        "copia = lis[:]  # copiar a lista lis para copia\n",
        "copia = lis.copy()  # copiar a lista lis para copia\n",
        "print(copia)\n",
        "print(copia[1:4])  # mostra o recorte da lista entre o 2º e o 4º valor\n",
        "lis.append(10)  # inserir no final da lista o valor 10\n",
        "print(lis)\n",
        "val = lis.pop()  # retirar da lista o valor final (val recebe o último da lista)\n",
        "print(val, lis)\n",
        "val = lis.pop(0)  # retirar o primeiro da lista (o índice deve ser passado)\n",
        "print(val, lis)\n",
        "lis.insert(4, 99)  # inserir 99 na posição (índice) 4 (5º posição)\n",
        "print(lis)\n",
        "lis = [6, 2, 9, 0, 2, 6, 7, 3]\n",
        "print(f'Lista desordenada = {lis}')\n",
        "tam = len(lis)  # calcular o tamanho da lista (nº de elementos)\n",
        "print(tam, 'elementos')\n",
        "novalis = sorted(lis)  # criar uma nova lista ordenada (crescente) da lista passada com parâmetro (lis)\n",
        "print(f'Lista desordenada = {lis} e lista em ordem crescente = {novalis}')\n",
        "novalis = sorted(lis, reverse=True)  # ordem decrescente\n",
        "print(f'Lista desordenada = {lis} e lista em ordem decrescente = {novalis}')\n",
        "lis.sort()  # ordenar a lista (a lista será alterada)\n",
        "print(f'Lista ordenada = {lis}')\n",
        "me, ma, soma = min(lis), max(lis), sum(lis)  # calcular menor, maior e a soma dos valores de uma lista\n",
        "print('Menor =', me, 'Maior =', ma, 'Soma =', soma)\n",
        "cont = lis.count(2)  # calcular a qtde de elementos iguais ao 2\n",
        "print('Qtde iguais ao 2 =', cont)\n",
        "if 3 in lis:  # verifica se o valor 3 está contido na lista lis\n",
        "    print('3 está contido na lista')\n",
        "if 5 not in lis:  # verifica se o 5 NÃO está contido na lista lis\n",
        "    print('SIM')\n",
        "else:\n",
        "    print('NÃO')\n",
        "lis1 = [1, 2, 3]\n",
        "lis2 = [4, 5, 6, 7, 8]\n",
        "lis3 = lis1 + lis2  # soma de listas resulta em outra lista com os valores reunidos\n",
        "print(f'Lista (listas somadas): {lis3}')"
      ],
      "execution_count": null,
      "outputs": [
        {
          "output_type": "stream",
          "name": "stdout",
          "text": [
            "[0, 1, 2, 3, 4, 5, 6, 7, 8, 9]\n",
            "[1, 2, 3]\n",
            "[0, 1, 2, 3, 4, 5, 6, 7, 8, 9, 10]\n",
            "10 [0, 1, 2, 3, 4, 5, 6, 7, 8, 9]\n",
            "0 [1, 2, 3, 4, 5, 6, 7, 8, 9]\n",
            "[1, 2, 3, 4, 99, 5, 6, 7, 8, 9]\n",
            "Lista desordenada = [6, 2, 9, 0, 2, 6, 7, 3]\n",
            "8 elementos\n",
            "Lista desordenada = [6, 2, 9, 0, 2, 6, 7, 3] e lista em ordem crescente = [0, 2, 2, 3, 6, 6, 7, 9]\n",
            "Lista desordenada = [6, 2, 9, 0, 2, 6, 7, 3] e lista em ordem decrescente = [9, 7, 6, 6, 3, 2, 2, 0]\n",
            "Lista ordenada = [0, 2, 2, 3, 6, 6, 7, 9]\n",
            "Menor = 0 Maior = 9 Soma = 35\n",
            "Qtde iguais ao 2 = 2\n",
            "3 está contido na lista\n",
            "SIM\n",
            "Lista (listas somadas): [1, 2, 3, 4, 5, 6, 7, 8]\n"
          ]
        }
      ]
    },
    {
      "cell_type": "code",
      "source": [
        "tupla ()\n",
        "conjunto {}\n",
        "lista []\n",
        "dicionario {key:valor}"
      ],
      "metadata": {
        "colab": {
          "base_uri": "https://localhost:8080/"
        },
        "id": "jFnqkqoHiDzA",
        "outputId": "b17f0562-b2c4-4cce-f30d-0064c134fec0"
      },
      "execution_count": null,
      "outputs": [
        {
          "output_type": "execute_result",
          "data": {
            "text/plain": [
              "16"
            ]
          },
          "metadata": {},
          "execution_count": 17
        }
      ]
    },
    {
      "cell_type": "markdown",
      "source": [
        "> ## Matrizes"
      ],
      "metadata": {
        "id": "bnF3igK34qjA"
      }
    },
    {
      "cell_type": "code",
      "metadata": {
        "colab": {
          "base_uri": "https://localhost:8080/"
        },
        "id": "3TtV6J_j5Vye",
        "outputId": "2f62fab4-7b8a-4907-9e3f-684360abc133"
      },
      "source": [
        "# Criar uma matriz 3x3 (3 linhas e 3 colunas) com zeros\n",
        "\n",
        "mat = [[0, 0, 0],\n",
        "       [0, 0, 0],\n",
        "       [0, 0, 0]]\n",
        "print(f'Matriz = {mat}')"
      ],
      "execution_count": null,
      "outputs": [
        {
          "output_type": "stream",
          "name": "stdout",
          "text": [
            "Matriz = [[0, 0, 0], [0, 0, 0], [0, 0, 0]]\n"
          ]
        }
      ]
    },
    {
      "cell_type": "code",
      "metadata": {
        "colab": {
          "base_uri": "https://localhost:8080/"
        },
        "id": "nv8B5gnd64Oi",
        "outputId": "e7151434-1566-46bf-e1f6-7da5f83a9990"
      },
      "source": [
        "# o mesmo de outra forma\n",
        "\n",
        "mat = [[0] * 3 for i in range(3)]  # cria uma matriz 3x3 onde i representa as linhas\n",
        "print(f'Matriz = {mat}')"
      ],
      "execution_count": null,
      "outputs": [
        {
          "output_type": "stream",
          "name": "stdout",
          "text": [
            "Matriz = [[0, 0, 0], [0, 0, 0], [0, 0, 0]]\n"
          ]
        }
      ]
    },
    {
      "cell_type": "code",
      "metadata": {
        "colab": {
          "base_uri": "https://localhost:8080/"
        },
        "id": "L0grLzZB-Voj",
        "outputId": "9da64ac6-4f3f-4929-c524-1f54ae00fdec"
      },
      "source": [
        "# mostrar uma matriz linha por linha\n",
        "\n",
        "mat = [[9] * 3 for i in range(5)]\n",
        "\n",
        "'''\n",
        "print('Matriz:')\n",
        "for i in range(5):\n",
        "    print(mat[i])  # i é a linha\n",
        "'''\n",
        "\n",
        "print('Matriz:')\n",
        "for lin in mat:  # mostra a matriz linha por linha\n",
        "    print(lin)\n",
        "\n",
        "print('\\nMatriz:')\n",
        "for i in range(5):  # i é linha\n",
        "    for j in range(3):  # j é coluna\n",
        "        print(mat[i][j], end=' ')\n",
        "    print()\n",
        "\n",
        "print('\\nMatriz:')\n",
        "for lin in mat:  # lin recebe uma linha\n",
        "    for v in lin:  # v recebe valor por valor da linha (lin)\n",
        "        print(v, end=' ')\n",
        "    print()"
      ],
      "execution_count": null,
      "outputs": [
        {
          "output_type": "stream",
          "name": "stdout",
          "text": [
            "Matriz:\n",
            "[9, 9, 9]\n",
            "[9, 9, 9]\n",
            "[9, 9, 9]\n",
            "[9, 9, 9]\n",
            "[9, 9, 9]\n",
            "\n",
            "Matriz:\n",
            "9 9 9 \n",
            "9 9 9 \n",
            "9 9 9 \n",
            "9 9 9 \n",
            "9 9 9 \n",
            "\n",
            "Matriz:\n",
            "9 9 9 \n",
            "9 9 9 \n",
            "9 9 9 \n",
            "9 9 9 \n",
            "9 9 9 \n"
          ]
        }
      ]
    },
    {
      "cell_type": "markdown",
      "metadata": {
        "id": "oHhbQdzJD8G6"
      },
      "source": [
        "> ## Atribuição e leitura de valores em matrizes:"
      ]
    },
    {
      "cell_type": "code",
      "metadata": {
        "colab": {
          "base_uri": "https://localhost:8080/"
        },
        "id": "0thKM2WUyitd",
        "outputId": "f9311160-09a7-454f-af89-b9953a02d96c"
      },
      "source": [
        "# Atribuição direta a posições da matriz\n",
        "\n",
        "mat = [[0] * 4 for i in range(5)]\n",
        "mat[0][0] = -1  # linha 0 e coluna 0\n",
        "mat[2][2] = 99\n",
        "mat[4][3] = 1000\n",
        "\n",
        "print('Matriz:')\n",
        "for lin in mat:\n",
        "    print(lin)"
      ],
      "execution_count": null,
      "outputs": [
        {
          "output_type": "stream",
          "name": "stdout",
          "text": [
            "Matriz:\n",
            "[-1, 0, 0, 0]\n",
            "[0, 0, 0, 0]\n",
            "[0, 0, 99, 0]\n",
            "[0, 0, 0, 0]\n",
            "[0, 0, 0, 1000]\n"
          ]
        }
      ]
    },
    {
      "cell_type": "code",
      "metadata": {
        "colab": {
          "base_uri": "https://localhost:8080/"
        },
        "id": "u2VE_ePJz2AA",
        "outputId": "fcd30b81-2e07-4e2c-c133-6d84691821ae"
      },
      "source": [
        "# Leitura de dados em uma matriz\n",
        "\n",
        "mat = [[0] * 3 for i in range(2)]  # matriz 2x3\n",
        "for i in range(2):  # for da linha\n",
        "    for j in range(3):  # for da coluna\n",
        "        mat[i][j] = int(input(f'Mat[{i}][{j}]: '))\n",
        "    print()\n",
        "\n",
        "print('Matriz:')\n",
        "for lin in mat:\n",
        "    print(lin)"
      ],
      "execution_count": null,
      "outputs": [
        {
          "output_type": "stream",
          "name": "stdout",
          "text": [
            "Mat[0][0]: 4\n",
            "Mat[0][1]: 2\n",
            "Mat[0][2]: 8\n",
            "\n",
            "Mat[1][0]: 4\n",
            "Mat[1][1]: 9\n",
            "Mat[1][2]: 2\n",
            "\n",
            "Matriz:\n",
            "[4, 2, 8]\n",
            "[4, 9, 2]\n"
          ]
        }
      ]
    },
    {
      "cell_type": "code",
      "metadata": {
        "colab": {
          "base_uri": "https://localhost:8080/"
        },
        "id": "JSeKmJjB344j",
        "outputId": "5b4039ce-bfb2-4831-90bf-7a1ebb51e5c5"
      },
      "source": [
        "# Outra forma: usando append\n",
        "\n",
        "mat = []\n",
        "for i in range(2):  # for da linha\n",
        "    lin = []\n",
        "    for j in range(3):  # for da coluna\n",
        "        lin.append(int(input(f'Mat[{i}][{j}]: ')))  # leitura da linha\n",
        "    mat.append(lin)  # insere a linha na matriz\n",
        "    print()\n",
        "\n",
        "print('Matriz:')\n",
        "for lin in mat:\n",
        "    print(lin)"
      ],
      "execution_count": null,
      "outputs": [
        {
          "output_type": "stream",
          "name": "stdout",
          "text": [
            "Mat[0][0]: 3\n",
            "Mat[0][1]: 2\n",
            "Mat[0][2]: 6\n",
            "\n",
            "Mat[1][0]: 7\n",
            "Mat[1][1]: 8\n",
            "Mat[1][2]: 2\n",
            "\n",
            "Matriz:\n",
            "[3, 2, 6]\n",
            "[7, 8, 2]\n"
          ]
        }
      ]
    },
    {
      "cell_type": "markdown",
      "metadata": {
        "id": "pxVkbRhk5L4m"
      },
      "source": [
        "> ### `Extra`: teste de performance dos dois algoritmos de atribuição de valores a uma matriz."
      ]
    },
    {
      "cell_type": "code",
      "metadata": {
        "colab": {
          "base_uri": "https://localhost:8080/"
        },
        "id": "BYApoRdS5NJf",
        "outputId": "c0828094-2128-416e-977e-0aa8f765c331"
      },
      "source": [
        "from time import time\n",
        "from random import randint\n",
        "\n",
        "t = time()\n",
        "mat = [[0] * 1000 for i in range(1000)]  # matriz 1000x1000\n",
        "for i in range(1000):\n",
        "    for j in range(1000):\n",
        "        mat[i][j] = randint(1, 100)\n",
        "dt = time() - t  # dt é o delta tempo (diferença)\n",
        "print(f'Tempo do algoritmo 1: {dt} s')\n",
        "\n",
        "t = time()\n",
        "mat = []\n",
        "for i in range(1000):\n",
        "    lin = []\n",
        "    for j in range(1000):\n",
        "        lin.append(randint(1, 100))\n",
        "    mat.append(lin)\n",
        "dt = time() - t  # dt é o delta tempo (diferença)\n",
        "print(f'Tempo do algoritmo 2: {dt} s')"
      ],
      "execution_count": null,
      "outputs": [
        {
          "output_type": "stream",
          "name": "stdout",
          "text": [
            "Tempo do algoritmo 1: 1.493278980255127 s\n",
            "Tempo do algoritmo 2: 1.4200525283813477 s\n"
          ]
        }
      ]
    },
    {
      "cell_type": "markdown",
      "metadata": {
        "id": "v_RztqxY7sIG"
      },
      "source": [
        "> ### `Conclusão`: praticamente não há diferença entre os algoritmos."
      ]
    },
    {
      "cell_type": "markdown",
      "metadata": {
        "id": "gYOvI_zk9H4J"
      },
      "source": [
        "> ## **Exercícios:**\n",
        "---\n",
        "---"
      ]
    },
    {
      "cell_type": "markdown",
      "metadata": {
        "id": "zZt9DtgA9QiY"
      },
      "source": [
        "> ### `1.` Ler uma matriz 3x5 de inteiros e, após as leituras, calcular e mostrar:\n",
        "+ ### A média arimética dos valores da matriz.\n",
        "+ ### O menor e o maior valor da matriz.\n",
        "+ ### A qtde de valores negativos contidos na matriz."
      ]
    },
    {
      "cell_type": "code",
      "metadata": {
        "id": "ntMuzOraC9le",
        "colab": {
          "base_uri": "https://localhost:8080/"
        },
        "outputId": "169ca79f-d233-4387-98bb-dd8d1126922d"
      },
      "source": [
        "# Leitura dos valores da matriz\n",
        "\n",
        "mat = [[0] * 5 for i in range(3)]\n",
        "for i in range(3):\n",
        "    for j in range(5):\n",
        "        mat[i][j] = int(input(f'Mat[{i}][{j}]: '))\n",
        "    print()"
      ],
      "execution_count": null,
      "outputs": [
        {
          "output_type": "stream",
          "name": "stdout",
          "text": [
            "Mat[0][0]: 1\n",
            "Mat[0][1]: 1\n",
            "Mat[0][2]: 1\n",
            "Mat[0][3]: 1\n",
            "Mat[0][4]: 1\n",
            "\n",
            "Mat[1][0]: 2\n",
            "Mat[1][1]: 2\n",
            "Mat[1][2]: 2\n",
            "Mat[1][3]: 2\n",
            "Mat[1][4]: 2\n",
            "\n",
            "Mat[2][0]: 3\n",
            "Mat[2][1]: 3\n",
            "Mat[2][2]: 3\n",
            "Mat[2][3]: 3\n",
            "Mat[2][4]: 3\n",
            "\n"
          ]
        }
      ]
    },
    {
      "cell_type": "code",
      "metadata": {
        "id": "wAh-CjaW9YIC",
        "colab": {
          "base_uri": "https://localhost:8080/"
        },
        "outputId": "46be9028-ce49-45bc-c089-fcdbca460ed4"
      },
      "source": [
        "# Cálculo do item 1:\n",
        "\n",
        "'''\n",
        "soma = 0  # Soma indexada: Percorrendo a lista usando index\n",
        "for i in range(3):\n",
        "    for j in range(5):\n",
        "        soma += mat[i][j]\n",
        "'''\n",
        "\n",
        "'''\n",
        "soma = 0  # Percorrendo a lista sem usar index \n",
        "for lin in mat:\n",
        "    for v in lin:\n",
        "        soma += v\n",
        "'''\n",
        "\n",
        "soma = 0  # Utilizando a função sum() -> Somamos as linhas (que são listas) e acumulamos o seu valor em uma variável\n",
        "for lin in mat:\n",
        "    soma += sum(lin)\n",
        "\n",
        "tamanho_matriz = len(mat[0]) * len(mat)  # Quantidade de elementos da matriz -> len(mat[0]) é a quantidade de colunas e len(mat) é a quant de linhas \n",
        "\n",
        "ma = soma / 15\n",
        "print(f'Média = {ma:.3f}')"
      ],
      "execution_count": null,
      "outputs": [
        {
          "output_type": "stream",
          "name": "stdout",
          "text": [
            "Média = 2.000\n"
          ]
        }
      ]
    },
    {
      "cell_type": "code",
      "metadata": {
        "id": "Me4A78miEGBB",
        "colab": {
          "base_uri": "https://localhost:8080/"
        },
        "outputId": "7420f2ca-0296-4555-dc1b-210031bc9f3f"
      },
      "source": [
        "# usando o módulo (biblioteca) Numpy\n",
        "\n",
        "import numpy as np\n",
        "\n",
        "npmat = np.array(mat)  # Cria uma matriz a partir de uma lista de listas\n",
        "\n",
        "ma = np.average(npmat)  # ou ainda: ma = npmat.sum() / npmat.size\n",
        "print(f'Média = {ma:.3f}')"
      ],
      "execution_count": null,
      "outputs": [
        {
          "output_type": "stream",
          "name": "stdout",
          "text": [
            "Média = 2.000\n"
          ]
        }
      ]
    },
    {
      "cell_type": "code",
      "metadata": {
        "id": "szeEoS2w2Hk8",
        "colab": {
          "base_uri": "https://localhost:8080/"
        },
        "outputId": "1f102745-4764-4302-f7db-6b8871e249ad"
      },
      "source": [
        "# Cálculo do item 2\n",
        "\n",
        "'''\n",
        "me = ma = mat[0][0]\n",
        "for i in range(3):\n",
        "    for j in range(5):\n",
        "        if mat[i][j] < me:\n",
        "            me = mat[i][j]\n",
        "        elif mat[i][j] > ma:\n",
        "            ma = mat[i][j]\n",
        "'''\n",
        "\n",
        "'''\n",
        "me = ma = mat[0][0]\n",
        "for lin in mat:\n",
        "    for v in lin:\n",
        "        if v < me:\n",
        "            me = v\n",
        "        elif v > ma:\n",
        "            ma = v\n",
        "'''\n",
        "\n",
        "lis_me = [min(lin) for lin in mat]  # cria uma lista com os menores de cada linha\n",
        "me = min(lis_me)  # calcula o menor da lista de menores\n",
        "lis_ma = [max(lin) for lin in mat]  # cria uma lista com os maiores de cada linha\n",
        "ma = max(lis_ma)  # calcula o maior da lista de maiores\n",
        "\n",
        "print(f'Menor = {me}\\n\\nMaior = {ma}')"
      ],
      "execution_count": null,
      "outputs": [
        {
          "output_type": "stream",
          "name": "stdout",
          "text": [
            "Menor = 1\n",
            "\n",
            "Maior = 3\n"
          ]
        }
      ]
    },
    {
      "cell_type": "code",
      "metadata": {
        "id": "w5eOfbX66IcN",
        "colab": {
          "base_uri": "https://localhost:8080/"
        },
        "outputId": "76c37f9b-33d5-469d-a04a-ac69e01e44e4"
      },
      "source": [
        "# usando o módulo (biblioteca) Numpy\n",
        "\n",
        "import numpy as np\n",
        "\n",
        "npmat = np.array(mat)\n",
        "\n",
        "me = npmat.min()\n",
        "ma = npmat.max()\n",
        "\n",
        "print(f'Menor = {me}\\n\\nMaior = {ma}')"
      ],
      "execution_count": null,
      "outputs": [
        {
          "output_type": "stream",
          "name": "stdout",
          "text": [
            "Menor = 1\n",
            "\n",
            "Maior = 3\n"
          ]
        }
      ]
    },
    {
      "cell_type": "code",
      "metadata": {
        "id": "5zE5p7Mv7FlO",
        "colab": {
          "base_uri": "https://localhost:8080/"
        },
        "outputId": "88fef075-7215-4eb5-80ae-39184ab4a8e1"
      },
      "source": [
        "# Cálculo do item 3\n",
        "\n",
        "'''\n",
        "qn = 0\n",
        "for i in range(3):\n",
        "    for j in range(5):\n",
        "        if mat[i][j] < 0:\n",
        "            qn += 1\n",
        "'''\n",
        "\n",
        "qn = 0\n",
        "for lin in mat:\n",
        "    for v in lin:\n",
        "        if v < 0:\n",
        "            qn += 1\n",
        "            \n",
        "print(f'Qtde de negativos = {qn}')"
      ],
      "execution_count": null,
      "outputs": [
        {
          "output_type": "stream",
          "name": "stdout",
          "text": [
            "Qtde de negativos = 0\n"
          ]
        }
      ]
    },
    {
      "cell_type": "markdown",
      "metadata": {
        "id": "px8UywG79S90"
      },
      "source": [
        "> ### `2.` Gerar uma matriz 5x5 de inteiros aleatórios entre 0 e 9 e, em seguida, calcular e mostrar a soma dos valores da diagonal principal e o produto dos valores da diagonal secundária da matriz."
      ]
    },
    {
      "cell_type": "code",
      "source": [
        "from random import randint\n",
        "\n",
        "# Criando a matriz\n",
        "matriz = [[0] * 5 for i in range(5)]\n",
        "for i in range(5):\n",
        "    for j in range(5):\n",
        "        matriz[i][j] = randint(0, 9)\n",
        "        print(matriz[i][j], end=' ')\n",
        "    print()\n",
        "\n",
        "# Calculando a soma da diagonal principal\n",
        "# Na diagonal principal, o índice da linha e da coluna são iguais\n",
        "# soma = 0\n",
        "# for i in range(5):\n",
        "#     for j in range(5):\n",
        "#         if i == j:\n",
        "#             soma += matriz[i][i]\n",
        "# print(f'\\nSoma DP: {soma}')\n",
        "\n",
        "soma = 0\n",
        "for i in range(5):\n",
        "    soma += matriz[i][i]\n",
        "print(f'\\nSoma DP: {soma}')\n",
        "\n",
        "# Calculando a multiplicação da diagonal secundária\n",
        "# Na diagonal secundária, a soma dos índices da linha e da coluna são sempre o mesmo valor (nesse caso: 4)\n",
        "# prod = 1\n",
        "# for i in range(5):\n",
        "#     for j in range(5):\n",
        "#         if i + j == 4:\n",
        "#             prod *= matriz [i][j]\n",
        "# print(f'\\nProduto DS: {prod}')\n",
        "\n",
        "prod = 1\n",
        "for i in range(5):\n",
        "    j = 4 - i\n",
        "    prod *= matriz[i][j]  # Ou prod *= mat[i][4 - i]\n",
        "print(f'\\nProduto DS: {prod}')"
      ],
      "metadata": {
        "id": "LV5BKURKrTk0",
        "colab": {
          "base_uri": "https://localhost:8080/"
        },
        "outputId": "85c8127e-d99f-48b4-8786-fa41fcb33feb"
      },
      "execution_count": null,
      "outputs": [
        {
          "output_type": "stream",
          "name": "stdout",
          "text": [
            "6 6 9 0 8 \n",
            "9 2 5 9 5 \n",
            "7 5 4 1 9 \n",
            "3 1 1 0 7 \n",
            "9 2 0 3 7 \n",
            "\n",
            "Soma DP: 19\n",
            "\n",
            "Soma DP: 19\n",
            "\n",
            "Produto DS: 2592\n",
            "\n",
            "Produto DS: 2592\n"
          ]
        }
      ]
    },
    {
      "cell_type": "markdown",
      "metadata": {
        "id": "rT2NwEKIKSQO"
      },
      "source": [
        "> ### `3.` Ler uma matriz 4x4 de inteiros e, após as leituras, calcular e mostrar a qtde de pares e a qtde de ímpares contidos nessa matriz."
      ]
    },
    {
      "cell_type": "code",
      "source": [
        "LINHAS = COLUNAS = 4\n",
        "\n",
        "matriz = [[0] * COLUNAS for i in range(LINHAS)]\n",
        "\n",
        "for i in range(LINHAS):\n",
        "    for j in range(COLUNAS):\n",
        "        matriz[i][j] = int(input(f'Matriz[{i}][{j}]: '))\n",
        "    print()\n",
        "\n",
        "print('Matriz: ')\n",
        "for i in range(LINHAS):\n",
        "    for j in range(COLUNAS):\n",
        "        print(matriz[i][j], end=' ')\n",
        "    print()\n",
        "\n",
        "pares = 0\n",
        "for i in range(LINHAS):\n",
        "    for j in range(COLUNAS):\n",
        "        if matriz[i][j] % 2 == 0:\n",
        "            pares += 1\n",
        "\n",
        "print(f'\\nPares: {pares} \\nÍmpares: {LINHAS * COLUNAS - pares}')"
      ],
      "metadata": {
        "id": "YnGARZWb-Y0e",
        "colab": {
          "base_uri": "https://localhost:8080/"
        },
        "outputId": "da7fdcd7-6e32-4f6e-bd4c-ed8edabf2517"
      },
      "execution_count": null,
      "outputs": [
        {
          "output_type": "stream",
          "name": "stdout",
          "text": [
            "Matriz[0][0]: 0\n",
            "Matriz[0][1]: 2\n",
            "Matriz[0][2]: 4\n",
            "Matriz[0][3]: 6\n",
            "\n",
            "Matriz[1][0]: 7\n",
            "Matriz[1][1]: 9\n",
            "Matriz[1][2]: 1\n",
            "Matriz[1][3]: 3\n",
            "\n",
            "Matriz[2][0]: 1\n",
            "Matriz[2][1]: 2\n",
            "Matriz[2][2]: 3\n",
            "Matriz[2][3]: 4\n",
            "\n",
            "Matriz[3][0]: 5\n",
            "Matriz[3][1]: 6\n",
            "Matriz[3][2]: 7\n",
            "Matriz[3][3]: 8\n",
            "\n",
            "Matriz: \n",
            "0 2 4 6 \n",
            "7 9 1 3 \n",
            "1 2 3 4 \n",
            "5 6 7 8 \n",
            "\n",
            "Pares: 8 \n",
            "Ímpares: 8\n"
          ]
        }
      ]
    },
    {
      "cell_type": "markdown",
      "metadata": {
        "id": "SllYCpmvKqEn"
      },
      "source": [
        "> ### `4.` Gerar uma matriz 4x5 com números inteiros e aleatórios entre 1 e 10 e, em seguida, calcular e mostrar:\n",
        "+ ### O menor e o maior valor de cada linha.\n",
        "+ ### A média aritmética de cada linha e inseri-la na 6ª coluna. Mostrar a matriz após o cálculo."
      ]
    },
    {
      "cell_type": "code",
      "source": [
        "from random import randint\n",
        "\n",
        "LINHAS = 4\n",
        "COLUNAS = 5\n",
        "\n",
        "# Gerando a matriz\n",
        "matriz = [[0] * COLUNAS for i in range(LINHAS)]\n",
        "for i in range(LINHAS):\n",
        "    print('[', end=' ')\n",
        "    for j in range(COLUNAS):\n",
        "        matriz[i][j] = randint(1, 10)\n",
        "        print(matriz[i][j], end=' ')\n",
        "    print(']')\n",
        "\n",
        "print()\n",
        "# Calculando o menor numero e maior número das linhas\n",
        "menor_linha = maior_linha = 0\n",
        "for i in range(LINHAS):\n",
        "    menor_linha = min(matriz[i])\n",
        "    maior_linha = max(matriz[i])\n",
        "\n",
        "    print(f'LINHA {i} => Menor número: {menor_linha} / Maior número: {maior_linha}')\n",
        "\n",
        "# Calculando média aritmética de cada linha\n",
        "for i in range(LINHAS):\n",
        "    media = sum(matriz[i]) / COLUNAS # COLUNAS será a quantidade de números em cada linha\n",
        "    matriz[i].append(media)\n",
        "\n",
        "print('\\nMatriz com a média na última coluna:')\n",
        "for i in range(LINHAS):\n",
        "    print('[', end=' ')\n",
        "    for j in range(COLUNAS + 1):\n",
        "        print(matriz[i][j], end=' ')\n",
        "    print(']')"
      ],
      "metadata": {
        "id": "UkwW6aJZ-ZKD",
        "colab": {
          "base_uri": "https://localhost:8080/"
        },
        "outputId": "b08dbd54-7376-429d-fb95-855bcae4c861"
      },
      "execution_count": null,
      "outputs": [
        {
          "output_type": "stream",
          "name": "stdout",
          "text": [
            "[ 9 6 2 2 6 ]\n",
            "[ 9 1 8 3 5 ]\n",
            "[ 7 6 9 6 7 ]\n",
            "[ 1 7 2 8 7 ]\n",
            "\n",
            "LINHA 0 => Menor número: 2 / Maior número: 9\n",
            "LINHA 1 => Menor número: 1 / Maior número: 9\n",
            "LINHA 2 => Menor número: 6 / Maior número: 9\n",
            "LINHA 3 => Menor número: 1 / Maior número: 8\n",
            "\n",
            "Matriz com a média na última coluna:\n",
            "[ 9 6 2 2 6 5.0 ]\n",
            "[ 9 1 8 3 5 5.2 ]\n",
            "[ 7 6 9 6 7 7.0 ]\n",
            "[ 1 7 2 8 7 5.0 ]\n"
          ]
        }
      ]
    },
    {
      "cell_type": "markdown",
      "metadata": {
        "id": "0_9SjaibLap1"
      },
      "source": [
        "> ### `5.` Gerar uma matriz 5x3 com números inteiros e aleatórios entre 1 e 10 e, em seguida, calcular e mostrar:    \n",
        "+ ### O menor e o maior valor de cada coluna.\n",
        "+ ### Calcular e inserir a média aritmética de cada coluna em uma linha no final da matriz. Mostrar a matriz após o cálculo."
      ]
    },
    {
      "cell_type": "code",
      "source": [
        "from random import randint\n",
        "\n",
        "LINHAS = 5\n",
        "COLUNAS = 3\n",
        "\n",
        "# Gerando a matriz\n",
        "matriz = [[0] * COLUNAS for i in range(LINHAS)]\n",
        "for i in range(LINHAS):\n",
        "    for j in range(COLUNAS):\n",
        "        matriz[i][j] = randint(1, 10)\n",
        "    print(matriz[i])\n",
        "\n",
        "# Calculando menor e maior de cada coluna\n",
        "for j in range(COLUNAS):\n",
        "    menor_coluna, maior_coluna = 11, 0\n",
        "    for i in range(LINHAS):\n",
        "        if matriz[i][j] < menor_coluna:\n",
        "            menor_coluna = matriz[i][j]\n",
        "        \n",
        "        if matriz[i][j] > maior_coluna:\n",
        "            maior_coluna = matriz[i][j]\n",
        "\n",
        "    print(f'COLUNA {j} => Menor número: {menor_coluna} / Maior número: {maior_coluna}')\n",
        "    \n",
        "# Calculando média das colunas\n",
        "matriz.append([0] * COLUNAS)  # Colocando a última linha\n",
        "for j in range(COLUNAS):\n",
        "    numeros_coluna = []  # Dava para fazer um dicionário para guardar todas as colunas\n",
        "    for i in range(LINHAS):\n",
        "        numeros_coluna.append(matriz[i][j])\n",
        "        media = sum(numeros_coluna) / LINHAS # LINHAS será a quantidade de números em cada coluna (sem contar o zero do final)\n",
        "    matriz[LINHAS][j] = media  # Matriz agora vai até a linha LINHAS, antes era de 0 a LINHAS - 1\n",
        "\n",
        "print('\\nMatriz com a média na última coluna:')\n",
        "for i in range(LINHAS + 1):\n",
        "    print(matriz[i])"
      ],
      "metadata": {
        "id": "EXu3cAmm-gt5",
        "colab": {
          "base_uri": "https://localhost:8080/"
        },
        "outputId": "9bbdefe1-18cf-4551-cd28-43315385b418"
      },
      "execution_count": null,
      "outputs": [
        {
          "output_type": "stream",
          "name": "stdout",
          "text": [
            "[9, 10, 1]\n",
            "[7, 1, 2]\n",
            "[2, 8, 7]\n",
            "[6, 7, 4]\n",
            "[2, 1, 1]\n",
            "COLUNA 0 => Menor número: 2 / Maior número: 9\n",
            "COLUNA 1 => Menor número: 1 / Maior número: 10\n",
            "COLUNA 2 => Menor número: 1 / Maior número: 7\n",
            "\n",
            "Matriz com a média na última coluna:\n",
            "[9, 10, 1]\n",
            "[7, 1, 2]\n",
            "[2, 8, 7]\n",
            "[6, 7, 4]\n",
            "[2, 1, 1]\n",
            "[5.2, 5.4, 3.0]\n"
          ]
        }
      ]
    },
    {
      "cell_type": "markdown",
      "source": [
        "> ### `Extra`: inserir uma coluna em um array `Numpy`.\n",
        "\n",
        "> Bloco com recuo\n",
        "\n"
      ],
      "metadata": {
        "id": "yiAEGDhVUhCJ"
      }
    },
    {
      "cell_type": "code",
      "source": [
        "npmat = np.append(npmat, [[99], [99], [99], [99], [99], [99]], axis=1)\n",
        "print(npmat)"
      ],
      "metadata": {
        "colab": {
          "base_uri": "https://localhost:8080/"
        },
        "id": "Lzzx1KSlUrdM",
        "outputId": "81301429-4bea-4a95-9d7f-8763a557f629"
      },
      "execution_count": null,
      "outputs": [
        {
          "output_type": "stream",
          "name": "stdout",
          "text": [
            "[[ 5.   7.   4.  99. ]\n",
            " [ 9.   5.   7.  99. ]\n",
            " [ 1.   2.   6.  99. ]\n",
            " [ 7.   5.   4.  99. ]\n",
            " [ 3.   8.   1.  99. ]\n",
            " [ 5.   5.4  4.4 99. ]]\n"
          ]
        }
      ]
    },
    {
      "cell_type": "markdown",
      "source": [
        "> ### `Extra`: jogo da forca."
      ],
      "metadata": {
        "id": "2VGPUpf6kM4G"
      }
    },
    {
      "cell_type": "code",
      "source": [
        "from IPython.display import clear_output\n",
        "from random import randint\n",
        "\n",
        "def desenhar_forca(pe):\n",
        "    print('\\n----\\n   |')\n",
        "    if pe > 0:\n",
        "        print('   O')\n",
        "    if pe > 3:\n",
        "        print('  /|\\\\')\n",
        "    elif pe > 2:\n",
        "        print('  /|')\n",
        "    elif pe > 1:\n",
        "        print('   |')\n",
        "    if pe > 5:\n",
        "        print('  / \\\\')\n",
        "    elif pe > 4:\n",
        "        print('  /')\n",
        "\n",
        "filmes = ['matrix', 'os intocaveis', 'a chegada']\n",
        "p1 = filmes[randint(0, len(filmes) - 1)].lower()\n",
        "p2 = ''\n",
        "for c in p1:\n",
        "    p2 += '-' if c != ' ' else ' '\n",
        "erros = 0\n",
        "ledig = ''\n",
        "while p1 != p2 and erros < 6:\n",
        "    clear_output(True)\n",
        "    print(f'{p2}\\n\\nLetras digitadas: {ledig}')\n",
        "    desenhar_forca(erros)  # desenha forca\n",
        "    letra = input('\\nDigite uma letra: ').lower()\n",
        "    ledig += letra\n",
        "    p2 = list(p2)  # converte para lista para poder alterar as posições\n",
        "    achou = False\n",
        "    for i in range(len(p1)):\n",
        "        if p1[i] == letra:\n",
        "            p2[i] = letra\n",
        "            achou = True\n",
        "    p2 = ''.join(p2)\n",
        "    if not achou:\n",
        "        erros += 1\n",
        "\n",
        "clear_output(True)\n",
        "print(p2)\n",
        "desenhar_forca(erros)  # desenha forca\n",
        "if erros < 6:\n",
        "    print(f'\\n\\nGanhou!!!')\n",
        "else:\n",
        "    print(f'\\n\\nPerdeu!!!')"
      ],
      "metadata": {
        "colab": {
          "base_uri": "https://localhost:8080/"
        },
        "id": "AhGx4lc2kL94",
        "outputId": "fb07665e-c09e-416c-d0db-b5741a930d1c"
      },
      "execution_count": null,
      "outputs": [
        {
          "output_type": "stream",
          "name": "stdout",
          "text": [
            "m-tri-\n",
            "\n",
            "----\n",
            "   |\n",
            "   O\n",
            "  /|\\\n",
            "  / \\\n",
            "\n",
            "\n",
            "Perdeu!!!\n"
          ]
        }
      ]
    },
    {
      "cell_type": "markdown",
      "metadata": {
        "id": "Od_CGiQjFfda"
      },
      "source": [
        "> # **Funções (sub-rotinas)**:\n",
        "---\n",
        "---\n",
        "+ ## Blocos de comandos inseridos em um programa e identificados por nomes únicos.\n",
        "+ ## Executam tarefas específicas dentro de um programa e podem ser chamadas (executadas) sempre que necessário."
      ]
    },
    {
      "cell_type": "markdown",
      "metadata": {
        "id": "3MPCg33MFnFQ"
      },
      "source": [
        "> ## **Tipos de funções:**\n",
        "---"
      ]
    },
    {
      "cell_type": "markdown",
      "metadata": {
        "id": "54yL9wWOFtFo"
      },
      "source": [
        "> ### **Sem** parâmetros e **sem** retorno:"
      ]
    },
    {
      "cell_type": "code",
      "metadata": {
        "colab": {
          "base_uri": "https://localhost:8080/"
        },
        "id": "1exArYRKFvI4",
        "outputId": "37bbd737-036e-4438-d4ec-bf852c761a6f"
      },
      "source": [
        "def msg():\n",
        "    print('Ciência da Computação - 2022')\n",
        "\n",
        "# programa principal\n",
        "\n",
        "msg()"
      ],
      "execution_count": null,
      "outputs": [
        {
          "output_type": "stream",
          "name": "stdout",
          "text": [
            "Ciência da Computação - 2022\n"
          ]
        }
      ]
    },
    {
      "cell_type": "markdown",
      "metadata": {
        "id": "CBB2d9fdFvi-"
      },
      "source": [
        "> ### **Sem** parâmetros e **com** retorno:"
      ]
    },
    {
      "cell_type": "code",
      "metadata": {
        "colab": {
          "base_uri": "https://localhost:8080/"
        },
        "id": "k17sDohwF0L9",
        "outputId": "51082fe1-dec1-4bf3-ad93-9ba792b0e1cf"
      },
      "source": [
        "def soma():\n",
        "    a = int(input('A: '))\n",
        "    b = int(input('\\nB: '))\n",
        "    return a + b  # O return sai da função quando o código encontra essa palavra reservada.\n",
        "    # Sem o return o interpretador só vai sar da função depois que todas as suas linhas forem executadas\n",
        "    \n",
        "    # Códigos depois do return NUNCA são executados (A não ser que o return esteja dentro de IFs que dê falso, por ex)\n",
        "\n",
        "    # Se só colocarmos return e não colocarmos nenhum valor para retornar, a função, em Python, retorna None,\n",
        "    # que representa a ausência de valores\n",
        "\n",
        "# Funções que retornam valores armazenam esse valor dentro dela, alguns chamam de \"super variável\"\n",
        "# Ex: Se ela retorna uma string podemos colocar essa função em qualquer lugar onde teríamos uma string ou uma\n",
        "# variável do tipo string\n",
        "\n",
        "# programa principal\n",
        "\n",
        "s = soma()\n",
        "print(f'\\nSoma = {s}')"
      ],
      "execution_count": null,
      "outputs": [
        {
          "output_type": "stream",
          "name": "stdout",
          "text": [
            "A: 5\n",
            "\n",
            "B: 6\n",
            "\n",
            "Soma = 11\n"
          ]
        }
      ]
    },
    {
      "cell_type": "markdown",
      "metadata": {
        "id": "Q13BFhgtF0tK"
      },
      "source": [
        "> ### **Com** parâmetros e **sem** retorno:"
      ]
    },
    {
      "cell_type": "code",
      "metadata": {
        "colab": {
          "base_uri": "https://localhost:8080/"
        },
        "id": "nWBBtNejF4T2",
        "outputId": "2bfdfbfa-34ce-4661-cab2-f105a25e2f11"
      },
      "source": [
        "def potencia(pbase, pexp): # pbase e pexp são parâmetros (dados externos passados à função)\n",
        "    p = pbase ** pexp\n",
        "    print(f'{pbase} elevado a {pexp} = {p}')\n",
        "\n",
        "# programa principal\n",
        "\n",
        "potencia(2, 10) # Parâmetros são usados seguindo a ordem que declaramos\n",
        "potencia(3, 5)\n",
        "b = 5\n",
        "e = 8\n",
        "potencia(b, e)"
      ],
      "execution_count": null,
      "outputs": [
        {
          "output_type": "stream",
          "name": "stdout",
          "text": [
            "2 elevado a 10 = 1024\n",
            "3 elevado a 5 = 243\n",
            "5 elevado a 8 = 390625\n"
          ]
        }
      ]
    },
    {
      "cell_type": "markdown",
      "metadata": {
        "id": "7bqn5MeoF42B"
      },
      "source": [
        "> ### **Com** parâmetros e **com** retorno:"
      ]
    },
    {
      "cell_type": "code",
      "metadata": {
        "colab": {
          "base_uri": "https://localhost:8080/"
        },
        "id": "1s19Y6m0F8cP",
        "outputId": "56d2d315-a4ca-4a6b-f8df-72195402cd94"
      },
      "source": [
        "def menor3(pa, pb, pc):\n",
        "    return min(pa, pb, pc)\n",
        "\n",
        "# programa principal\n",
        "\n",
        "def main():  # Definindo a função\n",
        "    va = int(input('A: '))\n",
        "    vb = int(input('\\nB: '))\n",
        "    vc = int(input('\\nC: '))\n",
        "    me = menor3(va, vb, vc)\n",
        "    print(f'\\nMenor = {me}')\n",
        "\n",
        "    if menor3(va, vb, vc) == va:  # Mostrando que a função menor3() pode ser usada em testes, como se fosse um variável\n",
        "        print('\\nOK')\n",
        "\n",
        "main()  # Chamada da função\n",
        "\n",
        "# if __name__ == '__main__':  # Maneira mais correta de fazer, pois assim conseguimos usar um arquivo\n",
        "# com várias funções como se fosse um módulo, sem maiores complicações (Pode dar erros por chamar uma função main em um arquivo que\n",
        "# não seja o main)\n",
        "#     main()"
      ],
      "execution_count": null,
      "outputs": [
        {
          "output_type": "stream",
          "name": "stdout",
          "text": [
            "A: 1\n",
            "\n",
            "B: 3\n",
            "\n",
            "C: 6\n",
            "\n",
            "Menor = 1\n",
            "\n",
            "OK\n"
          ]
        }
      ]
    },
    {
      "cell_type": "code",
      "source": [
        "# Escopos:\n",
        "# Escopos são regiões do programa\n",
        "# Tudo o que está apenas dentro de um .py é global (Escopo global) - Fica acessível para todas as funções\n",
        "# Escopo local: Variáveis ficam disponíveis apenas dentro da função a qual elas pertencem\n",
        "# Dentro da função podemos trocar o valor de um parâmetro. Ex:\n",
        "\n",
        "# k = 7\n",
        "# exemplo(parametro):\n",
        "\n",
        "\n",
        "x = 5\n",
        "def soma2(x):\n",
        "    x += 2\n",
        "    print(f'X local: {x} ')\n",
        "    return x\n",
        "\n",
        "soma2(x)\n",
        "print(f'X global: {x}')\n"
      ],
      "metadata": {
        "colab": {
          "base_uri": "https://localhost:8080/"
        },
        "id": "dBgFoE9o0J-q",
        "outputId": "b82338f4-21d7-4390-a034-08e4de6e7800"
      },
      "execution_count": null,
      "outputs": [
        {
          "output_type": "stream",
          "name": "stdout",
          "text": [
            "X local: 7 \n",
            "X global: 5\n"
          ]
        }
      ]
    },
    {
      "cell_type": "code",
      "source": [
        "# Funções são recursivas -> Podemos usar uma função que tem retorno como parâmetro de outra função.\n",
        "# Um exemplo é a própria linha int(input('Digite um número: ')): O parâmetro da função int está sendo o\n",
        "# resultado da função input() que tem como parâmetro a string 'Digite um número: '. Perceba que assim\n",
        "# o interpretador executa as funções \"de dentro para fora\"."
      ],
      "metadata": {
        "id": "c50b4k675var"
      },
      "execution_count": null,
      "outputs": []
    },
    {
      "cell_type": "markdown",
      "metadata": {
        "id": "aME_L7bTGDDk"
      },
      "source": [
        "> ## **Exercícios:**\n",
        "---\n",
        "---"
      ]
    },
    {
      "cell_type": "markdown",
      "metadata": {
        "id": "006tIQkf5NIH"
      },
      "source": [
        "> ### `1.` Criar um programa para calcular e mostrar o comprimento e a área de uma circunferência e o volume de uma esfera usando as fórmulas abaixo. Cada cálculo deve ser feito por uma função (3 funções). O main deve ler o raio, chamar as funções e mostrar os resultados no final.\n",
        "+ ### comp = 2 . PI . raio\n",
        "+ ### area = PI . raio²\n",
        "+ ### vol = 4 . PI. raio³ / 3\n",
        "Onde PI = 3.14"
      ]
    },
    {
      "cell_type": "code",
      "source": [
        "PI = 3.14\n",
        "\n",
        "def comp_circ(r):\n",
        "    comprimento = 2 * PI * r  \n",
        "    return comprimento\n",
        "\n",
        "def area_circ(r):\n",
        "    area = PI * r**2\n",
        "    return area\n",
        "\n",
        "def vol_esfera(r):\n",
        "    volume = (4 * PI * r**3) / 3\n",
        "    return volume\n",
        "\n",
        "def main():  # Programa principal\n",
        "    raio = float(input('Raio (m): '))\n",
        "\n",
        "    cc = comp_circ(raio)\n",
        "    ac = area_circ(raio)\n",
        "    ve = vol_esfera(raio)\n",
        "    \n",
        "    print(f'\\nDe acordo com o raio {raio}m passado...')\n",
        "    print(f'Comprimento do círculo: {cc:.2f}m\\nArea do círculo: {ac:.2f}m²\\nVolume da esfera: {ve:.2f}m³')\n",
        "\n",
        "main()"
      ],
      "metadata": {
        "id": "O3FRlNQ2moSi",
        "colab": {
          "base_uri": "https://localhost:8080/"
        },
        "outputId": "675b3e32-c1cc-4dc4-da1f-3fb865be05c1"
      },
      "execution_count": null,
      "outputs": [
        {
          "output_type": "stream",
          "name": "stdout",
          "text": [
            "Raio (m): 5\n",
            "\n",
            "De acordo com o raio 5.0m passado...\n",
            "Comprimento do círculo: 31.40m\n",
            "Area do círculo: 78.50m²\n",
            "Volume da esfera: 523.33m³\n"
          ]
        }
      ]
    },
    {
      "cell_type": "markdown",
      "metadata": {
        "id": "_mfn9Td4CoiI"
      },
      "source": [
        "> ### `2.` Através do exercício anterior, crie apenas uma função para calcular e retornar os 3 cálculos. O restante permanece igual."
      ]
    },
    {
      "cell_type": "code",
      "source": [
        "PI = 3.14\n",
        "\n",
        "def calc_circ(r):\n",
        "    cav = {\n",
        "        'comprimento': 2 * PI * r,\n",
        "        'area': PI * r**2,\n",
        "        'volume': (4 * PI * r**3) / 3\n",
        "    } \n",
        "    return cav\n",
        "\n",
        "def main():  # Programa principal\n",
        "    raio = float(input('Raio (m): '))\n",
        "\n",
        "    calculos = calc_circ(raio)\n",
        "    comprimento = calculos['comprimento']\n",
        "    area = calculos['area']\n",
        "    volume = calculos['volume']\n",
        "\n",
        "    \n",
        "    print(f'\\nDe acordo com o raio {raio}m passado...')\n",
        "    print(f'Comprimento do círculo: {comprimento:.2f}m\\nArea do círculo: {area:.2f}m²\\nVolume da esfera: {volume:.2f}m³')\n",
        "main()"
      ],
      "metadata": {
        "colab": {
          "base_uri": "https://localhost:8080/"
        },
        "id": "LKlxYDKWbkZf",
        "outputId": "dec253c6-4354-4555-fe6a-a999f5fe3f41"
      },
      "execution_count": null,
      "outputs": [
        {
          "output_type": "stream",
          "name": "stdout",
          "text": [
            "Raio (m): 1\n",
            "\n",
            "De acordo com o raio 1.0m passado...\n",
            "Comprimento do círculo: 6.28m\n",
            "Area do círculo: 3.14m²\n",
            "Volume da esfera: 4.19m³\n"
          ]
        }
      ]
    },
    {
      "cell_type": "markdown",
      "metadata": {
        "id": "mka1QE8HEpx3"
      },
      "source": [
        "> ### `3.` Criar uma função para calcular e retornar o **Arranjo** e a **Combinação** de `n`, `m` a `m`, onde `n` e `m` são parâmetros (inteiros) da função. No programa principal, `n` e `m` são fornecidos pelo usuário, a função é chamada e os resultados são mostrados. Use as fórmulas abaixo para realizar os cálculos:\n",
        "+ ### A = n! / (n - m)!\n",
        "+ ### C = n! / (m! . (n - m)!)"
      ]
    },
    {
      "cell_type": "code",
      "source": [
        "def fat(x):\n",
        "    fatorial = 1\n",
        "    for i in range(1, x+1):\n",
        "        fatorial *= i\n",
        "    \n",
        "    return fatorial\n",
        "\n",
        "def arranjo(m, n):\n",
        "    return fat(n) / fat(n-m)\n",
        "\n",
        "def combinacao(m, n):\n",
        "    return fat(n) / (fat(m) * fat(n-m))\n",
        "\n",
        "def main():\n",
        "    n = int(input('N: '))\n",
        "    m = int(input('M: '))\n",
        "\n",
        "    a = arranjo(m, n)\n",
        "    c = combinacao(m, n)\n",
        "\n",
        "    print(f'Arranjo: {a} \\nCombinação: {c}')\n",
        "\n",
        "main()"
      ],
      "metadata": {
        "id": "FRA8dANm8g0s",
        "colab": {
          "base_uri": "https://localhost:8080/"
        },
        "outputId": "d44347d7-3c52-4776-a477-4675bd0929e7"
      },
      "execution_count": null,
      "outputs": [
        {
          "output_type": "stream",
          "name": "stdout",
          "text": [
            "N: 5\n",
            "M: 3\n",
            "Arranjo: 60.0 \n",
            "Combinação: 10.0\n"
          ]
        }
      ]
    },
    {
      "cell_type": "markdown",
      "metadata": {
        "id": "8QE9RiKQLlKS"
      },
      "source": [
        "\n",
        "> ### `4.` Criar um programa com uma função para mostrar os `n` primeiros termos da sequência de Fibonacci (`n` é um parâmetro), onde `n` deve ser fornecido pelo usuário no início do programa principal antes de chamar a função. Os termos da sequência devem ser mostrados pela função.\n",
        "### Exemplo:\n",
        "    fibonacci(10)\n",
        "### Na tela será mostrado:\n",
        "    1 1 2 3 5 8 13 21 34 55"
      ]
    },
    {
      "cell_type": "code",
      "source": [
        "def fibonacci(n):\n",
        "    print(f'\\n{n} Primeiros termos de Fibonacci: ', end='')\n",
        "    seq = [0, 1]\n",
        "    for i in range(0, n):\n",
        "        print(seq[-1], end=' ')\n",
        "        x = seq[-1] + seq[-2]\n",
        "        seq.append(x)\n",
        "\n",
        "def main():\n",
        "    n = int(input('Número de termos: '))\n",
        "    fibonacci(n)\n",
        "\n",
        "main()"
      ],
      "metadata": {
        "colab": {
          "base_uri": "https://localhost:8080/"
        },
        "id": "dPOCH_Xsl_ce",
        "outputId": "0d3b6768-8415-4dfa-d2c6-d0ae0dd06c6b"
      },
      "execution_count": null,
      "outputs": [
        {
          "output_type": "stream",
          "name": "stdout",
          "text": [
            "Número de termos: 10\n",
            "\n",
            "10 Primeiros termos de Fibonacci: 1 1 2 3 5 8 13 21 34 55 "
          ]
        }
      ]
    },
    {
      "cell_type": "markdown",
      "metadata": {
        "id": "0mie7boTM9TU"
      },
      "source": [
        "> ### `Extra`: modificar a função para retornar uma lista com os `n` primeiros termos da sequência de Fibonacci. O programa principal lê o valor de `n`, chama a função e mostra a lista retornada."
      ]
    },
    {
      "cell_type": "code",
      "source": [
        "def fibonacci(n):\n",
        "    seq = [0, 1]\n",
        "    for i in range(1, n):\n",
        "        x = seq[-1] + seq[-2]\n",
        "        seq.append(x)\n",
        "    seq.pop(0)\n",
        "    return seq\n",
        "\n",
        "def main():\n",
        "    n = int(input('Número de termos: '))\n",
        "    sequencia = fibonacci(n)\n",
        "    print(sequencia)\n",
        "\n",
        "main()"
      ],
      "metadata": {
        "colab": {
          "base_uri": "https://localhost:8080/"
        },
        "id": "pYWDCfDRrjnA",
        "outputId": "2f98c609-d844-46a8-e9f2-11d5438aa471"
      },
      "execution_count": null,
      "outputs": [
        {
          "output_type": "stream",
          "name": "stdout",
          "text": [
            "Número de termos: 3\n",
            "[1, 1, 2]\n"
          ]
        }
      ]
    },
    {
      "cell_type": "code",
      "source": [
        "# Programas do professor (ex 2 e 3):\n",
        "def fibonacci_printando(pn):\n",
        "    print(f'\\n{pn} termos da sequência de Fibonacci: ', end='')\n",
        "    a, b = 0, 1\n",
        "    for i in range(pn):\n",
        "        print(b, end=' ')\n",
        "        a, b = b, a + b\n",
        "\n",
        "def fibonacci_retorno(pn):\n",
        "    fib = []\n",
        "    a, b = 0, 1\n",
        "    for i in range(pn):\n",
        "        fib.append(b)\n",
        "        a, b = b, a + b\n",
        "    return fib\n",
        "\n",
        "n = 5\n",
        "fibonacci_printando(n)\n",
        "print()\n",
        "print(fibonacci_retorno(n))"
      ],
      "metadata": {
        "colab": {
          "base_uri": "https://localhost:8080/"
        },
        "id": "S6xqz8Jgszh0",
        "outputId": "d4e1819d-9fe6-4cbd-bb70-132583729b17"
      },
      "execution_count": null,
      "outputs": [
        {
          "output_type": "stream",
          "name": "stdout",
          "text": [
            "\n",
            "5 termos da sequência de Fibonacci: 1 1 2 3 5 \n",
            "[1, 1, 2, 3, 5]\n"
          ]
        }
      ]
    },
    {
      "cell_type": "markdown",
      "metadata": {
        "id": "h5dB6UVOBlL5"
      },
      "source": [
        "> ### `5.` Criar uma função para receber uma lista com valores inteiros como parâmetro, separar e retornar esses valores em duas listas com os pares e os ímpares. O programa principal deve gerar uma lista com 30 valores aleatórios entre 1 e 100, chamar a função passando a lista como parâmetro, receber os resultados e mostrar as 3 listas no final."
      ]
    },
    {
      "cell_type": "code",
      "source": [
        "from random import randint\n",
        "\n",
        "def par_impar(lista):\n",
        "    pares, impares = [], []\n",
        "    for i in lista:\n",
        "        pares.append(i) if i % 2 == 0 else impares.append(i)\n",
        "        # if i % 2 == 0:\n",
        "        #     pares.append(i)\n",
        "        # else:\n",
        "        #     impares.append(i)\n",
        "    \n",
        "    return pares, impares\n",
        "\n",
        "def main():\n",
        "    lis = [randint(1, 100) for i in range(30)]\n",
        "    par, impar = par_impar(lis)\n",
        "    \n",
        "    print(f'Lista original: {lis} \\nLista de pares: {par} \\nLista de ímpares: {impar}')\n",
        "\n",
        "main()"
      ],
      "metadata": {
        "id": "j4j7GWUBwOxD",
        "colab": {
          "base_uri": "https://localhost:8080/"
        },
        "outputId": "4a0e64d9-d4b7-4381-face-604d99d6bb98"
      },
      "execution_count": null,
      "outputs": [
        {
          "output_type": "stream",
          "name": "stdout",
          "text": [
            "Lista original: [36, 25, 69, 28, 92, 67, 80, 71, 38, 100, 7, 20, 35, 90, 75, 16, 23, 70, 65, 25, 44, 27, 85, 26, 16, 15, 42, 56, 44, 19] \n",
            "Lista de pares: [36, 28, 92, 80, 38, 100, 20, 90, 16, 70, 44, 26, 16, 42, 56, 44] \n",
            "Lista de ímpares: [25, 69, 67, 71, 7, 35, 75, 23, 65, 25, 27, 85, 15, 19]\n"
          ]
        }
      ]
    },
    {
      "cell_type": "markdown",
      "metadata": {
        "id": "ZM63TMzlEDY9"
      },
      "source": [
        "> ### `6.` Criar um programa com uma função que recebe uma lista com valores inteiros e um valor `x` inteiro qualquer (2 parâmetros). A função deve procurar pelo valor `x` dentro da lista e retornar a posição (índice) da primeira ocorrência. Caso não encontre, retorna `-1`. O programa principal deve gerar uma lista com 20 valores inteiros aleatórios entre 1 e 100, ler um valor inteiro qualquer (usuário fornece) e, após a leitura, mostrar a lista, chamar a função passando a lista e o valor inteiro (`x`) como parâmetros e mostrar o resultado da busca no final (posição)."
      ]
    },
    {
      "cell_type": "code",
      "source": [
        "from random import randint\n",
        "\n",
        "def busca(lista, x):\n",
        "    for i in range(len(lista)):\n",
        "        if lista[i] == x:\n",
        "            return i\n",
        "    return -1\n",
        "\n",
        "def main():\n",
        "    lis = [randint(1, 100) for _ in range(20)]\n",
        "    print(f'Lista: {lis}')\n",
        "\n",
        "    x = int(input('Digite um valor para procurar na lista: '))\n",
        "    \n",
        "    resultado = busca(lis, x)\n",
        "    print(f'Resultado: {resultado}')\n",
        "\n",
        "main()"
      ],
      "metadata": {
        "id": "DEUUn7E59NF9",
        "colab": {
          "base_uri": "https://localhost:8080/"
        },
        "outputId": "27761a13-f9a3-494f-ec5b-a9fdec24e415"
      },
      "execution_count": null,
      "outputs": [
        {
          "output_type": "stream",
          "name": "stdout",
          "text": [
            "Lista: [52, 12, 87, 59, 95, 97, 89, 10, 98, 18, 13, 19, 29, 95, 92, 96, 87, 85, 41, 3]\n",
            "Digite um valor para procurar na lista: 59\n",
            "Resultado: 3\n"
          ]
        }
      ]
    },
    {
      "cell_type": "markdown",
      "metadata": {
        "id": "nLnqQ9quEGKa"
      },
      "source": [
        "> ### `7.` Criar um programa com uma função que recebe uma lista com valores inteiros como parâmetro, calcula e retorna:\n",
        "+ ### O menor e o maior valor da lista.\n",
        "+ ### A média aritmética dos valores da lista.\n",
        "+ ### A qtde de valores negativos.\n",
        "+ ### A diferença do maior valor par com o menor valor ímpar (maior par menos menor ímpar).\n",
        "\n",
        "> ### O programa principal deve gerar uma lista com 20 valores inteiros aleatórios entre -50 e 50, chamar a função passando a lista como parâmetro e mostrar os resultados no final."
      ]
    },
    {
      "cell_type": "code",
      "source": [
        "from random import randint\n",
        "\n",
        "def analisa_lista(lista):\n",
        "    # Menor e maior valor\n",
        "    me_ma = {'menor': min(lista),\n",
        "             'maior': max(lista)}\n",
        "    \n",
        "    # Média aritmética\n",
        "    media = sum(lista) / len(lista)\n",
        "\n",
        "    # Qtd de negativos\n",
        "    qtd_negat = len([i for i in lista if i < 0])\n",
        "\n",
        "    # Maior par - menor ímpar\n",
        "    impar, par = [], []\n",
        "    for i in lista:\n",
        "        par.append(i) if i % 2 == 0 else impar.append(i)\n",
        "    result = max(par) - min(impar)\n",
        "    # Fazendo em uma linha:\n",
        "    # result = max([v for v in lista if v % 2 == 0]) - min([v for v in lista if v % 2 != 0])\n",
        "\n",
        "    return me_ma, media, qtd_negat, result\n",
        "\n",
        "def main():\n",
        "    minha_lista = [randint(-50, 50) for i in range(20)]\n",
        "    print(f'Lista Ordenada: {sorted(minha_lista)}')  # Usamos o sorted para não alterar a lista original. Assim, a lista que será passada à função estará como foi criada\n",
        "\n",
        "    me_ma, media, qtd_negat, result = analisa_lista(minha_lista)\n",
        "\n",
        "    print(f\"Menor valor da lista: {me_ma['menor']} \\n\",\n",
        "          f\"Maior valor da lista: {me_ma['maior']} \\n\",\n",
        "          f'Média aritmética entre os valores: {media} \\n',\n",
        "          f'Quantidade de valores negativos: {qtd_negat} \\n',\n",
        "          f'Maior par - Menor ímpar: {result} \\n')\n",
        "\n",
        "main()"
      ],
      "metadata": {
        "id": "CJOa7ul2kTac",
        "colab": {
          "base_uri": "https://localhost:8080/"
        },
        "outputId": "8069f6bd-447e-474f-c5f1-6bff6b9f3ea3"
      },
      "execution_count": null,
      "outputs": [
        {
          "output_type": "stream",
          "name": "stdout",
          "text": [
            "Lista Ordenada: [-41, -20, -6, 0, 0, 6, 10, 11, 12, 14, 14, 14, 16, 17, 18, 21, 26, 33, 46, 48]\n",
            "Menor valor da lista: -41 \n",
            " Maior valor da lista: 48 \n",
            " Média aritmética entre os valores: 11.95 \n",
            " Quantidade de valores negativos: 3 \n",
            " Maior par - Menor ímpar: 89 \n",
            "\n"
          ]
        }
      ]
    },
    {
      "cell_type": "markdown",
      "metadata": {
        "id": "l1oxVo-QLnah"
      },
      "source": [
        "> ### `8.` Criar uma função para gerar e retornar uma cartela de bingo com 25 valores aleatórios (matriz 5x5), seguindo as regras abaixo. O programa principal chama a função e mostra a cartela gerada e retornada.\n",
        "### Regras:\n",
        "+ ### 5 linhas e 5 colunas.\n",
        "+ ### 1ª coluna de 0 a 19, 2ª coluna de 20 a 39 e, assim, até a 5ª coluna.\n",
        "+ ### Em ordem crescente para cada coluna.\n",
        "+ ### Não pode haver repetições.\n",
        ">### **Obs.**: use o módulo `numpy` para facilitar a criação da cartela."
      ]
    },
    {
      "cell_type": "code",
      "source": [
        "from random import sample\n",
        "\n",
        "def monta_cartela(linhas=5, colunas=5, salto=20):\n",
        "    print('Gerando cartela ...')\n",
        "\n",
        "    cartela = [[0] * colunas for i in range(linhas)]\n",
        "\n",
        "    for j in range(colunas):\n",
        "        col = sorted(sample(range(0 + salto*j , salto + salto*j), linhas))\n",
        "        for i in range(linhas):\n",
        "            cartela[i][j] = col[i]\n",
        "\n",
        "    return cartela\n",
        "\n",
        "def main():\n",
        "    minha_cartela = monta_cartela(8, 2, 40)\n",
        "    \n",
        "    print('\\nCartela gerada: ')\n",
        "    for i in minha_cartela:\n",
        "        print(i)\n",
        "\n",
        "main()"
      ],
      "metadata": {
        "id": "fGc11ou69V1n",
        "colab": {
          "base_uri": "https://localhost:8080/"
        },
        "outputId": "6c514d9e-da22-4e6b-f7fd-d313cf3bf814"
      },
      "execution_count": 20,
      "outputs": [
        {
          "output_type": "stream",
          "name": "stdout",
          "text": [
            "Gerando cartela ...\n",
            "\n",
            "Cartela gerada: \n",
            "[1, 43]\n",
            "[5, 50]\n",
            "[6, 61]\n",
            "[11, 62]\n",
            "[22, 68]\n",
            "[27, 73]\n",
            "[32, 76]\n",
            "[34, 77]\n"
          ]
        }
      ]
    },
    {
      "cell_type": "markdown",
      "metadata": {
        "id": "6-oPv_dYB_QC"
      },
      "source": [
        "> ## Passagem de parâmetros por `valor` e por `referência` (endereço de memória):\n",
        "---"
      ]
    },
    {
      "cell_type": "code",
      "source": [
        "# Para acessar uma variável "
      ],
      "metadata": {
        "id": "GpbL5bHpGmEt"
      },
      "execution_count": null,
      "outputs": []
    },
    {
      "cell_type": "code",
      "metadata": {
        "colab": {
          "base_uri": "https://localhost:8080/"
        },
        "id": "t2hzrj_oCUmD",
        "outputId": "e57c7543-58e7-431c-e96d-69c75143d0fa"
      },
      "source": [
        "def fx(pa, pb):\n",
        "    pa[0] = 99999 # pa faz referência à variável 'a' global.\n",
        "    pb = 20 # pb recebe um novo endereço (Não faz referência a 'b' global).\n",
        "    print(f'Endereço de pa: {id(pa)}')\n",
        "    print(f'Endereço de pb: {id(pb)}')\n",
        "    print(f'Valor de pb: {pb}')\n",
        "\n",
        "a = [x for x in range(10)]\n",
        "b = 10\n",
        "print(f'Endereço de a: {id(a)}')\n",
        "print(f'Endereço de b: {id(b)}')\n",
        "print(f'Valor de a e b antes: {a}  -  {b}') # o valor de b não foi trocado\n",
        "fx(a, b)\n",
        "print(f'Valor de a e b depois: {a}  -  {b}') # ao mostrar a lista, o primeiro valor foi trocado"
      ],
      "execution_count": null,
      "outputs": [
        {
          "output_type": "stream",
          "name": "stdout",
          "text": [
            "Endereço de a: 139798613680288\n",
            "Endereço de b: 11126976\n",
            "Valor de a e b antes: [0, 1, 2, 3, 4, 5, 6, 7, 8, 9]  -  10\n",
            "Endereço de pa: 139798613680288\n",
            "Endereço de pb: 11127296\n",
            "Valor de pb: 20\n",
            "Valor de a e b depois: [99999, 1, 2, 3, 4, 5, 6, 7, 8, 9]  -  10\n"
          ]
        }
      ]
    },
    {
      "cell_type": "markdown",
      "source": [
        "> ### Correção da Avaliação A2 - Parte II\n",
        "---"
      ],
      "metadata": {
        "id": "fTYNDTvEt7cE"
      }
    },
    {
      "cell_type": "code",
      "source": [
        "from random import randint\n",
        "\n",
        "lis = [randint(1, 9) * 10 for _ in range(20)]\n",
        "lis.sort()\n",
        "print(lis)\n",
        "pme = lis.count(min(lis)) / len(lis) * 100\n",
        "pma = lis.count(max(lis)) / len(lis) * 100\n",
        "print(f'% do menor = {pme}% e % do maior = {pma}%')\n",
        "flag = False\n",
        "for i in range(len(lis) - 2):\n",
        "    if lis[i] == 10 and lis[i + 1] == 20 and lis[i + 2] == 30:\n",
        "        flag = True\n",
        "        break\n",
        "print('SIM') if flag else print('NÃO')\n",
        "print('Valores e quantidades (*):')\n",
        "qtd = [lis.count(v) for v in lis]\n",
        "for q in sorted(set(qtd), reverse=True):\n",
        "    for v in sorted(set(lis)):\n",
        "        if lis.count(v) == q:\n",
        "            print(f'{v}: {\"*\" * q}')"
      ],
      "metadata": {
        "colab": {
          "base_uri": "https://localhost:8080/"
        },
        "id": "Uht6ZhXLuFhb",
        "outputId": "fe7ae61a-fde1-4608-8416-64bb1ce81cea"
      },
      "execution_count": null,
      "outputs": [
        {
          "output_type": "stream",
          "name": "stdout",
          "text": [
            "[10, 10, 20, 20, 20, 20, 20, 30, 30, 40, 40, 50, 50, 60, 60, 60, 70, 90, 90, 90]\n",
            "% do menor = 10.0% e % do maior = 15.0%\n",
            "NÃO\n",
            "Valores e quantidades (*):\n",
            "20: *****\n",
            "60: ***\n",
            "90: ***\n",
            "10: **\n",
            "30: **\n",
            "40: **\n",
            "50: **\n",
            "70: *\n"
          ]
        }
      ]
    },
    {
      "cell_type": "markdown",
      "metadata": {
        "id": "hUndCrNxKabC"
      },
      "source": [
        "> ## Funções `lambda`: funções declaradas em uma única linha e usadas para cálculos básicos (única expressão).\n",
        "---"
      ]
    },
    {
      "cell_type": "markdown",
      "metadata": {
        "id": "GCLxN9tGKlJa"
      },
      "source": [
        "> ### `Exemplo 1`:"
      ]
    },
    {
      "cell_type": "code",
      "metadata": {
        "colab": {
          "base_uri": "https://localhost:8080/"
        },
        "id": "eBBtmIg-KZ-X",
        "outputId": "4750b7f6-9fa3-4775-da8c-b237ff0518c6"
      },
      "source": [
        "cubo = lambda x: x ** 3  # nome_funcao = lambda parametro1, parametro2: cálculo\n",
        "# Chamada normal, como qualquer outra função: nome_funcao(parametros)\n",
        "# Ou, onde precisamos colocar uma função, colocar o lambda direto\n",
        "\n",
        "v = float(input('Valor numérico: '))\n",
        "c = cubo(v)\n",
        "print(f'\\n{v} ao cubo igual a {c}')"
      ],
      "execution_count": null,
      "outputs": [
        {
          "output_type": "stream",
          "name": "stdout",
          "text": [
            "Valor numérico: 2\n",
            "\n",
            "2.0 ao cubo igual a 8.0\n"
          ]
        }
      ]
    },
    {
      "cell_type": "markdown",
      "metadata": {
        "id": "ht-pS69tK3d3"
      },
      "source": [
        "> ### `Exemplo 2`:"
      ]
    },
    {
      "cell_type": "code",
      "metadata": {
        "colab": {
          "base_uri": "https://localhost:8080/"
        },
        "id": "Vz1xXHElK_TC",
        "outputId": "20e35db0-dd2b-410c-81c5-61b64d6412c8"
      },
      "source": [
        "from math import sqrt\n",
        "\n",
        "hip = lambda ca, cb: sqrt(ca ** 2 + cb ** 2)\n",
        "\n",
        "a = float(input('Cateto A: '))\n",
        "b = float(input('\\nCateto B: '))\n",
        "h = hip(a, b)\n",
        "print(f'\\nHipotenusa com catetos {a} e {b} = {h}')"
      ],
      "execution_count": null,
      "outputs": [
        {
          "output_type": "stream",
          "name": "stdout",
          "text": [
            "Cateto A: 3\n",
            "\n",
            "Cateto B: 4\n",
            "\n",
            "Hipotenusa com catetos 3.0 e 4.0 = 5.0\n"
          ]
        }
      ]
    },
    {
      "cell_type": "markdown",
      "metadata": {
        "id": "zNQ5txM6LQi5"
      },
      "source": [
        "> ### `Exemplo 3`:"
      ]
    },
    {
      "cell_type": "code",
      "metadata": {
        "colab": {
          "base_uri": "https://localhost:8080/"
        },
        "id": "ONyqPEH1LX5N",
        "outputId": "1723dfdc-82ce-49e9-ea46-fd0201d2f8dd"
      },
      "source": [
        "from random import randint\n",
        "\n",
        "lista = [randint(1, 100) for i in range(10)]\n",
        "print(f'Lista original: {lista}')\n",
        "\n",
        "pares = [v for v in lista if v % 2 == 0]\n",
        "print(f'\\nLista dos pares: {pares}')\n",
        "\n",
        "impares = list(filter(lambda x: x % 2 != 0, lista))\n",
        "print(f'\\nLista dos ímpares: {impares}')"
      ],
      "execution_count": null,
      "outputs": [
        {
          "output_type": "stream",
          "name": "stdout",
          "text": [
            "Lista original: [75, 47, 13, 14, 99, 55, 55, 66, 23, 26]\n",
            "\n",
            "Lista dos pares: [14, 66, 26]\n",
            "\n",
            "Lista dos ímpares: [75, 47, 13, 99, 55, 55, 23]\n"
          ]
        }
      ]
    },
    {
      "cell_type": "markdown",
      "metadata": {
        "id": "Gwb1kxwSMBzh"
      },
      "source": [
        "> ### `Exemplo 4`:"
      ]
    },
    {
      "cell_type": "code",
      "metadata": {
        "colab": {
          "base_uri": "https://localhost:8080/"
        },
        "id": "DjzpXhbGMJsZ",
        "outputId": "e7a78f8a-75fc-40f8-cc19-d1edb553d6ec"
      },
      "source": [
        "from random import randint\n",
        "\n",
        "lista = [[randint(1, 10) for j in range(2)] for i in range(5)]\n",
        "print(f'\\nLista original: {lista}')\n",
        "ord = sorted(lista, key=lambda x: x[1]) # o 2º valor será usado como chave\n",
        "print(f'\\nLista original ordenada pelo 2º valor: {ord}')"
      ],
      "execution_count": null,
      "outputs": [
        {
          "output_type": "stream",
          "name": "stdout",
          "text": [
            "\n",
            "Lista original: [[6, 3], [6, 5], [7, 10], [2, 3], [3, 2]]\n",
            "\n",
            "Lista original ordenada pelo 2º valor: [[3, 2], [6, 3], [2, 3], [6, 5], [7, 10]]\n"
          ]
        }
      ]
    },
    {
      "cell_type": "code",
      "source": [
        "lista = [0, 1, 2, 3]\n",
        "lista"
      ],
      "metadata": {
        "id": "LJ-gp-s5AXrn",
        "colab": {
          "base_uri": "https://localhost:8080/"
        },
        "outputId": "6dee52f0-b78b-421c-a1d5-441f77b6e453"
      },
      "execution_count": null,
      "outputs": [
        {
          "output_type": "execute_result",
          "data": {
            "text/plain": [
              "[0, 1, 2, 3]"
            ]
          },
          "metadata": {},
          "execution_count": 2
        }
      ]
    },
    {
      "cell_type": "code",
      "source": [
        "list(map(lambda x: x*2, lista))"
      ],
      "metadata": {
        "colab": {
          "base_uri": "https://localhost:8080/"
        },
        "id": "fn0bkJcl9yeP",
        "outputId": "d4d741c4-de5e-4282-f2cd-d305b490b24b"
      },
      "execution_count": null,
      "outputs": [
        {
          "output_type": "execute_result",
          "data": {
            "text/plain": [
              "[0, 2, 4, 6]"
            ]
          },
          "metadata": {},
          "execution_count": 3
        }
      ]
    },
    {
      "cell_type": "code",
      "source": [
        "list(map(int, input().split()))"
      ],
      "metadata": {
        "colab": {
          "base_uri": "https://localhost:8080/"
        },
        "id": "g82Xgdna_Nqc",
        "outputId": "d676a7a1-b0fe-48d0-dc86-0e71d4e1c4c9"
      },
      "execution_count": null,
      "outputs": [
        {
          "name": "stdout",
          "output_type": "stream",
          "text": [
            "50 20 11 55\n"
          ]
        },
        {
          "output_type": "execute_result",
          "data": {
            "text/plain": [
              "[50, 20, 11, 55]"
            ]
          },
          "metadata": {},
          "execution_count": 4
        }
      ]
    },
    {
      "cell_type": "markdown",
      "source": [
        "> # Meus testes"
      ],
      "metadata": {
        "id": "AYfNtrh_6WnX"
      }
    },
    {
      "cell_type": "code",
      "source": [
        "Lista = [1, 5, 6, 9]\n",
        "Lista.pop(1)"
      ],
      "metadata": {
        "colab": {
          "base_uri": "https://localhost:8080/"
        },
        "id": "OGx0W-dVbAVt",
        "outputId": "c702d429-a2c5-406f-deb6-a4d169e6a46b"
      },
      "execution_count": null,
      "outputs": [
        {
          "output_type": "execute_result",
          "data": {
            "text/plain": [
              "5"
            ]
          },
          "metadata": {},
          "execution_count": 1
        }
      ]
    },
    {
      "cell_type": "code",
      "source": [
        "Lista.extend([5, 9, 0])"
      ],
      "metadata": {
        "id": "f8h3A8PFbK9F"
      },
      "execution_count": null,
      "outputs": []
    },
    {
      "cell_type": "code",
      "source": [
        "Lista"
      ],
      "metadata": {
        "id": "GExZga7kbS5d",
        "outputId": "44af84c2-cdcb-4b1d-e1d3-71cc0abb3f05",
        "colab": {
          "base_uri": "https://localhost:8080/"
        }
      },
      "execution_count": null,
      "outputs": [
        {
          "output_type": "execute_result",
          "data": {
            "text/plain": [
              "[1, 6, 9, 5, 9, 0]"
            ]
          },
          "metadata": {},
          "execution_count": 3
        }
      ]
    }
  ]
}