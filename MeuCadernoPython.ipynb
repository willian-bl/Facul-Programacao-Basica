{
  "nbformat": 4,
  "nbformat_minor": 0,
  "metadata": {
    "colab": {
      "provenance": []
    },
    "kernelspec": {
      "name": "python3",
      "display_name": "Python 3"
    },
    "language_info": {
      "name": "python"
    }
  },
  "cells": [
    {
      "cell_type": "markdown",
      "source": [
        "> # **`Programação de Computadores`**\n",
        "> ###  **Ciência da Computação - 1º semestre**\n",
        "---\n",
        "--- "
      ],
      "metadata": {
        "id": "-quer1zIpkN3"
      }
    },
    {
      "cell_type": "markdown",
      "source": [
        "### Meu Notebook Google Colab de Programação de Computadores\n",
        "*Notebook com os fundamentos básicos da programação e da lógica de programação*\n",
        "+ ### CIÊNCIA DA COMPUTAÇÃO\n",
        "+ ### UNIFRAN - 1º Semestre (2022)\n",
        "+ ### Profº Fabiano Magrin\n",
        "+ ### Aluno: `Willian Brito de Lima`\n",
        "\n",
        "\n"
      ],
      "metadata": {
        "id": "M41tWgCY34vD"
      }
    },
    {
      "cell_type": "markdown",
      "metadata": {
        "id": "LEcXUzwF8SoZ"
      },
      "source": [
        "> # **Estrutura Lógica Sequencial**\n",
        "---\n",
        "---"
      ]
    },
    {
      "cell_type": "markdown",
      "metadata": {
        "id": "P_ZToqCH81Ps"
      },
      "source": [
        "> ## **Variável**: armazena dados (memória do computador).\n",
        "\n",
        "- ### Nomes (identificadores) para variáveis:\n",
        "    - ### Início com `letra` (maiúscula ou minúscula) ou `_`, seguido ou não de `letras`, `dígitos` ou `_`.\n",
        "    - ### Exemplos:\n",
        "        - ### `a`, `A`, `a123`, `area`, `nome_cliente`, `_contador`, `EnderecoCliente` ..."
      ]
    },
    {
      "cell_type": "markdown",
      "metadata": {
        "id": "pzQ8Gjo2ZE2r"
      },
      "source": [
        "> ## **Algoritmo**: sequência finita de passos que soluciona um determinado problema.\n",
        "\n",
        "- ### Mais informações sobre algoritmos, consulte o livro: Fundamentos da Programação de Computadores (Ascêncio, Ana; Campos, Edilene)."
      ]
    },
    {
      "cell_type": "markdown",
      "metadata": {
        "id": "56eHO996FFHc"
      },
      "source": [
        "> ### **Exemplo**: cálculo da área de um retângulo.\n",
        "\n",
        "- #### area = lado1 . lado2\n",
        "\n",
        "\n",
        "    Algoritmo Area_Retangulo\n",
        "    Declare area, lado1, lado2: numérico\n",
        "    início\n",
        "        leia lado1, lado2\n",
        "        area = lado1 * lado2\n",
        "        escreva area\n",
        "    fim"
      ]
    },
    {
      "cell_type": "code",
      "source": [
        "# Programa para calcular a área de um retângulo\n",
        "\n",
        "lado1 = float(input('Lado 1 (m): '))\n",
        "lado2 = float(input('\\nLado 2 (m): '))\n",
        "area = lado1 * lado2\n",
        "print(f'\\nÁrea do retângulo = {lado1:.3f} x {lado2:.3f} = {area:.3f} m²')"
      ],
      "metadata": {
        "colab": {
          "base_uri": "https://localhost:8080/"
        },
        "id": "pRW35Wh6_ECr",
        "outputId": "31232bcc-0978-4897-97a2-12333f64b1ba"
      },
      "execution_count": null,
      "outputs": [
        {
          "output_type": "stream",
          "name": "stdout",
          "text": [
            "Lado 1 (m): 5\n",
            "\n",
            "Lado 2 (m): 10\n",
            "\n",
            "Área do retângulo = 5.000 x 10.000 = 50.000 m²\n"
          ]
        }
      ]
    },
    {
      "cell_type": "markdown",
      "metadata": {
        "id": "y9CaAz3N7kxC"
      },
      "source": [
        "> ## **Operadores matemáticos:**\n",
        "---\n",
        "\n",
        "- ## `+` : soma.\n",
        "- ## `-` : subtração.\n",
        "- ## `*` : multiplicação (produto).\n",
        "- ## `/` : divisão.\n",
        "- ## `**` : potência.\n",
        "- ## `//` : quociente da divisão entre 2 números.\n",
        "- ## `%` : resto da divisão entre 2 números."
      ]
    },
    {
      "cell_type": "code",
      "metadata": {
        "colab": {
          "base_uri": "https://localhost:8080/"
        },
        "id": "nMt32jZG9KKX",
        "outputId": "8f2d5f35-3885-46ac-80a5-bc1517a2d28f"
      },
      "source": [
        "# Exemplo de cálculos com os operadores matemáticos\n",
        "\n",
        "print('Soma =', 5 + 3)\n",
        "print('Subtração =', 10 - 8)\n",
        "print('Multiplicação =', 6 * 7)\n",
        "print('Divisão =', 9 / 2)\n",
        "print('Potência =', 2 ** 10)\n",
        "print('Quociente =', 5 // 2)\n",
        "print('Resto =', 5 % 2)"
      ],
      "execution_count": null,
      "outputs": [
        {
          "output_type": "stream",
          "name": "stdout",
          "text": [
            "Soma = 8\n",
            "Subtração = 2\n",
            "Multiplicação = 42\n",
            "Divisão = 4.5\n",
            "Potência = 1024\n",
            "Quociente = 2\n",
            "Resto = 1\n"
          ]
        }
      ]
    },
    {
      "cell_type": "markdown",
      "metadata": {
        "id": "cHxLnkWtSn4l"
      },
      "source": [
        "> ## **Exercícios:**\n",
        "---\n",
        "---"
      ]
    },
    {
      "cell_type": "markdown",
      "metadata": {
        "id": "6oxImPP2S-Nn"
      },
      "source": [
        "> ### `1.` Crie um programa para ler `3 notas` (0 a 10) e, após as leituras, calcular e mostrar a média aritmética das notas."
      ]
    },
    {
      "cell_type": "code",
      "source": [
        "n1 = float(input('Nota 1 (0 a 10): '))\n",
        "n2 = float(input('\\nNota 2 (0 a 10): '))\n",
        "n3 = float(input('\\nNota 3 (0 a 10): '))\n",
        "ma = (n1 + n2 + n3) / 3\n",
        "print(f'\\nMédia aritmética = {ma:.1f}')"
      ],
      "metadata": {
        "colab": {
          "base_uri": "https://localhost:8080/"
        },
        "id": "B7ZftZyPwfWs",
        "outputId": "da028772-f7d2-48c2-f373-3472471d7228"
      },
      "execution_count": null,
      "outputs": [
        {
          "output_type": "stream",
          "name": "stdout",
          "text": [
            "Nota 1 (0 a 10): 10\n",
            "\n",
            "Nota 2 (0 a 10): 8\n",
            "\n",
            "Nota 3 (0 a 10): 6\n",
            "\n",
            "Média aritmética = 8.0\n"
          ]
        }
      ]
    },
    {
      "cell_type": "markdown",
      "metadata": {
        "id": "qSt2fZRKTZl3"
      },
      "source": [
        "> ### `2.` Crie um programa para ler o `raio` (m) de um círculo e, após a leitura, calcular e mostrar:\n",
        "- ### comp = 2 . PI . raio\n",
        "- ### area = PI . raio²\n",
        "\n",
        "### **OBS.**: PI = 3.1415"
      ]
    },
    {
      "cell_type": "code",
      "source": [
        "r = float(input('Raio do círculo (m): '))\n",
        "c = 2 * 3.1415 * r\n",
        "a = 3.1415 * r ** 2\n",
        "print(f'\\nComprimento do círculo = {c:.4f} m')\n",
        "print(f'\\nÁrea do círculo = {a:.4f} m²')"
      ],
      "metadata": {
        "colab": {
          "base_uri": "https://localhost:8080/"
        },
        "id": "1qoShbKB_DEv",
        "outputId": "8a21b186-0ae2-4902-9cf3-1a660cf66675"
      },
      "execution_count": null,
      "outputs": [
        {
          "output_type": "stream",
          "name": "stdout",
          "text": [
            "Raio do círculo (m): 1\n",
            "\n",
            "Comprimento do círculo = 6.2830 m\n",
            "\n",
            "Área do círculo = 3.1415 m²\n"
          ]
        }
      ]
    },
    {
      "cell_type": "markdown",
      "metadata": {
        "id": "dkU3BYGwGxeA"
      },
      "source": [
        "> ### `Outra forma`: valor de PI do módulo (biblioteca) `math`."
      ]
    },
    {
      "cell_type": "code",
      "metadata": {
        "colab": {
          "base_uri": "https://localhost:8080/"
        },
        "id": "cII3_JlzJEEW",
        "outputId": "f083bcbb-07a2-4243-d84e-c0a2e455acec"
      },
      "source": [
        "# import math : importa todas as funções e constantes do módulo math\n",
        "from math import pi # importa apenas o pi\n",
        "\n",
        "r = float(input('Raio do círculo (m): '))\n",
        "c = 2 * pi * r\n",
        "a = pi * r ** 2\n",
        "print(f'\\nComprimento do círculo = {c:.4f} m')\n",
        "print(f'\\nÁrea do círculo = {a:.4f} m²')"
      ],
      "execution_count": null,
      "outputs": [
        {
          "output_type": "stream",
          "text": [
            "Raio do círculo (m): 2.5\n",
            "\n",
            "Comprimento do círculo = 15.7080 m\n",
            "\n",
            "Área do círculo = 19.6350 m²\n"
          ],
          "name": "stdout"
        }
      ]
    },
    {
      "cell_type": "markdown",
      "metadata": {
        "id": "liTTJu6KLgNT"
      },
      "source": [
        "> ### `3.` Crie um programa para ler o `preço` de um produto e, após a leitura, calcular e mostrar o valor do produto após um desconto de 7% e o valor do produto após um aumento de 5,5%."
      ]
    },
    {
      "cell_type": "code",
      "source": [
        "p = float(input('Preço do produto: R$ '))\n",
        "pd = p - 7 / 100 * p\n",
        "pa = p + 5.5 / 100 * p\n",
        "print(f'\\nPreço com desconto de 7% = R$ {pd:.2f}')\n",
        "print(f'\\nPreço com aumento de 5,5% = R$ {pa:.2f}')"
      ],
      "metadata": {
        "id": "ZVVofEriJ8Z2",
        "colab": {
          "base_uri": "https://localhost:8080/"
        },
        "outputId": "3072f48d-248f-4cbc-eaa7-afd9a844fe4f"
      },
      "execution_count": null,
      "outputs": [
        {
          "output_type": "stream",
          "name": "stdout",
          "text": [
            "Preço do produto: R$ 100\n",
            "\n",
            "Preço com desconto de 7% = R$ 93.00\n",
            "\n",
            "Preço com aumento de 5,5% = R$ 105.50\n"
          ]
        }
      ]
    },
    {
      "cell_type": "markdown",
      "metadata": {
        "id": "6K2BApfIN3Va"
      },
      "source": [
        "> ### `4.` Crie um programa para calcular e mostrar a média ponderada entre 2 notas. As `notas` e seus respectivos `pesos` devem ser fornecidos pelo usuário no início do programa.\n",
        "### Fórmula:\n",
        "### $mp = {n1.p1 + n2.p2 \\over p1+p2}$"
      ]
    },
    {
      "cell_type": "code",
      "source": [
        "n1 = float(input('Nota 1 (0 a 10): '))\n",
        "p1 = int(input('Peso 1: '))\n",
        "n2 = float(input('\\nNota 2 (0 a 10): '))\n",
        "p2 = int(input('Peso 2: '))\n",
        "mp = (n1 * p1 + n2 * p2) / (p1 + p2)\n",
        "print(f'\\nMédia ponderada = {mp:.1f}')"
      ],
      "metadata": {
        "id": "dXayUw5wKAAd",
        "colab": {
          "base_uri": "https://localhost:8080/"
        },
        "outputId": "1a15c80f-c1ea-4310-8315-29547f488dbd"
      },
      "execution_count": null,
      "outputs": [
        {
          "output_type": "stream",
          "name": "stdout",
          "text": [
            "Nota 1 (0 a 10): 5\n",
            "Peso 1: 3\n",
            "\n",
            "Nota 2 (0 a 10): 7\n",
            "Peso 2: 2\n",
            "\n",
            "Média ponderada = 5.8\n"
          ]
        }
      ]
    },
    {
      "cell_type": "markdown",
      "metadata": {
        "id": "xIaK6uOMPLNK"
      },
      "source": [
        "> ### `5.` Uma empresa paga aos seus funcionários um salário fixo mais uma comissão de 7,5% sobre as vendas realizadas por cada funcionário. Sabendo disso, crie um programa para ler o `salário fixo` e o `valor das vendas` de um funcionário e, após as leituras, calcular e mostrar a comissão sobre as vendas e o salário final desse funcionário."
      ]
    },
    {
      "cell_type": "code",
      "source": [
        "fixo = float(input('Salário fixo: R$ '))\n",
        "vendas = float(input('\\nTotal de vendas: R$ '))\n",
        "com = 7.5 / 100 * vendas\n",
        "final = fixo + com\n",
        "print(f'\\nComissão sobre as vendas = R$ {com:.2f}')\n",
        "print(f'\\nSalário final = R$ {fixo:.2f} + R$ {com:.2f} = R$ {final:.2f}')"
      ],
      "metadata": {
        "id": "oOda9dr7KD1V",
        "colab": {
          "base_uri": "https://localhost:8080/"
        },
        "outputId": "39569439-495c-41ea-9b5d-2f255b62754e"
      },
      "execution_count": null,
      "outputs": [
        {
          "output_type": "stream",
          "name": "stdout",
          "text": [
            "Salário fixo: R$ 5000\n",
            "\n",
            "Total de vendas: R$ 100000\n",
            "\n",
            "Comissão sobre as vendas = R$ 7500.00\n",
            "\n",
            "Salário final = R$ 5000.00 + R$ 7500.00 = R$ 12500.00\n"
          ]
        }
      ]
    },
    {
      "cell_type": "markdown",
      "metadata": {
        "id": "XQtu4pLVUU9y"
      },
      "source": [
        "> ### `6.` Crie um programa para ler os valores dos `catetos` de um triângulo retângulo e, após a leitura, calcular e mostrar o valor da hipotenusa. \n",
        "### `Obs.`: use Pitágoras para calcular.\n",
        "### $h = \\sqrt{ca^2 + cb^2}$"
      ]
    },
    {
      "cell_type": "code",
      "source": [
        "from math import sqrt # sqrt é a função que calcula a raiz quadrada\n",
        "\n",
        "ca = float(input('Cateto A: '))\n",
        "cb = float(input('\\nCateto B: '))\n",
        "h = sqrt(ca ** 2 + cb ** 2)\n",
        "print(f'\\nHipotenusa = {h:.3f}')"
      ],
      "metadata": {
        "id": "XPPrny-x2Jn8",
        "colab": {
          "base_uri": "https://localhost:8080/"
        },
        "outputId": "059aefd9-f2e3-4a69-fd9a-2fd3858002c2"
      },
      "execution_count": null,
      "outputs": [
        {
          "output_type": "stream",
          "name": "stdout",
          "text": [
            "Cateto A: 3\n",
            "\n",
            "Cateto B: 4\n",
            "\n",
            "Hipotenusa = 5.000\n"
          ]
        }
      ]
    },
    {
      "cell_type": "markdown",
      "metadata": {
        "id": "NIrxGjsWHO65"
      },
      "source": [
        "> ### `7.` Uma escada está apoiada no chão formando um ângulo `a` e há uma distância `d` da parede. A parede forma um ângulo de 90º com o chão. Sabendo disso, crie um programa para ler os valores de `a` (graus) e `d` (metros), calcular e mostrar o comprimento da escada (`c`).\n",
        "\n",
        "    |\\\n",
        "    | \\\n",
        "    |  \\\n",
        "    |   \\                      d\n",
        "    |    \\ c         cos a = -----  ->  c = d / cos a\n",
        "    |     \\                    c\n",
        "    |      \\\n",
        "    |_      \\\n",
        "    |.|    a \\\n",
        "    -----------\n",
        "         d\n"
      ]
    },
    {
      "cell_type": "code",
      "source": [
        "from math import cos, radians\n",
        "\n",
        "a = float(input('Ângulo (graus): '))\n",
        "d = float(input('\\nDistância (m): '))\n",
        "c = d / cos(radians(a))\n",
        "print(f'\\nComprimento da escada = {c:.1f} m')"
      ],
      "metadata": {
        "colab": {
          "base_uri": "https://localhost:8080/"
        },
        "id": "o4MQLxY38VTf",
        "outputId": "9adb84af-3c75-4e05-bfae-66fcd483885c"
      },
      "execution_count": null,
      "outputs": [
        {
          "output_type": "stream",
          "name": "stdout",
          "text": [
            "Ângulo (graus): 60\n",
            "\n",
            "Distância (m): 2\n",
            "\n",
            "Comprimento da escada = 4.0 m\n"
          ]
        }
      ]
    },
    {
      "cell_type": "markdown",
      "metadata": {
        "id": "EHOVAyMEN4fX"
      },
      "source": [
        "> ### `8.` Crie um programa para ler uma certa quantidade de `dias`, `horas`, `minutos` e `segundos` (o usuário fornece). Após as leituras, calcular e mostrar a qtde total de segundos contidos nesses valores."
      ]
    },
    {
      "cell_type": "code",
      "source": [
        "d = int(input('Dias: '))\n",
        "h = int(input('\\nHoras: '))\n",
        "m = int(input('\\nMinutos: '))\n",
        "s = int(input('\\nSegundos: '))\n",
        "ts = s + m * 60 + h * 60 * 60 + d * 24 * 60 * 60\n",
        "print(f'\\nTotal de segundos = {ts}')"
      ],
      "metadata": {
        "colab": {
          "base_uri": "https://localhost:8080/"
        },
        "id": "MbRTClKlGpus",
        "outputId": "39ab4910-432f-48fe-e92a-1887e589f818"
      },
      "execution_count": null,
      "outputs": [
        {
          "output_type": "stream",
          "name": "stdout",
          "text": [
            "Dias: 1\n",
            "\n",
            "Horas: 1\n",
            "\n",
            "Minutos: 1\n",
            "\n",
            "Segundos: 1\n",
            "\n",
            "Total de segundos = 90061\n"
          ]
        }
      ]
    },
    {
      "cell_type": "markdown",
      "metadata": {
        "id": "zqwaq3cdO7wp"
      },
      "source": [
        "> ### `9.` Crie um programa para ler o `tamanho` de um arquivo em GBytes e a `velocidade` de download de uma rede em Mbits por segundo. Após as leituras, calcular e mostrar o tempo gasto (minutos e segundos) para transferir o arquivo pela rede.\n",
        "- ### 1 Byte = 8 bits\n",
        "- ### 1 GByte = 1024 MBytes\n",
        "### **Testes para validação do cálculo:**\n",
        "- ### `Tamanho`: 1 GB ; `Velocidade`: 300 Mb/s ; `Resultado`: 0 min e 27 seg\n",
        "- ### `Tamanho`: 30 GB ; `Velocidade`: 100 Mb/s ; `Resultado`: 40 min e 57 seg\n"
      ]
    },
    {
      "cell_type": "code",
      "source": [
        "tam = int(input('Tamanho do arquivo (GByte): '))\n",
        "vel = int(input('\\nVelocidade da rede (Mbit/s): '))\n",
        "tam_mb = tam * 1024 * 8 # converte o tamanho em Mbit\n",
        "ts = tam_mb // vel # tempo em segundos (apenas o valor inteiro para descartar os décimos de seg)\n",
        "tm = ts // 60 # calcula os minutos\n",
        "ts %= 60 # calcula os segundos que restaram (ts = ts % 60)\n",
        "print(f'\\nTempo gasto de download = {tm} min e {ts} seg')"
      ],
      "metadata": {
        "id": "hiBPlgpnMG2T",
        "colab": {
          "base_uri": "https://localhost:8080/"
        },
        "outputId": "41c716f6-7d0a-427b-f51c-b94226748964"
      },
      "execution_count": null,
      "outputs": [
        {
          "output_type": "stream",
          "name": "stdout",
          "text": [
            "Tamanho do arquivo (GByte): 30\n",
            "\n",
            "Velocidade da rede (Mbit/s): 100\n",
            "\n",
            "Tempo gasto de download = 40 min e 57 seg\n"
          ]
        }
      ]
    },
    {
      "cell_type": "markdown",
      "source": [
        "> ### `10.` Crie um programa para ler uma qtde qualquer de `segundos` e converter para **dias**, **horas**, **minutos** e **segundos** restantes."
      ],
      "metadata": {
        "id": "t40zHEic40vb"
      }
    },
    {
      "cell_type": "code",
      "source": [
        "s = int(input('Total de segundos: '))\n",
        "m = s // 60\n",
        "s %= 60\n",
        "h = m // 60\n",
        "m %= 60\n",
        "d = h // 24\n",
        "h %= 24\n",
        "print(f'\\n{d} dias, {h} horas, {m} minutos e {s} segundos')\n",
        "\n",
        "# Avaliação até aqui!\n",
        "# Programa da Avaliação: Python Replit\n",
        "# Usar um bloco de notas para salvar um código / \"Fazer um backup em caso de perda\""
      ],
      "metadata": {
        "colab": {
          "base_uri": "https://localhost:8080/"
        },
        "id": "wlqG-Fus5LLy",
        "outputId": "440343f1-a663-46bf-c8cf-e93956f4735d"
      },
      "execution_count": null,
      "outputs": [
        {
          "output_type": "stream",
          "name": "stdout",
          "text": [
            "Total de segundos: 90061\n",
            "\n",
            "1 dias, 1 horas, 1 minutos e 1 segundos\n"
          ]
        }
      ]
    },
    {
      "cell_type": "markdown",
      "source": [
        "### Correção da PRIMEIRA PARTE da prova A2"
      ],
      "metadata": {
        "id": "QJHOLHG5D6OT"
      }
    },
    {
      "cell_type": "code",
      "source": [
        "# Questão 1\n",
        "\n",
        "from math import sqrt\n",
        "\n",
        "raio = float(input('Raio: '))\n",
        "dist = float(input('Distância: '))\n",
        "a = 2 * 3.1415 * raio ** 2 + 10\n",
        "v = sqrt(5 / (dist * raio) + a)\n",
        "print(f'A = {a}\\nV = {v}')"
      ],
      "metadata": {
        "colab": {
          "base_uri": "https://localhost:8080/"
        },
        "id": "KsjX_5Xr7gGp",
        "outputId": "599970bb-12b0-49fd-b07d-4a38fb0c13f7"
      },
      "execution_count": null,
      "outputs": [
        {
          "output_type": "stream",
          "name": "stdout",
          "text": [
            "Raio: 10\n",
            "Distância: 10\n",
            "A = 638.3000000000001\n",
            "V = 25.265589247037166\n"
          ]
        }
      ]
    },
    {
      "cell_type": "code",
      "source": [
        "# Questão 2\n",
        "\n",
        "from math import ceil\n",
        "\n",
        "area = float(input('Área: '))\n",
        "qlatas = ceil(area / 3 / 18)\n",
        "custo = qlatas * 120\n",
        "print(f'Qtde de latas = {qlatas}\\nCusto = R$ {custo:.2f}')"
      ],
      "metadata": {
        "colab": {
          "base_uri": "https://localhost:8080/"
        },
        "id": "sdrAuRFf7mAg",
        "outputId": "a461516a-c9ec-48df-f60d-567c1d14ada1"
      },
      "execution_count": null,
      "outputs": [
        {
          "output_type": "stream",
          "name": "stdout",
          "text": [
            "Área: 360\n",
            "Qtde de latas = 7\n",
            "Custo = R$ 840.00\n"
          ]
        }
      ]
    },
    {
      "cell_type": "markdown",
      "metadata": {
        "id": "hijP9Q12HNJW"
      },
      "source": [
        "> # **Estrutura Lógica Condicional**\n",
        "---\n",
        "---"
      ]
    },
    {
      "cell_type": "markdown",
      "metadata": {
        "id": "PL-G_qmOJzyz"
      },
      "source": [
        "> ## **Algoritmo** (Livro: Fundamentos da Programação de Computadores):\n",
        "---\n",
        "\n",
        "    se ? então     SIMPLES        ? : condição\n",
        "    início\n",
        "        ...   VERDADEIRO\n",
        "    fim\n",
        "\n",
        "    se ? então     COMPOSTO       ? : condição\n",
        "    início\n",
        "        ...   VERDADEIRO\n",
        "    fim\n",
        "    senão\n",
        "    início\n",
        "        ...   FALSO\n",
        "    fim"
      ]
    },
    {
      "cell_type": "markdown",
      "metadata": {
        "id": "E80HoQzlKQ1Q"
      },
      "source": [
        " > ## **Linguagem `Python`:** o deslocamento para direita (Tab) inicia um bloco de comandos e o retorno para a coluna à esquerda finaliza o bloco.\n",
        " ---\n",
        "\n",
        "    if ?:       >> Comando condicional SIMPLES\n",
        "        ...\n",
        "        ...\n",
        "\n",
        "    if ?:       >> Comando condicional COMPOSTO\n",
        "        ...\n",
        "        ...\n",
        "    else:\n",
        "        ...\n",
        "        ...\n",
        "\n",
        "\n",
        "> ### `?` : condição (V ou F)."
      ]
    },
    {
      "cell_type": "markdown",
      "metadata": {
        "id": "UNXFis5JOmwU"
      },
      "source": [
        "> ## **`Condição` (`?`):**\n",
        "---\n",
        "- ## Expressão que resulta sempre em **V** ou **F** (True ou False)."
      ]
    },
    {
      "cell_type": "markdown",
      "metadata": {
        "id": "cH22o2Y1Pe7L"
      },
      "source": [
        "> ## **Operadores relacionais:**\n",
        "---\n",
        "\n",
        "- ## Algoritmo: < <= > >= = <> (diferente).\n",
        "- ## Python: `<` `<=` `>` `>=` `==` `!=`"
      ]
    },
    {
      "cell_type": "markdown",
      "metadata": {
        "id": "RRA49rGMQury"
      },
      "source": [
        "> ### **Exemplos:**\n",
        "\n",
        "### `a == 0`\n",
        "### `nota >= 6`\n",
        "### `salario != 5000.0`\n",
        "### `x < 0`\n",
        "### `sqrt(w) >= 10 - y`\n"
      ]
    },
    {
      "cell_type": "markdown",
      "metadata": {
        "id": "k6_Qh36ERwzV"
      },
      "source": [
        "> ## **Operadores Lógicos:**\n",
        "---\n",
        "\n",
        "- ### Condições compostas: duas ou mais condições.\n",
        "\n",
        "- ## Algoritmo: e ou não (negação)\n",
        "- ## Python: `and` `or` `not`"
      ]
    },
    {
      "cell_type": "markdown",
      "metadata": {
        "id": "qzDV85e5Tah0"
      },
      "source": [
        "> ## Tabela Verdade - `and`\n",
        "---\n",
        "Condição 1 | Condição 2 | `AND`\n",
        "- | - | -\n",
        "F | F | F\n",
        "F | V | F\n",
        "V | F | F\n",
        "V | V | V"
      ]
    },
    {
      "cell_type": "markdown",
      "metadata": {
        "id": "upPXJyjJUUJJ"
      },
      "source": [
        "> ## Tabela Verdade - `or`\n",
        "---\n",
        "Condição 1 | Condição 2 | `OR`\n",
        "- | - | -\n",
        "F | F | F\n",
        "F | V | V\n",
        "V | F | V\n",
        "V | V | V"
      ]
    },
    {
      "cell_type": "markdown",
      "metadata": {
        "id": "2c3W340eUtZg"
      },
      "source": [
        "> ## Tabela Verdade - `not`\n",
        "---\n",
        "Condição | `NOT`\n",
        "- | -\n",
        "F | V\n",
        "V | F\n"
      ]
    },
    {
      "cell_type": "markdown",
      "metadata": {
        "id": "HPCcTAYPVGRB"
      },
      "source": [
        "> ### **Exemplos:**\n",
        "\n",
        "### `a >= 0 and a <= 10`\n",
        "### `a < 0 or a > 10`\n",
        "### `not (a >= 0 and a <= 10)`\n",
        "### `not (a < 0 and (x != 2 or d == -1) and nota != 10)`"
      ]
    },
    {
      "cell_type": "markdown",
      "metadata": {
        "id": "k6wOcJ7wWrLc"
      },
      "source": [
        "> ## **Prioridade (ou precedência) de Operadores:**\n",
        "\n",
        "[https://www.inf.pucrs.br/flash/algfis/aulas/selecao/build/selecao/PrecedenceofOperators.html](https://www.inf.pucrs.br/flash/algfis/aulas/selecao/build/selecao/PrecedenceofOperators.html)\n"
      ]
    },
    {
      "cell_type": "markdown",
      "metadata": {
        "id": "w5TmTOMFZtOr"
      },
      "source": [
        "> ## **Exercícios:**\n",
        "---\n",
        "---"
      ]
    },
    {
      "cell_type": "markdown",
      "metadata": {
        "id": "hq3ZRq2YaGQo"
      },
      "source": [
        "> ### `1.` Crie um programa para ler `2 notas`, calcular e mostrar a média aritmética e informar se o aluno foi aprovado ou reprovado (média mínima = 6.0). Mostrar também uma mensagem de 'Parabéns!', caso ele tenha uma média igual a 10."
      ]
    },
    {
      "cell_type": "code",
      "metadata": {
        "colab": {
          "base_uri": "https://localhost:8080/"
        },
        "id": "RAgU7Ngxbhr1",
        "outputId": "59bc8564-fb5d-4bb0-8fc5-c9f0f3b304ba"
      },
      "source": [
        "n1 = float(input('Nota 1 (0 a 10): '))\n",
        "n2 = float(input('\\nNota 2 (0 a 10): '))\n",
        "ma = (n1 + n2) / 2\n",
        "print(f'\\nMédia final = {ma:.1f}')\n",
        "\n",
        "if ma >= 6:\n",
        "    print('\\nAPROVADO!!!', end='') # end='' impede que o print vá para a próxima linha\n",
        "    if ma == 10:\n",
        "        print('  PARABÉNS!!!')\n",
        "\n",
        "else:\n",
        "    print('\\nREPROVADO!!!')"
      ],
      "execution_count": null,
      "outputs": [
        {
          "output_type": "stream",
          "name": "stdout",
          "text": [
            "Nota 1 (0 a 10): 5\n",
            "\n",
            "Nota 2 (0 a 10): 10\n",
            "\n",
            "Média final = 7.5\n",
            "\n",
            "APROVADO!!!"
          ]
        }
      ]
    },
    {
      "cell_type": "markdown",
      "metadata": {
        "id": "W8A1MoY0NuNz"
      },
      "source": [
        "> ### `2.` Criar um programa para ler `3 valores` inteiros e, após as leituras, mostrar o menor e o maior valor entre os 3."
      ]
    },
    {
      "cell_type": "markdown",
      "source": [
        "\n",
        "\n",
        "*   Resolvendo apenas com if (Primeira parte, do menor)\n",
        "\n",
        "*   Resolvendo com if & else (Segunda parte, do maior - Solução do Professor)\n",
        "\n",
        "\n",
        "\n",
        "\n"
      ],
      "metadata": {
        "id": "ekpLb1xzn9U3"
      }
    },
    {
      "cell_type": "code",
      "source": [
        "x = int(input('Digite o primeiro valor inteiro: '))\n",
        "y = int(input('Digite o segundo valor inteiro: '))\n",
        "z = int(input('Digite o terceiro valor inteiro: '))\n",
        "\n",
        "# Número menor\n",
        "if x <= y and x <= z:\n",
        "    menor = x\n",
        "\n",
        "if y <= x and y <= z:\n",
        "    menor = y\n",
        "\n",
        "if z <= x and z <= y:\n",
        "    menor = z\n",
        "\n",
        "print(f'\\nO número {menor} é o menor!')\n",
        "\n",
        "# Número maior\n",
        "if x >= y and x >= z:\n",
        "    maior = x\n",
        "else:\n",
        "    if y >= z:  # Poderíamos juntar as linhas 20 e 21 em um elif, pois estamos usando um if seguido de um else (else -> if)\n",
        "        maior = y\n",
        "    else:\n",
        "        maior = z\n",
        "\n",
        "print(f'\\nO número {maior} é o maior!')"
      ],
      "metadata": {
        "colab": {
          "base_uri": "https://localhost:8080/"
        },
        "id": "RampV6vGJZyB",
        "outputId": "6a229e40-2ca3-4f8c-e552-284374201dc8"
      },
      "execution_count": null,
      "outputs": [
        {
          "output_type": "stream",
          "name": "stdout",
          "text": [
            "Digite o primeiro valor inteiro: 8\n",
            "Digite o segundo valor inteiro: 8\n",
            "Digite o terceiro valor inteiro: 2\n",
            "\n",
            "O número 2 é o menor!\n",
            "\n",
            "O número 8 é o maior!\n"
          ]
        }
      ]
    },
    {
      "cell_type": "markdown",
      "source": [
        "\n",
        "*   Resolvendo com if, elif e else\n"
      ],
      "metadata": {
        "id": "aH7c1YPEoMwu"
      }
    },
    {
      "cell_type": "code",
      "source": [
        "x = int(input('Digite o primeiro valor inteiro: '))\n",
        "y = int(input('Digite o segundo valor inteiro: '))\n",
        "z = int(input('Digite o terceiro valor inteiro: '))\n",
        "\n",
        "# Número menor\n",
        "if x < y and x < z:\n",
        "    print(f'\\nO número {x} é o menor!') \n",
        "\n",
        "elif y < z:\n",
        "    print(f'\\nO número {y} é o menor!')\n",
        "\n",
        "else:\n",
        "    print(f'\\nO número {z} é o menor!')\n",
        "\n",
        "# Número maior\n",
        "if x > y and x > z:\n",
        "    print(f'\\nO número {x} é o maior!')\n",
        "\n",
        "elif y > z:\n",
        "    print(f'\\nO número {y} é o maior!')\n",
        "\n",
        "else:\n",
        "    print(f'\\nO número {z} é o maior!')"
      ],
      "metadata": {
        "colab": {
          "base_uri": "https://localhost:8080/"
        },
        "id": "hZmexs3GQhv4",
        "outputId": "0262cfaf-1f51-49f7-d085-4ea6878507e2"
      },
      "execution_count": null,
      "outputs": [
        {
          "output_type": "stream",
          "name": "stdout",
          "text": [
            "Digite o primeiro valor inteiro: 10\n",
            "Digite o segundo valor inteiro: 10\n",
            "Digite o terceiro valor inteiro: 10\n",
            "\n",
            "O número 10 é o menor!\n",
            "\n",
            "O número 10 é o maior!\n"
          ]
        }
      ]
    },
    {
      "cell_type": "markdown",
      "source": [
        "\n",
        "\n",
        "*  Brincando e criando um código com mais coisas\n"
      ],
      "metadata": {
        "id": "Z-dhUvH2oVE9"
      }
    },
    {
      "cell_type": "code",
      "source": [
        "1# Resolvendo com listas\n",
        "while True:\n",
        "    x = y = z = 0\n",
        "    try:\n",
        "        x = int(input('Digite o primeiro valor inteiro: '))\n",
        "        y = int(input('Digite o segundo valor inteiro: '))\n",
        "        z = int(input('Digite o terceiro valor inteiro: '))\n",
        "        break\n",
        "    except:\n",
        "        print('\\nVocê não digitou valores válidos! \\nOs valores precisam ser números inteiros \\n')\n",
        "\n",
        "numeros = [x, y, z]\n",
        "numeros.sort()\n",
        "print(f'\\nO menor número é o {numeros[0]} e o maior é o {numeros[2]}')"
      ],
      "metadata": {
        "colab": {
          "base_uri": "https://localhost:8080/"
        },
        "id": "XH_92z_xkKd-",
        "outputId": "fd12b1a4-60d1-44dd-be6b-dec940551d56"
      },
      "execution_count": null,
      "outputs": [
        {
          "output_type": "stream",
          "name": "stdout",
          "text": [
            "Digite o primeiro valor inteiro: 1\n",
            "Digite o segundo valor inteiro: \n",
            "\n",
            "Você não digitou valores válidos! \n",
            "Os valores precisam ser números inteiros \n",
            "\n",
            "Digite o primeiro valor inteiro: 1\n",
            "Digite o segundo valor inteiro: 1\n",
            "Digite o terceiro valor inteiro: 1\n",
            "\n",
            "O menor número que é o 1 e o maior é o 1\n"
          ]
        }
      ]
    },
    {
      "cell_type": "markdown",
      "metadata": {
        "id": "96MckkghYqUv"
      },
      "source": [
        "> ### `3.` Criar um programa para ler `3 valores` inteiros e, após as leituras, mostrar o menor e o maior valor digitado pelo usuário, seguindo as regras:\n",
        "\n",
        "- ### Usar apenas `if` (NÃO pode usar `else`, nem `elif`).\n",
        "- ### NÃO pode usar o operador lógico `and`."
      ]
    },
    {
      "cell_type": "code",
      "source": [
        "x = int(input('Digite o primeiro valor inteiro: '))\n",
        "y = int(input('Digite o segundo valor inteiro: '))\n",
        "z = int(input('Digite o terceiro valor inteiro: '))\n",
        "\n",
        "# Número menor\n",
        "if x <= y:\n",
        "    if x <= z:\n",
        "        print(f'\\nO número {x} é o menor!') \n",
        "\n",
        "if y <= x:\n",
        "    if y <= z:\n",
        "        print(f'\\nO número {y} é o menor!')\n",
        "\n",
        "if z <= x:\n",
        "    if z <= y:\n",
        "        print(f'\\nO número {z} é o menor!')\n",
        "\n",
        "# Número maior\n",
        "maior = x\n",
        "if y > maior:\n",
        "    maior = y\n",
        "if z > maior:\n",
        "    maior = z\n",
        "print(f'O número {maior} é o maior!')"
      ],
      "metadata": {
        "colab": {
          "base_uri": "https://localhost:8080/"
        },
        "id": "GEeRAae_ogGs",
        "outputId": "f24777c2-74bc-496d-abe6-90e6ced70025"
      },
      "execution_count": null,
      "outputs": [
        {
          "output_type": "stream",
          "name": "stdout",
          "text": [
            "Digite o primeiro valor inteiro: 8\n",
            "Digite o segundo valor inteiro: 5\n",
            "Digite o terceiro valor inteiro: 2\n",
            "\n",
            "O número 2 é o menor!\n",
            "O número 8 é o maior!\n"
          ]
        }
      ]
    },
    {
      "cell_type": "markdown",
      "metadata": {
        "id": "uuN-VaRrapWf"
      },
      "source": [
        "> ### `4.` Criar um programa para ler um número inteiro qualquer e, após a leitura, mostrar se o número é PAR ou ÍMPAR."
      ]
    },
    {
      "cell_type": "code",
      "source": [
        "n = int(input('Digite um número: '))\n",
        "if n % 2 == 0:  # Verificar se n é múltiplo de 2 (resto da divisão por 2 é igual a zero) \n",
        "    print(f'{n} é PAR!')\n",
        "else:\n",
        "    print(f'{n} é ÍMPAR!')"
      ],
      "metadata": {
        "id": "38TNNgspBXHq",
        "colab": {
          "base_uri": "https://localhost:8080/"
        },
        "outputId": "386e662a-56da-401b-95fd-12911c1783ce"
      },
      "execution_count": null,
      "outputs": [
        {
          "output_type": "stream",
          "name": "stdout",
          "text": [
            "Digite um número: 7\n",
            "7 é ÍMPAR!\n"
          ]
        }
      ]
    },
    {
      "cell_type": "markdown",
      "metadata": {
        "id": "beBs-VSYN5pB"
      },
      "source": [
        "> ### `Observação`: o operador `%` pode ser usado para verificar se um número é múltiplo de qualquer outro número."
      ]
    },
    {
      "cell_type": "code",
      "metadata": {
        "colab": {
          "base_uri": "https://localhost:8080/"
        },
        "id": "1O_cJLipOFWy",
        "outputId": "ff651612-86fa-40db-e77e-b0f6fd808a9a"
      },
      "source": [
        "x = int(input('X: '))\n",
        "y = int(input('\\nY: '))\n",
        "\n",
        "if x % y == 0:\n",
        "    print(f'\\n{x} é múltiplo de {y}')\n",
        "else:\n",
        "    print(f'\\n{x} NÃO é múltiplo de {y}')"
      ],
      "execution_count": null,
      "outputs": [
        {
          "output_type": "stream",
          "name": "stdout",
          "text": [
            "X: 3425\n",
            "\n",
            "Y: 30\n",
            "\n",
            "3425 NÃO é múltiplo de 30\n"
          ]
        }
      ]
    },
    {
      "cell_type": "markdown",
      "metadata": {
        "id": "Q7oTTm6EbaBl"
      },
      "source": [
        "> ### `5.` Criar um programa para ler `2 valores` reais (float) e, caso o primeiro valor seja maior que o segundo, trocar os valores das duas variáveis e mostrar seus resultados."
      ]
    },
    {
      "cell_type": "code",
      "source": [
        "a = float(input('A = '))\n",
        "b = float(input('B = '))\n",
        "\n",
        "if a > b:\n",
        "    temporaria = a\n",
        "    a = b\n",
        "    b = temporaria\n",
        "\n",
        "# a, b = b, a  # \"Forma Python\" de trocar as variáveis - Com atribuição múltipla\n",
        "\n",
        "\n",
        "print(f'\\n A = {a} \\n B = {b}')\n",
        "\n",
        "# A atribuição múltipla é uma característica do Python, onde ele grava todas as variáveis do lado direito na memória, e só então substitui elas no lado esquerdo."
      ],
      "metadata": {
        "id": "bdUo_dXaFPrD",
        "colab": {
          "base_uri": "https://localhost:8080/"
        },
        "outputId": "9e1f2c0a-cd74-47e7-b045-37bd8a9f49fa"
      },
      "execution_count": null,
      "outputs": [
        {
          "output_type": "stream",
          "name": "stdout",
          "text": [
            "A = 5.3\n",
            "B = 5.2\n",
            "\n",
            " A = 5.2 \n",
            " B = 5.3\n"
          ]
        }
      ]
    },
    {
      "cell_type": "markdown",
      "metadata": {
        "id": "MX89SPPmZ3qn"
      },
      "source": [
        "> ### `6.` Criar um programa para ler `5 valores` inteiros e, após as leituras, calcular e mostrar a qtde de valores negativos entre os 5 valores.\n",
        "+ ### `Dica`: use um contador."
      ]
    },
    {
      "cell_type": "code",
      "source": [
        "a = int(input('Valor 1: '))\n",
        "b = int(input('Valor 2: '))\n",
        "c = int(input('Valor 3: '))\n",
        "d = int(input('Valor 4: '))\n",
        "e = int(input('Valor 5: '))\n",
        "\n",
        "cont = 0\n",
        "\n",
        "if a < 0:\n",
        "    cont += 1\n",
        "\n",
        "if b < 0:\n",
        "    cont += 1\n",
        "\n",
        "if c < 0:\n",
        "    cont += 1\n",
        "\n",
        "if d < 0:\n",
        "    cont += 1\n",
        "\n",
        "if e < 0:\n",
        "    cont += 1\n",
        "\n",
        "print(f'Você digitou {cont} números negativos!')"
      ],
      "metadata": {
        "id": "OXSMdwWdNtXb",
        "colab": {
          "base_uri": "https://localhost:8080/"
        },
        "outputId": "70418d9c-1416-4ebf-8120-89fec7eb175f"
      },
      "execution_count": null,
      "outputs": [
        {
          "output_type": "stream",
          "name": "stdout",
          "text": [
            "Valor 1: 7\n",
            "Valor 2: -8\n",
            "Valor 3: -5\n",
            "Valor 4: -2\n",
            "Valor 5: -3\n",
            "Você digitou 4 números negativos!\n"
          ]
        }
      ]
    },
    {
      "cell_type": "markdown",
      "metadata": {
        "id": "O7jxPzfPgQE3"
      },
      "source": [
        "> ### `7.` Criar um programa para ler a `distância` (em Km) e o `consumo` de combustível (em litros) de um carro ao percorrer um trajeto qualquer. Após as leituras, calcular e mostrar o consumo médio (em Km/litro) do carro e um aviso seguinto a tabela abaixo:\n",
        "Consumo Médio (Km/litro)|Aviso!\n",
        "-|-\n",
        "Abaixo de 8|Venda o carro!!\n",
        "Entre 8 e 14|Econômico!!\n",
        "Acima de 14|Super econômico!!\n",
        "\n",
        "<br>"
      ]
    },
    {
      "cell_type": "code",
      "source": [
        "d = float(input('Distância (Km): '))\n",
        "c = float(input('Consumo de combustível (L): '))\n",
        "\n",
        "m = d / c\n",
        "print(f'\\nO comsumo médio desse carro é de {m:.2f} Km/L')\n",
        "\n",
        "print('Aviso: ', end='')  # end é o que o programa coloca depois de executar o print. Sem nada, ele coloca \\n e pula uma linha. Para não pular linha: end=''\n",
        "if m < 8:\n",
        "    print('venda o carro!!')\n",
        "\n",
        "elif m <= 14:  # Se o if de cima é falso e o comando chegou até aqui, quer dizer que m>=8\n",
        "    print('econômico!!')\n",
        "\n",
        "else:\n",
        "    print('super Econômico!!')\n",
        "\n",
        "# Quando uma tabela tem dois lados e usamos o elif e else, não precisamos testar as \"duas pontas\""
      ],
      "metadata": {
        "id": "JZR-GgZ9Sg4i",
        "colab": {
          "base_uri": "https://localhost:8080/"
        },
        "outputId": "8551ef24-c6c1-4751-d37f-bb33ac8a6f61"
      },
      "execution_count": null,
      "outputs": [
        {
          "output_type": "stream",
          "name": "stdout",
          "text": [
            "Distância (Km): 30\n",
            "Consumo de combustível (L): 5\n",
            "\n",
            "O comsumo médio desse carro é de 6.00 Km/L\n",
            "Aviso: venda o carro!!\n"
          ]
        }
      ]
    },
    {
      "cell_type": "markdown",
      "metadata": {
        "id": "GLzIwiITgUbB"
      },
      "source": [
        "> ### `8.` Criar um programa para ler a `idade` (em anos) de um nadador e, após a leitura, mostrar sua categoria seguindo a tabela abaixo:\n",
        "Categoria|Idade (em anos)\n",
        "-|-\n",
        "NA|Abaixo de 5\n",
        "Infantil A|5 a 7\n",
        "Infantil B|8 a 10\n",
        "Juvenil A|11 a 14\n",
        "Juvenil B|15 a 18\n",
        "Senior|Acima de 18\n",
        "\n",
        "<br>"
      ]
    },
    {
      "cell_type": "code",
      "source": [
        "idade = int(input('Digite sua idade: '))\n",
        "\n",
        "if idade < 5:\n",
        "    categoria = 'NA'\n",
        "elif idade <= 7:\n",
        "    categoria = 'Infanti A'\n",
        "elif idade <= 10:\n",
        "    categoria = 'Infantil B'\n",
        "elif idade <= 14:\n",
        "    categoria = 'Juvenil A'\n",
        "elif idade <= 18:\n",
        "    categoria = 'Juvenil B'\n",
        "else:\n",
        "    categoria = 'Senior'\n",
        "\n",
        "print(f'Sua categoria de nadador é {categoria}')"
      ],
      "metadata": {
        "id": "In1g6lx5ShlB",
        "colab": {
          "base_uri": "https://localhost:8080/"
        },
        "outputId": "e60ba69c-26cf-4e8a-c186-ab96972479d8"
      },
      "execution_count": null,
      "outputs": [
        {
          "output_type": "stream",
          "name": "stdout",
          "text": [
            "Digite sua idade: 15\n",
            "Sua categoria de nadador é Juvenil B\n"
          ]
        }
      ]
    },
    {
      "cell_type": "markdown",
      "metadata": {
        "id": "QCW3WOkwNqwt"
      },
      "source": [
        "> ### `9.` Criar um programa para ler `3 valores` inteiros e, após as leituras, mostrá-los em ordem crescente."
      ]
    },
    {
      "cell_type": "code",
      "source": [
        "a = int(input('Valor 1: '))\n",
        "b = int(input('Valor 2: '))\n",
        "c = int(input('Valor 3: '))\n",
        "\n",
        "prim = a\n",
        "\n",
        "if b < a:\n",
        "    prim = b\n",
        "    if a < c:\n",
        "        seg = a\n",
        "        terc = c\n",
        "    else:\n",
        "        seg = c\n",
        "        terc = a\n",
        "                                           \n",
        "elif c < a:\n",
        "    prim = c\n",
        "    if a < b:\n",
        "        seg = a\n",
        "        terc = b\n",
        "    else:\n",
        "        seg = b\n",
        "        terc = a\n",
        "\n",
        "else:\n",
        "    if b < c:\n",
        "        seg = b\n",
        "        terc = c\n",
        "    else:\n",
        "        seg = c\n",
        "        terc = b \n",
        "\n",
        "print(f'Ordem crescente: {prim}, {seg}, {terc}')"
      ],
      "metadata": {
        "id": "YRAMH1r-Oj8Z",
        "colab": {
          "base_uri": "https://localhost:8080/"
        },
        "outputId": "b5ecd081-dc97-4c74-a168-596aa5ba43a8"
      },
      "execution_count": null,
      "outputs": [
        {
          "output_type": "stream",
          "name": "stdout",
          "text": [
            "Valor 1: 3\n",
            "Valor 2: 4\n",
            "Valor 3: 1\n",
            "Ordem crescente: 1, 3, 4\n"
          ]
        }
      ]
    },
    {
      "cell_type": "code",
      "source": [
        "# Resolução 1:\n",
        "\n",
        "a = int(input('Valor 1: '))\n",
        "b = int(input('Valor 2: '))\n",
        "c = int(input('Valor 3: '))\n",
        "\n",
        "if a < b and a < c:  # a é menor\n",
        "    if b < c:\n",
        "        print(f'{a}, {b}, {c}')\n",
        "    else:\n",
        "        print(f'{a}, {c}, {b}')\n",
        "\n",
        "elif b < c:  # b é menor\n",
        "    if a < c:\n",
        "        print(f'{b}, {a}, {c}')\n",
        "    else:\n",
        "        print(f'{b}, {c}, {a}')\n",
        " \n",
        "else:  # c é menor\n",
        "    if a < b:\n",
        "        print(f'{c}, {a}, {b}')\n",
        "    else:\n",
        "        print(f'{c}, {b}, {a}')\n",
        "\n",
        "# # Resolução 2:\n",
        "# if a < b and b < c:\n",
        "#     print(f'{a}, {b}, {c}')\n",
        "\n",
        "# elif a < c and c < b:\n",
        "#     print(f'{a}, {c}, {b}')\n",
        "\n",
        "# ..."
      ],
      "metadata": {
        "colab": {
          "base_uri": "https://localhost:8080/"
        },
        "outputId": "84558352-3f95-4edf-f03d-45b5bead506f",
        "id": "Cw8aYCdtcQUl"
      },
      "execution_count": null,
      "outputs": [
        {
          "output_type": "stream",
          "name": "stdout",
          "text": [
            "Valor 1: 3\n",
            "Valor 2: 4\n",
            "Valor 3: 1\n",
            "1, 3, 4\n"
          ]
        }
      ]
    },
    {
      "cell_type": "markdown",
      "metadata": {
        "id": "dAX9a3JPOScf"
      },
      "source": [
        "> ### `Outra forma`: fazer o mesmo que foi pedido no exercício `9` usando apenas `3 if's` (sem else ou elif)."
      ]
    },
    {
      "cell_type": "code",
      "source": [
        "# Minha resolução:\n",
        "\n",
        "a = int(input(\"Primeiro valor: \"))\n",
        "b = int(input(\"Segundo valor: \"))\n",
        "c = int(input(\"Terceiro valor: \"))\n",
        "\n",
        "if a > b:\n",
        "    temp = a\n",
        "    a = b\n",
        "    b = temp\n",
        "\n",
        "if a > c:\n",
        "    temp = a\n",
        "    a = c\n",
        "    c = temp\n",
        "\n",
        "if b > c:\n",
        "    temp = b\n",
        "    b = c\n",
        "    c = temp\n",
        "\n",
        "print(f\"\\nOrdem crescente: {a}, {b}, {c}\")"
      ],
      "metadata": {
        "colab": {
          "base_uri": "https://localhost:8080/"
        },
        "id": "mJoaJg_cMtcD",
        "outputId": "c67511fa-5ca5-430f-dc77-70afeaaf2cc0"
      },
      "execution_count": null,
      "outputs": [
        {
          "output_type": "stream",
          "name": "stdout",
          "text": [
            "Primeiro valor: 9\n",
            "Segundo valor: 5\n",
            "Terceiro valor: 7\n",
            "\n",
            "Ordem crescente: 5, 7, 9\n"
          ]
        }
      ]
    },
    {
      "cell_type": "code",
      "source": [
        "# Resolução do professor - BUBBLE SORT: Joga o maior da lista para a última posição\n",
        "\n",
        "a = int(input('A: '))\n",
        "b = int(input('\\nB: '))\n",
        "c = int(input('\\nC: '))\n",
        "\n",
        "ca, cb, cc = a, b, c # copiar para não perder os valores originais\n",
        "\n",
        "if ca > cb:\n",
        "    ca, cb = cb, ca\n",
        "\n",
        "if cb > cc:\n",
        "    cb, cc = cc, cb\n",
        "\n",
        "if ca > cb:\n",
        "    ca, cb = cb, ca\n",
        "\n",
        "print(f'\\nOrdem decrescente: {ca}, {cb}, {cc}')"
      ],
      "metadata": {
        "id": "zZw1XiOiBNn-",
        "colab": {
          "base_uri": "https://localhost:8080/"
        },
        "outputId": "820ac677-14d6-4f4f-a728-92388963a899"
      },
      "execution_count": null,
      "outputs": [
        {
          "output_type": "stream",
          "name": "stdout",
          "text": [
            "A: 5\n",
            "\n",
            "B: 4\n",
            "\n",
            "C: 3\n",
            "\n",
            "Ordem decrescente: 3, 4, 5\n"
          ]
        }
      ]
    },
    {
      "cell_type": "code",
      "source": [
        "# Tentando recriar o bubble sort com qualquer quantidade de algarismos:\n",
        "\n",
        "print('Digite quais números você quer ordenar \\n')\n",
        "\n",
        "lista = []\n",
        "while True:\n",
        "    try:\n",
        "        x = int(input('Numero: '))\n",
        "        lista.append(x)\n",
        "    except:\n",
        "        break\n",
        "\n",
        "print(lista)\n",
        "for k in range(0, len(lista) -1, -1):\n",
        "    for i in range(0, k - 1):\n",
        "        print(k)\n",
        "        print(i)\n"
      ],
      "metadata": {
        "colab": {
          "base_uri": "https://localhost:8080/"
        },
        "id": "SInj1HVQC7hi",
        "outputId": "c1c2c6d2-2e7c-4ae0-c0ba-a39cc42c9591"
      },
      "execution_count": null,
      "outputs": [
        {
          "output_type": "stream",
          "name": "stdout",
          "text": [
            "Digite quais números você quer ordenar \n",
            "\n",
            "Numero: 8\n",
            "Numero: 9\n",
            "Numero: 6\n",
            "Numero: 7\n",
            "Numero: 2\n",
            "Numero: 4\n",
            "Numero: 3\n",
            "Numero: 1\n",
            "Numero: \n",
            "[8, 9, 6, 7, 2, 4, 3, 1]\n"
          ]
        }
      ]
    },
    {
      "cell_type": "markdown",
      "metadata": {
        "id": "cZHJxKEzhUN4"
      },
      "source": [
        "> ### `10.` Criar um programa para ler `3 valores` reais (float) e, após as leituras, verificar se os valores podem ou não formar um triângulo. Caso formem um triângulo, mostrar qual o seu tipo.\n",
        "- ### `Regra para formar um triângulo`: cada um dos lados deve ser menor que a soma dos outros dois lados.\n",
        "- ### Tipos: **`equilátero`** (3 lados iguais), **`isósceles`** (apenas 2 lados iguais) ou **`escaleno`** (3 lados diferentes)."
      ]
    },
    {
      "cell_type": "code",
      "source": [
        "a = float(input(\"Lado A: \"))\n",
        "b = float(input(\"Lado B: \"))\n",
        "c = float(input(\"Lado C: \"))\n",
        "\n",
        "if a < b + c and b < a + c and c < a + b:\n",
        "    if a == b and b == c:\n",
        "        tipo = \"equilátero\"\n",
        "    elif a != b and b != c and a != c:\n",
        "        tipo = \"escaleno\"\n",
        "    else:\n",
        "        tipo = \"isósceles\"\n",
        "\n",
        "    '''\n",
        "    Para testar o isósceles, podemos usar:\n",
        "    if a == b or b == c or a == c\n",
        "    Porém esse teste deve SEMPRE ficar depois do teste do equilátero, senão o triângulo equilátero vai dar isósceles também!\n",
        "    '''\n",
        "\n",
        "    print(f\"\\nEsse triângulo é {tipo}!\")\n",
        "\n",
        "else:\n",
        "    print(f\"\\nNão é possível formar um triângulo com esses valores!\")"
      ],
      "metadata": {
        "colab": {
          "base_uri": "https://localhost:8080/"
        },
        "id": "2v_QLZccNL81",
        "outputId": "9d3bc9e4-0b54-4d8b-b7ef-588cf91ceb06"
      },
      "execution_count": null,
      "outputs": [
        {
          "output_type": "stream",
          "name": "stdout",
          "text": [
            "Lado A: 5\n",
            "Lado B: 5\n",
            "Lado C: 6\n",
            "\n",
            "Esse triângulo é isósceles!\n"
          ]
        }
      ]
    },
    {
      "cell_type": "markdown",
      "metadata": {
        "id": "_kvWu9Dify20"
      },
      "source": [
        "> ### `11.` Criar um programa para ler a `idade` e o `tempo` de serviço de um trabalhador (em anos) e, após as leituras, mostrar uma mensagem informando se ele pode ou não se aposentar. As condições para aposentadoria são:\n",
        "+ ### Ter pelo menos 65 anos de idade.\n",
        "+ ### Ou ter trabalhado pelo menos 30 anos.\n",
        "+ ### Ou ter pelo menos 60 anos de idade e ter trabalhado pelo menos 25 anos."
      ]
    },
    {
      "cell_type": "code",
      "metadata": {
        "id": "GFEeA1R0hLBn",
        "colab": {
          "base_uri": "https://localhost:8080/"
        },
        "outputId": "7004c452-d348-4edb-caf3-4b35d9080b19"
      },
      "source": [
        "idade = int(input('Digite sua idade: '))\n",
        "tempo = int(input('Digite quantos anos você contribuiu: '))\n",
        "\n",
        "if (idade >= 65) or (tempo >= 30) or (idade >= 60 and tempo >= 25):\n",
        "    print('\\nVocê pode se aposentar! \\o/')\n",
        "    if tempo >= idade - 14:\n",
        "        print(f'\\nMentira, não pode não, mentiroso! \\nComo você trabalhou por {tempo} anos se você tem {idade} anos de idade?!')\n",
        "\n",
        "else:\n",
        "    print('\\nVocê ainda não pode se aposentar (T_T)')"
      ],
      "execution_count": null,
      "outputs": [
        {
          "output_type": "stream",
          "name": "stdout",
          "text": [
            "Digite sua idade: 40\n",
            "Digite quantos anos você contribuiu: 35\n",
            "\n",
            "Você pode se aposentar! \\o/\n",
            "\n",
            "Mentira, não pode não, mentiroso! \n",
            "Como você trabalhou por 35 anos se você tem 40 anos de idade?!\n"
          ]
        }
      ]
    },
    {
      "cell_type": "markdown",
      "metadata": {
        "id": "EbSgSEG2tXrP"
      },
      "source": [
        "> ### `12.` Criar um programa para ler a `altura` (m) e o `peso` (Kg) de uma pessoa e, após as leituras, mostrar a classificação dessa pessoa através da tabela abaixo:\n",
        "Altura||Peso||\n",
        ":-:|:-:|:-:|:-:\n",
        "|Até 60|Entre 60 e 90 (inclusive)|Acima de 90\n",
        "Abaixo de 1,2|A|D|G\n",
        "De 1,2 a 1,7|B|E|H\n",
        "Acima de 1,7|C|F|I\n",
        "\n",
        "<br>"
      ]
    },
    {
      "cell_type": "code",
      "metadata": {
        "id": "c-XaYEJDtcvW",
        "colab": {
          "base_uri": "https://localhost:8080/"
        },
        "outputId": "704632e6-f0fd-40bd-b7db-a769044b2761"
      },
      "source": [
        "# Até x -> o x entra! | Abaixo de x ou acima de x -> x não entra!\n",
        "\n",
        "p = float(input('Peso(Kg): '))\n",
        "h = float(input('Altura(m): '))\n",
        "\n",
        "if p <= 60:\n",
        "    if h < 1.2:\n",
        "        classe = 'A'\n",
        "    elif h <= 1.7:\n",
        "        classe = 'B'\n",
        "    else:\n",
        "        classe = 'C'\n",
        "\n",
        "elif p <= 90:\n",
        "    if h < 1.2:\n",
        "        classe = 'D'\n",
        "    elif h <= 1.7:\n",
        "        classe = 'E'\n",
        "    else:\n",
        "        classe = 'F'\n",
        "\n",
        "else:\n",
        "    if h < 1.2:\n",
        "        classe = 'G'\n",
        "    elif h <= 1.7:\n",
        "        classe = 'H'\n",
        "    else:\n",
        "        classe = 'I'\n",
        "\n",
        "print(f'\\nSua classe é: {classe}')   "
      ],
      "execution_count": null,
      "outputs": [
        {
          "output_type": "stream",
          "name": "stdout",
          "text": [
            "Peso(Kg): 91\n",
            "Altura(m): 1.8\n",
            "\n",
            "Sua classe é: I\n"
          ]
        }
      ]
    },
    {
      "cell_type": "markdown",
      "metadata": {
        "id": "7rOmG_Y0tcU3"
      },
      "source": [
        "> ### `13.` Criar um programa para ler `2 valores` reais (float) e, após as leituras, mostrar o menu de opções mostrado abaixo e ler a `escolha` do usuário. Após a escolha, calcular e mostrar o resultado da operação selecionada. Caso a opção escolhida seja inválida, mostrar uma mensagem ao usuário.\n",
        "### Exemplo de execução:\n",
        "    Opções:\n",
        "    1. Soma dos dois valores.\n",
        "    2. Diferença dos dois valores (maior - menor).\n",
        "    3. Multiplicação dos dois valores.\n",
        "    4. Divisão dos dois valores (1º pelo 2º).\n",
        "    Escolha:\n"
      ]
    },
    {
      "cell_type": "code",
      "source": [
        "from IPython.display import clear_output\n",
        "\n",
        "a = float(input('A: '))\n",
        "b = float(input('B: '))\n",
        "\n",
        "clear_output(True)\n",
        "print('\\nOpções: \\\n",
        "\\n1. Soma dos dois valores. \\\n",
        "\\n2. Diferença dos dois valores (maior - menor). \\\n",
        "\\n3. Multiplicação dos dois valores. \\\n",
        "\\n4. Divisão dos dois valores (1º pelo 2º).')\n",
        "\n",
        "x = int(input('\\nEscolha uma opção: '))\n",
        "\n",
        "if x == 1:\n",
        "    print(f'\\nA+B = {a+b}')\n",
        "    \n",
        "elif x == 2:\n",
        "    if a > b:\n",
        "        print(f'\\nA-B = {a-b}')\n",
        "    else:\n",
        "        print(f'\\nB-A = {b-a}')\n",
        "        \n",
        "elif x == 3:\n",
        "    print(f'\\nA*B = {a*b}')\n",
        "    \n",
        "elif x == 4:\n",
        "    print(f'\\nA/B = {a/b}')\n",
        "    \n",
        "else:\n",
        "    print(f'\\n{x} não é uma opção válida!')"
      ],
      "metadata": {
        "id": "dMSzS03SgXa9",
        "colab": {
          "base_uri": "https://localhost:8080/"
        },
        "outputId": "5a5a01fb-1602-4b09-bc89-447fedcbafd3"
      },
      "execution_count": null,
      "outputs": [
        {
          "output_type": "stream",
          "name": "stdout",
          "text": [
            "\n",
            "Opções: \n",
            "1. Soma dos dois valores. \n",
            "2. Diferença dos dois valores (maior - menor). \n",
            "3. Multiplicação dos dois valores. \n",
            "4. Divisão dos dois valores (1º pelo 2º).\n",
            "\n",
            "Escolha uma opção: 2\n",
            "\n",
            "B-A = 10.0\n"
          ]
        }
      ]
    },
    {
      "cell_type": "markdown",
      "metadata": {
        "id": "IbSiXvcqX8Mx"
      },
      "source": [
        "> ### `Extra`: Comando `switch` (exemplo em linguagem C, pois Python não possui o comando).\n",
        "---\n",
        "---"
      ]
    },
    {
      "cell_type": "code",
      "metadata": {
        "id": "kZUoYOaSXgty"
      },
      "source": [
        "switch (op)\n",
        "{\n",
        "    case 1:\n",
        "        printf('\\nOpcao 1');\n",
        "        break;\n",
        "    case 2:\n",
        "        printf('\\nOpcao 2');\n",
        "        break;\n",
        "    default:\n",
        "        printf('\\nOpcao invalida!!');\n",
        "}"
      ],
      "execution_count": null,
      "outputs": []
    },
    {
      "cell_type": "markdown",
      "metadata": {
        "id": "ujqaDA_hlvw6"
      },
      "source": [
        "> ### `14.` Criar um programa para ler uma `data` (dia, mês e ano) e, após a leitura, mostrar uma mensagem informando se a data é válida ou inválida."
      ]
    },
    {
      "cell_type": "code",
      "source": [
        "d, m, a = input('Data (dd/mm/aaaa): ').split('/')\n",
        "d, m, a = int(d), int(m), int(a)\n",
        "\n",
        "data = True  # \"data\" é a variável que indica se a data é válida ou não - FLAG\n",
        "\n",
        "if a < 1 or m < 1 or m > 12 or d < 1 or d > 31: # Teste para intervalos de valores não válidos. Ex: valores negativos, mês 13 ou maior etc\n",
        "    data = False\n",
        "\n",
        "elif (m == 4 or m == 6 or m == 9 or m == 11) and d > 30:  # Teste para os meses de 30 dias\n",
        "    data = False\n",
        "\n",
        "elif m == 2:\n",
        "    if a % 4 == 0:  # Ano bissexto é múltiplo de 4\n",
        "        if d > 29:\n",
        "            data = False\n",
        "    elif d > 28:  # Ano não bissexto\n",
        "        data = False\n",
        "\n",
        "if data:  # Mesma coisa que escrever \"if data == True\"\n",
        "    print('\\nVálida!!')\n",
        "else:\n",
        "    print('\\nInválida!!')\n",
        "\n",
        "# dia = int(input('Dia: '))\n",
        "# mes = int(input('Mês: '))\n",
        "# ano = int(input('Ano: '))\n",
        "\n",
        "# data = 'Válida'\n",
        "\n",
        "# if dia <= 0 or mes <=0 or ano <=0:\n",
        "#     data = 'Inválida'\n",
        "\n",
        "# if (ano % 100 == 0 and ano % 400 == 0) or (ano % 4 == 0):\n",
        "#     if mes == 2 and dia > 29:\n",
        "#         data = 'Inválida'\n",
        "\n",
        "# elif mes == 2 and dia > 28:\n",
        "#     data = 'Inválida'\n",
        "\n",
        "# print(f'{data}')"
      ],
      "metadata": {
        "id": "rE8xLAJLgXyb",
        "colab": {
          "base_uri": "https://localhost:8080/"
        },
        "outputId": "59da1b09-7e1e-486a-ee3f-5a71f1531427"
      },
      "execution_count": null,
      "outputs": [
        {
          "output_type": "stream",
          "name": "stdout",
          "text": [
            "Data (dd/mm/aaaa): 31/04/2022\n",
            "\n",
            "Inválida!!\n"
          ]
        }
      ]
    },
    {
      "cell_type": "markdown",
      "source": [
        "### Testando o meus exercícios da prova:"
      ],
      "metadata": {
        "id": "Yey2rvceIWVM"
      }
    },
    {
      "cell_type": "code",
      "source": [
        "a = float(input('A: '))\n",
        "b = float(input('B: '))\n",
        "c = float(input('C: '))\n",
        "d = float(input('D: '))\n",
        "\n",
        "if a < 0 and b < 0 and c < 0 and d < 0:\n",
        "    print('Nenhum valor válido')\n",
        "\n",
        "else:\n",
        "    soma = 0\n",
        "    n = 0\n",
        "\n",
        "    if a >= 0:\n",
        "        soma += a\n",
        "        n += 1\n",
        "\n",
        "    if b >= 0:\n",
        "        soma += b\n",
        "        n += 1\n",
        "    \n",
        "    if c >= 0:\n",
        "        soma += c\n",
        "        n += 1\n",
        "    \n",
        "    if d >= 0:\n",
        "        soma += d\n",
        "        n += 1\n",
        "    \n",
        "    media = soma / n\n",
        "    print(media)"
      ],
      "metadata": {
        "colab": {
          "base_uri": "https://localhost:8080/"
        },
        "id": "09lpQAXnXzbA",
        "outputId": "8dc5ba12-b2e5-40e0-c13b-f491ff75dc25"
      },
      "execution_count": null,
      "outputs": [
        {
          "output_type": "stream",
          "name": "stdout",
          "text": [
            "A: 0\n",
            "B: -5\n",
            "C: 2\n",
            "D: 2\n",
            "1.3333333333333333\n"
          ]
        }
      ]
    },
    {
      "cell_type": "code",
      "source": [
        "a = float(input('A: '))\n",
        "b = float(input('B: '))\n",
        "c = float(input('C: '))\n",
        "d = float(input('D: '))\n",
        "\n",
        "soma = n = 0\n",
        "\n",
        "if a >= 0:\n",
        "    soma += a\n",
        "    n += 1\n",
        "\n",
        "if b >= 0:\n",
        "    soma += b\n",
        "    n += 1\n",
        "\n",
        "if c >= 0:\n",
        "    soma += c\n",
        "    n += 1\n",
        "\n",
        "if d >= 0:\n",
        "    soma += d\n",
        "    n += 1\n",
        "\n",
        "if n == 0:\n",
        "    print('Nenhum valor válido')\n",
        "else:\n",
        "    media = soma / n\n",
        "    print(media)"
      ],
      "metadata": {
        "colab": {
          "base_uri": "https://localhost:8080/"
        },
        "id": "1XMxh-z9OEcA",
        "outputId": "8cc85bfd-c493-4b00-aec5-f4d79eadd5b5"
      },
      "execution_count": null,
      "outputs": [
        {
          "output_type": "stream",
          "name": "stdout",
          "text": [
            "A: 3\n",
            "B: 6\n",
            "C: -2\n",
            "D: 0\n",
            "3.0\n"
          ]
        }
      ]
    },
    {
      "cell_type": "markdown",
      "source": [
        "Ler 5 valores digitados pelo usuário e mostrar na tela quais são repetidos. Ao mostrar na tela os valores repetidos devem aparecer apenas uma vez."
      ],
      "metadata": {
        "id": "Xmbt-11cUY7y"
      }
    },
    {
      "cell_type": "code",
      "source": [
        "a = int(input('A: '))\n",
        "b = int(input('B: '))\n",
        "c = int(input('C: '))\n",
        "d = int(input('D: '))\n",
        "e = int(input('E: '))\n",
        "\n",
        "if a == b or a == c or a == d or a == e:\n",
        "    print(a)\n",
        "\n",
        "if (b == c or b == d or b == e) and b != a:\n",
        "    print(b)\n",
        "\n",
        "if (c == d or c == e) and c != a and c != b:\n",
        "    print(c)\n",
        "\n",
        "if d == e and d != a and d != b and d != c:\n",
        "    print(d)\n",
        "\n",
        "# Ou if dentro de if:\n",
        "    # Linha 10: if b == c or b == d or b == e:\n",
        "    #               if b != a:\n",
        "    #                   print(b)"
      ],
      "metadata": {
        "colab": {
          "base_uri": "https://localhost:8080/"
        },
        "id": "Ok8ajFHEU_aj",
        "outputId": "3d5aad96-ebf4-4ef3-f3b3-10c399f12488"
      },
      "execution_count": null,
      "outputs": [
        {
          "output_type": "stream",
          "name": "stdout",
          "text": [
            "A: 5\n",
            "B: 5\n",
            "C: 5\n",
            "D: 2\n",
            "E: 2\n",
            "5\n",
            "2\n"
          ]
        }
      ]
    },
    {
      "cell_type": "code",
      "source": [
        "from math import ceil\n",
        "\n",
        "L = float(input())\n",
        "C = float(input())\n",
        "\n",
        "P = 2*L + 2*C\n",
        "arame = 5*P\n",
        "rolos = arame / 250\n",
        "\n",
        "print(f'A quantidade de rolos necessária é: {rolos}. \\nArredondando para cima: {ceil(rolos)}')"
      ],
      "metadata": {
        "colab": {
          "base_uri": "https://localhost:8080/"
        },
        "id": "JQy-oixlmMIa",
        "outputId": "4b6cfc89-afb5-433a-9ab9-b6d87ae30e31"
      },
      "execution_count": null,
      "outputs": [
        {
          "output_type": "stream",
          "name": "stdout",
          "text": [
            "407.5\n",
            "720\n",
            "A quantidade de rolos necessária é: 45.1. \n",
            "Arredondando para cima: 46\n"
          ]
        }
      ]
    }
  ]
}